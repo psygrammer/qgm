{
 "cells": [
  {
   "cell_type": "markdown",
   "metadata": {},
   "source": [
    "# 2.2 The Postulates of Quantum Mechanics"
   ]
  },
  {
   "cell_type": "markdown",
   "metadata": {},
   "source": [
    "* 싸이그래머 : QGM - 양자정보 [1]\n",
    "* 김무성"
   ]
  },
  {
   "cell_type": "markdown",
   "metadata": {},
   "source": [
    "# Contents\n",
    "* 2.2.1 State space \n",
    "* 2.2.2 Evolution \n",
    "* 2.2.3 Quantum measurement\n",
    "* 2.2.4 Distinguishing quantum states\n",
    "* 2.2.5 Projective measurements\n",
    "* 2.2.6 POVM measurements\n",
    "* 2.2.7 Phase\n",
    "* 2.2.8 Composite systems\n",
    "* 2.2.9 Quantum mechanics: a global view"
   ]
  },
  {
   "cell_type": "markdown",
   "metadata": {},
   "source": [
    "<img src=\"figures/cap2.2.0.png\" width=600 />"
   ]
  },
  {
   "cell_type": "markdown",
   "metadata": {},
   "source": [
    "<img src=\"figures/cap2.2.1.png\" width=600 />"
   ]
  },
  {
   "cell_type": "markdown",
   "metadata": {},
   "source": [
    "<img src=\"figures/cap2.2.2.png\" width=600 />"
   ]
  },
  {
   "cell_type": "markdown",
   "metadata": {},
   "source": [
    "<img src=\"figures/cap2.2.3.png\" width=600 />"
   ]
  },
  {
   "cell_type": "markdown",
   "metadata": {},
   "source": [
    "#### 참고\n",
    "* [2] Postulates of Quantum Mechanics - http://www.ee.pdx.edu/~mperkows/CLASS_FUTURE/2005-quantum/2005-q-0035-Postulates-of-quantum-mechanics.ppt"
   ]
  },
  {
   "cell_type": "markdown",
   "metadata": {},
   "source": [
    "# 2.2.1 State space"
   ]
  },
  {
   "cell_type": "markdown",
   "metadata": {},
   "source": [
    "#### State space"
   ]
  },
  {
   "cell_type": "markdown",
   "metadata": {},
   "source": [
    "<img src=\"figures/cap2.2.4.png\" width=600 />"
   ]
  },
  {
   "cell_type": "markdown",
   "metadata": {},
   "source": [
    "#### 참고\n",
    "* [3] 함수해석학의 기초 개념들 : 벡터, 벡터공간, Functionals  - http://mathnmath.tistory.com/87\n",
    "* [4] [힐베르트 공간](http://www.babylon.com/definition/%ED%9E%90%EB%B2%A0%EB%A5%B4%ED%8A%B8%20%EA%B3%B5%EA%B0%84/)\n",
    "* [5] Vector : Hilbert Space (1) - http://blog.naver.com/defxgenh/50116847800\n",
    "* [6] Vector : Hilbert Space (2) - http://blog.naver.com/defxgenh/50116849140"
   ]
  },
  {
   "cell_type": "markdown",
   "metadata": {},
   "source": [
    "<img src=\"http://secure.tutorsglobe.com/CMSImages/1331_Functional%20Analysis%20Homework%20Help%201.jpg\" />"
   ]
  },
  {
   "cell_type": "markdown",
   "metadata": {},
   "source": [
    "#### qubit & state vector & normalization condition"
   ]
  },
  {
   "cell_type": "markdown",
   "metadata": {},
   "source": [
    "#### 참고\n",
    "* [0-1] [Newbie를 위한 양자역학 01_ 배경지식(상태함수와 확률밀도함수)](http://stementor.tistory.com/entry/Newbie%EB%A5%BC-%EC%9C%84%ED%95%9C-%EC%96%91%EC%9E%90%EC%97%AD%ED%95%99-01-%EB%B0%B0%EA%B2%BD%EC%A7%80%EC%8B%9D%EC%83%81%ED%83%9C%ED%95%A8%EC%88%98%EC%99%80-%ED%99%95%EB%A5%A0%EB%B0%80%EB%8F%84%ED%95%A8%EC%88%98)"
   ]
  },
  {
   "cell_type": "markdown",
   "metadata": {},
   "source": [
    "<img src=\"http://i.stack.imgur.com/Of40B.jpg\" />"
   ]
  },
  {
   "cell_type": "markdown",
   "metadata": {},
   "source": [
    "<img src=\"figures/cap2.2.24.png\" width=600 />\n",
    "<img src=\"figures/cap2.2.25.png\" width=600 />"
   ]
  },
  {
   "cell_type": "markdown",
   "metadata": {},
   "source": [
    "#### superposition"
   ]
  },
  {
   "cell_type": "markdown",
   "metadata": {},
   "source": [
    "<img src=\"figures/cap2.2.5.png\" width=600 />"
   ]
  },
  {
   "cell_type": "markdown",
   "metadata": {},
   "source": [
    "# 2.2.2 Evolution"
   ]
  },
  {
   "cell_type": "markdown",
   "metadata": {},
   "source": [
    "<font color=\"red\">How does the state, |ψ⟩, of a quantum mechanical system change with time?</font>"
   ]
  },
  {
   "cell_type": "markdown",
   "metadata": {},
   "source": [
    "#### evolution & unitary operators"
   ]
  },
  {
   "cell_type": "markdown",
   "metadata": {},
   "source": [
    "<img src=\"figures/cap2.2.6.png\" width=600 />"
   ]
  },
  {
   "cell_type": "markdown",
   "metadata": {},
   "source": [
    "#### example : Hadamard gate"
   ]
  },
  {
   "cell_type": "markdown",
   "metadata": {},
   "source": [
    "<img src=\"figures/cap2.2.7.png\" width=600 />"
   ]
  },
  {
   "cell_type": "markdown",
   "metadata": {},
   "source": [
    "#### Schrodinger equation & Hamiltonian & Hermitian operator"
   ]
  },
  {
   "cell_type": "markdown",
   "metadata": {},
   "source": [
    "* Postulate 2 describes how the quantum states of a closed quantum system at two different times are related. \n",
    "* A more refined version of this postulate can be given which describes the evolution of a quantum system in continuous time."
   ]
  },
  {
   "cell_type": "markdown",
   "metadata": {},
   "source": [
    "#### 참고\n",
    "* [0-0] [Newbie를 위한 양자역학 00_서론](http://stementor.tistory.com/entry/Newbie%EB%A5%BC-%EC%9C%84%ED%95%9C-%EC%96%91%EC%9E%90%EC%97%AD%ED%95%99-00-%EC%84%9C%EB%A1%A0)\n",
    "* [0-adv] 슈뢰딩거 파동방정 - http://physica.gsnu.ac.kr/phtml/modern/q_mechanics/schrondinger/schrondinger.html\n",
    "* [0-4] [Newbie를 위한 양자역학 04_기초지식(몇 가지 연산자와 연산)](http://stementor.tistory.com/entry/Newbie%EB%A5%BC-%EC%9C%84%ED%95%9C-%EC%96%91%EC%9E%90%EC%97%AD%ED%95%99-04%EA%B8%B0%EC%B4%88%EC%A7%80%EC%8B%9D%EB%AA%87-%EA%B0%80%EC%A7%80-%EC%97%B0%EC%82%B0%EC%9E%90%EC%99%80-%EC%97%B0%EC%82%B0) \n",
    "* [0-5] [Newbie를 위한 양자역학 05_기초지식(Hermitian 연산자)](http://stementor.tistory.com/entry/Newbie%EB%A5%BC-%EC%9C%84%ED%95%9C-%EC%96%91%EC%9E%90%EC%97%AD%ED%95%99-05%EA%B8%B0%EC%B4%88%EC%A7%80%EC%8B%9DHermitian-%EC%97%B0%EC%82%B0%EC%9E%90) "
   ]
  },
  {
   "cell_type": "markdown",
   "metadata": {},
   "source": [
    "<img src=\"figures/cap2.2.8.png\" width=600 />"
   ]
  },
  {
   "cell_type": "markdown",
   "metadata": {},
   "source": [
    "#### Hamiltonian & energy eigenstates (= stationary states)"
   ]
  },
  {
   "cell_type": "markdown",
   "metadata": {},
   "source": [
    "<img src=\"figures/cap2.2.9.png\" width=600 />"
   ]
  },
  {
   "cell_type": "markdown",
   "metadata": {},
   "source": [
    "#### There is therefore a one-to-one correspondence between the discrete-time description of dynamics using unitary operators, and the continuous time description using Hamiltonians."
   ]
  },
  {
   "cell_type": "markdown",
   "metadata": {},
   "source": [
    "<img src=\"figures/cap2.2.10.png\" width=600 />"
   ]
  },
  {
   "cell_type": "markdown",
   "metadata": {},
   "source": [
    "* You will show in the exercises that this operator is unitary, and furthermore, that any unitary operator U can be realized in the form U = exp(iK) for some Hermitian operator K. \n",
    "* There is therefore a one-to-one correspondence between the discrete-time description of dynamics using unitary operators, and the continuous time description using Hamiltonians. \n",
    "* For most of the book we use the unitary formulation of quantum dynamics.\n"
   ]
  },
  {
   "cell_type": "markdown",
   "metadata": {},
   "source": [
    "# 2.2.3 Quantum measurement"
   ]
  },
  {
   "cell_type": "markdown",
   "metadata": {},
   "source": [
    "* We postulated that closed quantum systems evolve according to unitary evolution. \n",
    "* The evolution of systems which don’t interact with the rest of the world is all very well, but there must also be times when the experimentalist and their experimental equipment – an external physical system in other words – observes the system to find out what is going on inside the system, an interaction which makes the system no longer closed, and thus not necessarily subject to unitary evolution. \n",
    "* To explain what happens when this is done, we introduce Postulate 3, which provides a means for describing the effects of measurements on quantum systems.\n"
   ]
  },
  {
   "cell_type": "markdown",
   "metadata": {},
   "source": [
    "#### Quantum measurement & measurement operators & completeness equation"
   ]
  },
  {
   "cell_type": "markdown",
   "metadata": {},
   "source": [
    "<img src=\"figures/cap2.2.11.png\" width=600 />\n",
    "<img src=\"figures/cap2.2.12.png\" width=600 />"
   ]
  },
  {
   "cell_type": "markdown",
   "metadata": {},
   "source": [
    "#### measurement of a qubit in the computational basis"
   ]
  },
  {
   "cell_type": "markdown",
   "metadata": {},
   "source": [
    "<img src=\"figures/cap2.2.13.png\" width=600 />"
   ]
  },
  {
   "cell_type": "markdown",
   "metadata": {},
   "source": [
    "#### Over the next few sections we apply Postulate 3 to several elementary but important measurement scenarios. \n",
    "* Section 2.2.4 examines the problem of <font color=\"red\">distinguishing a set of quantum states</font>. \n",
    "* Section 2.2.5 explains a special case of Postulate 3, the <font color=\"red\">projective</font> or <font color=\"red\">von Neumann measurements</font>. \n",
    "* Section 2.2.6 explains another special case of Postulate 3, known as <font color=\"red\">POVM measurements</font>. \n",
    "* Many introductions to quantum mechanics only discuss projective measurements, omitting a full discussion of Postulate 3 or of POVM elements."
   ]
  },
  {
   "cell_type": "markdown",
   "metadata": {},
   "source": [
    "# 2.2.4 Distinguishing quantum states"
   ]
  },
  {
   "cell_type": "markdown",
   "metadata": {},
   "source": [
    "* An important application of Postulate 3 is to the problem of distinguishing quantum states. \n",
    "* In the classical world, distinct states of an object are usually distinguishable, at least in principle. \n",
    "    - For example, we can always identify whether a coin has landed heads or tails, at least in the ideal limit. \n",
    "* Quantum mechanically, the situation is more complicated.\n",
    "* In Section 1.6 we gave a plausible argument that non-orthogonal quantum states cannot be distinguished."
   ]
  },
  {
   "cell_type": "markdown",
   "metadata": {},
   "source": [
    "#### Alice - Bob game [1]"
   ]
  },
  {
   "cell_type": "markdown",
   "metadata": {},
   "source": [
    "* Distinguishability, like many ideas in quantum computation and quantum information, is most easily understood using the metaphor of a game involving two parties, Alice and Bob. \n",
    "* Alice chooses a state |ψi⟩ (1 ≤ i ≤ n) from some fixed set of states known to both parties. She gives the state |ψi⟩ to Bob, whose task it is to identify the index i of the state Alice has given him."
   ]
  },
  {
   "cell_type": "markdown",
   "metadata": {},
   "source": [
    "<img src=\"http://cfile28.uf.tistory.com/image/275D534D5284389514B5FE\" />"
   ]
  },
  {
   "cell_type": "markdown",
   "metadata": {},
   "source": [
    "# 2.2.5 Projective measurements"
   ]
  },
  {
   "cell_type": "markdown",
   "metadata": {},
   "source": [
    "* In this section we explain an important special case of the general measurement postulate, Postulate 3. \n",
    "* This special class of measurements is known as projective measurements. \n",
    "* For many applications of quantum computation and quantum information we will be concerned primarily with projective measurements. \n",
    "* Indeed, projective measurements ac- tually turn out to be equivalent to the general measurement postulate, when they are augmented with the ability to perform unitary transformations, as described in Postulate 2."
   ]
  },
  {
   "cell_type": "markdown",
   "metadata": {},
   "source": [
    "#### projective measurements"
   ]
  },
  {
   "cell_type": "markdown",
   "metadata": {},
   "source": [
    "<img src=\"figures/cap2.2.14.png\" width=600 />\n",
    "<img src=\"figures/cap2.2.15.png\" width=600 />"
   ]
  },
  {
   "cell_type": "markdown",
   "metadata": {},
   "source": [
    "#### Projective measurements's properties."
   ]
  },
  {
   "cell_type": "markdown",
   "metadata": {},
   "source": [
    "##### average & standard deviation & Heisenberg uncertainty principle"
   ]
  },
  {
   "cell_type": "markdown",
   "metadata": {},
   "source": [
    "<img src=\"figures/cap2.2.16.png\" width=600 />"
   ]
  },
  {
   "cell_type": "markdown",
   "metadata": {},
   "source": [
    "<img src=\"figures/cap2.2.17.png\" width=600 />"
   ]
  },
  {
   "cell_type": "markdown",
   "metadata": {},
   "source": [
    "# 2.2.6 POVM measurements"
   ]
  },
  {
   "cell_type": "markdown",
   "metadata": {},
   "source": [
    "* The quantum measurement postulate, Postulate 3, involves two elements. \n",
    "    - First, it gives a rule describing the measurement statistics, that is, the respective probabilities of the different possible measurement outcomes. \n",
    "    - Second, it gives a rule describing the post- measurement state of the system. \n",
    "* However, for some applications the post-measurement state of the system is of little interest, with the main item of interest being the probabilities of the respective measurement outcomes. \n",
    "    - <font color=\"red\">This is the case, for example, in an experiment where the system is measured only once, upon conclusion of the experiment.</font> \n",
    "    - In such instances there is a mathematical tool known as the <font color=\"red\">POVM formalism</font> which is especially well adapted to the analysis of the measurements. \n",
    "        - The acronym POVM stands for ‘Positive Operator-Valued Measure’, a technical term whose historical origins we won’t worry about."
   ]
  },
  {
   "cell_type": "markdown",
   "metadata": {},
   "source": [
    "#### POVM & POVM elements"
   ]
  },
  {
   "cell_type": "markdown",
   "metadata": {},
   "source": [
    "<img src=\"figures/cap2.2.18.png\" width=600 />"
   ]
  },
  {
   "cell_type": "markdown",
   "metadata": {},
   "source": [
    "<img src=\"figures/cap2.2.19.png\" width=600 />"
   ]
  },
  {
   "cell_type": "markdown",
   "metadata": {},
   "source": [
    "# 2.2.7 Phase"
   ]
  },
  {
   "cell_type": "markdown",
   "metadata": {},
   "source": [
    "#### phase"
   ]
  },
  {
   "cell_type": "markdown",
   "metadata": {},
   "source": [
    "<img src=\"figures/cap2.2.26.png\" width=600 />"
   ]
  },
  {
   "cell_type": "markdown",
   "metadata": {},
   "source": [
    "#### relative phase"
   ]
  },
  {
   "cell_type": "markdown",
   "metadata": {},
   "source": [
    "<img src=\"figures/cap2.2.20.png\" width=600 />"
   ]
  },
  {
   "cell_type": "markdown",
   "metadata": {},
   "source": [
    "# 2.2.8 Composite systems"
   ]
  },
  {
   "cell_type": "markdown",
   "metadata": {},
   "source": [
    "<img src=\"figures/cap2.2.21.png\" width=600 />"
   ]
  },
  {
   "cell_type": "markdown",
   "metadata": {},
   "source": [
    "<img src=\"figures/cap2.2.22.png\" width=600 />\n",
    "<img src=\"figures/cap2.2.23.png\" width=600 />"
   ]
  },
  {
   "cell_type": "markdown",
   "metadata": {},
   "source": [
    "# 2.2.9 Quantum mechanics: a global view"
   ]
  },
  {
   "cell_type": "markdown",
   "metadata": {},
   "source": [
    "# 참고자료\n",
    "\n",
    "### 몸풀기\n",
    "* [0-0] [Newbie를 위한 양자역학 00_서론](http://stementor.tistory.com/entry/Newbie%EB%A5%BC-%EC%9C%84%ED%95%9C-%EC%96%91%EC%9E%90%EC%97%AD%ED%95%99-00-%EC%84%9C%EB%A1%A0)\n",
    "* [0-1] [Newbie를 위한 양자역학 01_ 배경지식(상태함수와 확률밀도함수)](http://stementor.tistory.com/entry/Newbie%EB%A5%BC-%EC%9C%84%ED%95%9C-%EC%96%91%EC%9E%90%EC%97%AD%ED%95%99-01-%EB%B0%B0%EA%B2%BD%EC%A7%80%EC%8B%9D%EC%83%81%ED%83%9C%ED%95%A8%EC%88%98%EC%99%80-%ED%99%95%EB%A5%A0%EB%B0%80%EB%8F%84%ED%95%A8%EC%88%98)\n",
    "* [0-2] [Newbie를 위한 양자역학 02_배경지식(좌표계와 연산자)](http://stementor.tistory.com/entry/Newbie%EB%A5%BC-%EC%9C%84%ED%95%9C-%EC%96%91%EC%9E%90%EC%97%AD%ED%95%99-02%EB%B0%B0%EA%B2%BD%EC%A7%80%EC%8B%9D%EC%A2%8C%ED%91%9C%EA%B3%84%EC%99%80-%EC%97%B0%EC%82%B0%EC%9E%90) \n",
    "* [0-3] [Newbie를 위한 양자역학 03_배경지식(Del 연산자의 좌표 변환)](http://stementor.tistory.com/entry/Newbie%EB%A5%BC-%EC%9C%84%ED%95%9C-%EC%96%91%EC%9E%90%EC%97%AD%ED%95%99-03%EB%B0%B0%EA%B2%BD%EC%A7%80%EC%8B%9DDel-%EC%97%B0%EC%82%B0%EC%9E%90%EC%9D%98-%EC%A2%8C%ED%91%9C-%EB%B3%80%ED%99%98) \n",
    "* [0-4] [Newbie를 위한 양자역학 04_기초지식(몇 가지 연산자와 연산)](http://stementor.tistory.com/entry/Newbie%EB%A5%BC-%EC%9C%84%ED%95%9C-%EC%96%91%EC%9E%90%EC%97%AD%ED%95%99-04%EA%B8%B0%EC%B4%88%EC%A7%80%EC%8B%9D%EB%AA%87-%EA%B0%80%EC%A7%80-%EC%97%B0%EC%82%B0%EC%9E%90%EC%99%80-%EC%97%B0%EC%82%B0) \n",
    "* [0-5] [Newbie를 위한 양자역학 05_기초지식(Hermitian 연산자)](http://stementor.tistory.com/entry/Newbie%EB%A5%BC-%EC%9C%84%ED%95%9C-%EC%96%91%EC%9E%90%EC%97%AD%ED%95%99-05%EA%B8%B0%EC%B4%88%EC%A7%80%EC%8B%9DHermitian-%EC%97%B0%EC%82%B0%EC%9E%90) \n",
    "* [0-6] [Newbie를 위한 양자역학 06_기초지식(커뮤테이터와 불확정성의 원리)](http://stementor.tistory.com/entry/Newbie%EB%A5%BC-%EC%9C%84%ED%95%9C-%EC%96%91%EC%9E%90%EC%97%AD%ED%95%99-06%EA%B8%B0%EC%B4%88%EC%A7%80%EC%8B%9D%EC%BB%A4%EB%AE%A4%ED%85%8C%EC%9D%B4%ED%84%B0%EC%99%80-%EB%B6%88%ED%99%95%EC%A0%95%EC%84%B1%EC%9D%98-%EC%9B%90%EB%A6%AC)\n",
    "* [0-7] [Newbie를 위한 양자역학 07_기초지식(불확정성의 원리에의 예제)](http://stementor.tistory.com/entry/Newbie%EB%A5%BC-%EC%9C%84%ED%95%9C-%EC%96%91%EC%9E%90%EC%97%AD%ED%95%99-07%EA%B8%B0%EC%B4%88%EC%A7%80%EC%8B%9D%EB%B6%88%ED%99%95%EC%A0%95%EC%84%B1%EC%9D%98-%EC%9B%90%EB%A6%AC%EC%97%90%EC%9D%98-%EC%98%88%EC%A0%9C)\n",
    "* [0-8] [Newbie를 위한 양자역학 08_기초지식(시간 비의존성 슈뢰딩거 방정식)](http://stementor.tistory.com/entry/Newbie%EB%A5%BC-%EC%9C%84%ED%95%9C-%EC%96%91%EC%9E%90%EC%97%AD%ED%95%99-08%EA%B8%B0%EC%B4%88%EC%A7%80%EC%8B%9D%EC%8B%9C%EA%B0%84-%EB%B9%84%EC%9D%98%EC%A1%B4%EC%84%B1-%EC%8A%88%EB%A2%B0%EB%94%A9%EA%B1%B0-%EB%B0%A9%EC%A0%95%EC%8B%9D)\n",
    "  \n",
    "### 몸풀기(중급) - 슈뢰딩거 방정식\n",
    "* [0-adv] 슈뢰딩거 파동방정 - http://physica.gsnu.ac.kr/phtml/modern/q_mechanics/schrondinger/schrondinger.html\n",
    "\n",
    "### 교재\n",
    "* [1] Quantum Computation and Quantum Information  - http://www.amazon.com/Quantum-Computation-Information-Cambridge-Sciences/dp/0521635039/\n",
    "\n",
    "### 이번 발표 전반\n",
    "* [2] Postulates of Quantum Mechanics - http://www.ee.pdx.edu/~mperkows/CLASS_FUTURE/2005-quantum/2005-q-0035-Postulates-of-quantum-mechanics.ppt\n",
    "* [2-eq] Operator methods in quantum mechanics - http://www.slideshare.net/andatywabi/operators-n-dirac-in-qm\n",
    "\n",
    "### 힐베르트 공간\n",
    "* [3] 함수해석학의 기초 개념들 : 벡터, 벡터공간, Functionals  - http://mathnmath.tistory.com/87\n",
    "* [4] [힐베르트 공간](http://www.babylon.com/definition/%ED%9E%90%EB%B2%A0%EB%A5%B4%ED%8A%B8%20%EA%B3%B5%EA%B0%84/)\n",
    "* [5] Vector : Hilbert Space (1) - http://blog.naver.com/defxgenh/50116847800\n",
    "* [6] Vector : Hilbert Space (2) - http://blog.naver.com/defxgenh/50116849140\n",
    "* [7] Chapter 7 : Existence Theorems  - 7.2 : A Hilbert Space Approach  - http://faculty.kfupm.edu.sa/MATH/ffairag/math470_091/notes/7p2.ppt \n",
    "* [8] Linear vector space - http://www.slideshare.net/SafiyaAmer/linear-vector-space"
   ]
  }
 ],
 "metadata": {
  "kernelspec": {
   "display_name": "Python 2",
   "language": "python",
   "name": "python2"
  },
  "language_info": {
   "codemirror_mode": {
    "name": "ipython",
    "version": 2
   },
   "file_extension": ".py",
   "mimetype": "text/x-python",
   "name": "python",
   "nbconvert_exporter": "python",
   "pygments_lexer": "ipython2",
   "version": "2.7.10"
  }
 },
 "nbformat": 4,
 "nbformat_minor": 0
}
