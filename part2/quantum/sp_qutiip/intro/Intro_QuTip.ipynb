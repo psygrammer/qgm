{
 "cells": [
  {
   "cell_type": "markdown",
   "metadata": {},
   "source": [
    "url - http://qutip.org/"
   ]
  },
  {
   "cell_type": "markdown",
   "metadata": {},
   "source": [
    "# Installation"
   ]
  },
  {
   "cell_type": "markdown",
   "metadata": {},
   "source": [
    "http://qutip.org/docs/3.1.0/installation.html"
   ]
  },
  {
   "cell_type": "code",
   "execution_count": 1,
   "metadata": {
    "collapsed": false
   },
   "outputs": [
    {
     "name": "stdout",
     "output_type": "stream",
     "text": [
      "Downloading/unpacking qutip\n",
      "  Downloading qutip-3.1.0.tar.gz (800kB): 800kB downloaded\n",
      "  Running setup.py (path:/Users/moodern/.venv/qgm/build/qutip/setup.py) egg_info for package qutip\n",
      "    Traceback (most recent call last):\n",
      "      File \"<string>\", line 17, in <module>\n",
      "      File \"/Users/moodern/.venv/qgm/build/qutip/setup.py\", line 34, in <module>\n",
      "        import numpy as np\n",
      "    ImportError: No module named numpy\n",
      "    Complete output from command python setup.py egg_info:\n",
      "    Traceback (most recent call last):\n",
      "\n",
      "  File \"<string>\", line 17, in <module>\n",
      "\n",
      "  File \"/Users/moodern/.venv/qgm/build/qutip/setup.py\", line 34, in <module>\n",
      "\n",
      "    import numpy as np\n",
      "\n",
      "ImportError: No module named numpy\n",
      "\n",
      "----------------------------------------\n",
      "Cleaning up...\n",
      "\u001b[31mCommand python setup.py egg_info failed with error code 1 in /Users/moodern/.venv/qgm/build/qutip\n",
      "\u001b[0m\u001b[31mStoring debug log for failure in /Users/moodern/.pip/pip.log\n",
      "\u001b[0m"
     ]
    }
   ],
   "source": [
    "!pip install qutip"
   ]
  },
  {
   "cell_type": "code",
   "execution_count": null,
   "metadata": {
    "collapsed": true
   },
   "outputs": [],
   "source": []
  }
 ],
 "metadata": {
  "kernelspec": {
   "display_name": "Python 2",
   "language": "python",
   "name": "python2"
  },
  "language_info": {
   "codemirror_mode": {
    "name": "ipython",
    "version": 2
   },
   "file_extension": ".py",
   "mimetype": "text/x-python",
   "name": "python",
   "nbconvert_exporter": "python",
   "pygments_lexer": "ipython2",
   "version": "2.7.10"
  }
 },
 "nbformat": 4,
 "nbformat_minor": 0
}
