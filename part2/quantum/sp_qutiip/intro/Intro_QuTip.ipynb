{
 "cells": [
  {
   "cell_type": "markdown",
   "metadata": {},
   "source": [
    "# Introduction to QuTiP"
   ]
  },
  {
   "cell_type": "markdown",
   "metadata": {},
   "source": [
    "* 싸이그래머 / QGM - 양자정보 [1]\n",
    "* 김무성"
   ]
  },
  {
   "cell_type": "markdown",
   "metadata": {},
   "source": [
    "# Contents\n",
    "* Installation\n",
    "* Introduction to QuTiP"
   ]
  },
  {
   "cell_type": "markdown",
   "metadata": {},
   "source": [
    "http://qutip.org/"
   ]
  },
  {
   "cell_type": "markdown",
   "metadata": {},
   "source": [
    "# Installation [2]"
   ]
  },
  {
   "cell_type": "markdown",
   "metadata": {},
   "source": [
    "* Verifying the Installation\n",
    "* Checking Version Information using the About Function"
   ]
  },
  {
   "cell_type": "markdown",
   "metadata": {},
   "source": [
    "http://qutip.org/docs/3.1.0/installation.html"
   ]
  },
  {
   "cell_type": "code",
   "execution_count": 1,
   "metadata": {
    "collapsed": false
   },
   "outputs": [
    {
     "name": "stdout",
     "output_type": "stream",
     "text": [
      "Collecting qutip\n",
      "  Downloading qutip-3.1.0.tar.gz (800kB)\n",
      "\u001b[K    100% |################################| 802kB 102kB/s \n",
      "\u001b[?25hBuilding wheels for collected packages: qutip\n",
      "  Running setup.py bdist_wheel for qutip\n",
      "  Stored in directory: /home/jovyan/.cache/pip/wheels/44/60/f9/e279575b87a2a78c57f92a36369946ca6a0d2dbfcc6fe6554b\n",
      "Successfully built qutip\n",
      "Installing collected packages: qutip\n",
      "Successfully installed qutip-3.1.0\n",
      "\u001b[33mYou are using pip version 7.1.2, however version 8.1.0 is available.\n",
      "You should consider upgrading via the 'pip install --upgrade pip' command.\u001b[0m\n"
     ]
    }
   ],
   "source": [
    "!pip install qutip"
   ]
  },
  {
   "cell_type": "markdown",
   "metadata": {
    "collapsed": true
   },
   "source": [
    "## Verifying the Installation"
   ]
  },
  {
   "cell_type": "code",
   "execution_count": 1,
   "metadata": {
    "collapsed": true
   },
   "outputs": [],
   "source": [
    "import qutip.testing as qt"
   ]
  },
  {
   "cell_type": "code",
   "execution_count": null,
   "metadata": {
    "collapsed": false
   },
   "outputs": [
    {
     "name": "stderr",
     "output_type": "stream",
     "text": [
      "Transform 2-level to eigenbasis and back ... ok\n",
      "Transform 10-level real-values to eigenbasis and back ... ok\n",
      "Transform 10-level to eigenbasis and back ... ok\n",
      "Transform 10-level imag to eigenbasis and back ... ok\n",
      "Consistency between transformations of kets and density matrices ... ok\n",
      "Check diagonalization via eigenbasis transformation ... ok\n",
      "brmesolve: simple qubit ... ok\n",
      "brmesolve: c_ops alone ... ok\n",
      "brmesolve: c_ops with a_ops ... ok\n",
      "brmesolve: harmonic oscillator, zero temperature ... ok\n",
      "brmesolve: harmonic oscillator, finite temperature ... ok\n",
      "brmesolve: harmonic oscillator, finite temperature, states ... ok\n",
      "brmesolve: Jaynes-Cummings model, zero temperature ... ok\n",
      "correlation: legacy me and es for oscillator in coherent initial state ... ok\n",
      "correlation: comparing me and es for oscillator in coherent initial state ... ok\n",
      "correlation: comparing me and mc for driven oscillator in ground state ... "
     ]
    }
   ],
   "source": [
    "qt.run()"
   ]
  },
  {
   "cell_type": "markdown",
   "metadata": {},
   "source": [
    "## Checking Version Information using the About Function"
   ]
  },
  {
   "cell_type": "code",
   "execution_count": 6,
   "metadata": {
    "collapsed": false
   },
   "outputs": [
    {
     "name": "stdout",
     "output_type": "stream",
     "text": [
      "\n",
      "QuTiP: Quantum Toolbox in Python\n",
      "Copyright (c) 2011 and later.\n",
      "Paul D. Nation & Robert J. Johansson\n",
      "\n",
      "QuTiP Version:      3.1.0\n",
      "Numpy Version:      1.9.2\n",
      "Scipy Version:      0.15.1\n",
      "Cython Version:     0.22.1\n",
      "Matplotlib Version: 1.4.3\n",
      "Fortran mcsolver:   False\n",
      "scikits.umfpack:    False\n",
      "Python Version:     3.4.3\n",
      "Platform Info:      Linux (x86_64)\n",
      "Installation path:  /opt/conda/lib/python3.4/site-packages/qutip\n",
      "\n"
     ]
    }
   ],
   "source": [
    "from qutip import *\n",
    "about()"
   ]
  },
  {
   "cell_type": "markdown",
   "metadata": {},
   "source": [
    "# Introduction to QuTiP [3]"
   ]
  },
  {
   "cell_type": "markdown",
   "metadata": {},
   "source": [
    "* Quantum object class: qobj\n",
    "    - Creating and inspecting quantum objects\n",
    "    - Using Qobj instances for calculations\n",
    "* States and operators\n",
    "    - State vectors\n",
    "    - Density matrices\n",
    "    - Operators\n",
    "        - Qubit (two-level system) operators\n",
    "        - Harmonic oscillator operators\n",
    "        - Using Qobj instances we can check some well known commutation relations\n",
    "* Composite systems\n",
    "* Unitary dynamics\n",
    "    - Expectation values\n",
    "* Dissipative dynamics\n",
    "* Software versions"
   ]
  },
  {
   "cell_type": "markdown",
   "metadata": {},
   "source": [
    "http://nbviewer.ipython.org/urls/raw.github.com/jrjohansson/qutip-lectures/master/Lecture-0-Introduction-to-QuTiP.ipynb"
   ]
  },
  {
   "cell_type": "markdown",
   "metadata": {},
   "source": [
    "## Quantum object class: qobj\n",
    "* Creating and inspecting quantum objects\n",
    "* Using Qobj instances for calculations"
   ]
  },
  {
   "cell_type": "markdown",
   "metadata": {},
   "source": [
    "<img src=\"figures/cap1.png\" />"
   ]
  },
  {
   "cell_type": "markdown",
   "metadata": {},
   "source": [
    "### Creating and inspecting quantum objects"
   ]
  },
  {
   "cell_type": "code",
   "execution_count": 3,
   "metadata": {
    "collapsed": false
   },
   "outputs": [
    {
     "data": {
      "text/latex": [
       "Quantum object: dims = [[2], [1]], shape = [2, 1], type = ket\\begin{equation*}\\left(\\begin{array}{*{11}c}1.0\\\\0.0\\\\\\end{array}\\right)\\end{equation*}"
      ],
      "text/plain": [
       "Quantum object: dims = [[2], [1]], shape = [2, 1], type = ket\n",
       "Qobj data =\n",
       "[[ 1.]\n",
       " [ 0.]]"
      ]
     },
     "execution_count": 3,
     "metadata": {},
     "output_type": "execute_result"
    }
   ],
   "source": [
    "q = Qobj([[1], [0]])\n",
    "q"
   ]
  },
  {
   "cell_type": "code",
   "execution_count": 4,
   "metadata": {
    "collapsed": false
   },
   "outputs": [
    {
     "data": {
      "text/plain": [
       "[[2], [1]]"
      ]
     },
     "execution_count": 4,
     "metadata": {},
     "output_type": "execute_result"
    }
   ],
   "source": [
    "# the dimension, or composite Hilbert state space structure\n",
    "q.dims"
   ]
  },
  {
   "cell_type": "code",
   "execution_count": 5,
   "metadata": {
    "collapsed": false
   },
   "outputs": [
    {
     "data": {
      "text/plain": [
       "[2, 1]"
      ]
     },
     "execution_count": 5,
     "metadata": {},
     "output_type": "execute_result"
    }
   ],
   "source": [
    "# the shape of the matrix data representation\n",
    "q.shape"
   ]
  },
  {
   "cell_type": "code",
   "execution_count": 6,
   "metadata": {
    "collapsed": false
   },
   "outputs": [
    {
     "data": {
      "text/plain": [
       "<2x1 sparse matrix of type '<class 'numpy.complex128'>'\n",
       "\twith 1 stored elements in Compressed Sparse Row format>"
      ]
     },
     "execution_count": 6,
     "metadata": {},
     "output_type": "execute_result"
    }
   ],
   "source": [
    "# the matrix data itself. in sparse matrix format. \n",
    "q.data"
   ]
  },
  {
   "cell_type": "code",
   "execution_count": 7,
   "metadata": {
    "collapsed": false
   },
   "outputs": [
    {
     "data": {
      "text/plain": [
       "array([[ 1.+0.j],\n",
       "       [ 0.+0.j]])"
      ]
     },
     "execution_count": 7,
     "metadata": {},
     "output_type": "execute_result"
    }
   ],
   "source": [
    "# get the dense matrix representation\n",
    "q.full()"
   ]
  },
  {
   "cell_type": "code",
   "execution_count": 8,
   "metadata": {
    "collapsed": false
   },
   "outputs": [
    {
     "data": {
      "text/plain": [
       "(False, 'ket')"
      ]
     },
     "execution_count": 8,
     "metadata": {},
     "output_type": "execute_result"
    }
   ],
   "source": [
    "# some additional properties\n",
    "q.isherm, q.type "
   ]
  },
  {
   "cell_type": "markdown",
   "metadata": {},
   "source": [
    "### Using Qobj instances for calculations"
   ]
  },
  {
   "cell_type": "code",
   "execution_count": 9,
   "metadata": {
    "collapsed": false
   },
   "outputs": [
    {
     "data": {
      "text/latex": [
       "Quantum object: dims = [[2], [2]], shape = [2, 2], type = oper, isherm = True\\begin{equation*}\\left(\\begin{array}{*{11}c}0.0 & -1.0j\\\\1.0j & 0.0\\\\\\end{array}\\right)\\end{equation*}"
      ],
      "text/plain": [
       "Quantum object: dims = [[2], [2]], shape = [2, 2], type = oper, isherm = True\n",
       "Qobj data =\n",
       "[[ 0.+0.j  0.-1.j]\n",
       " [ 0.+1.j  0.+0.j]]"
      ]
     },
     "execution_count": 9,
     "metadata": {},
     "output_type": "execute_result"
    }
   ],
   "source": [
    "sy = Qobj([[0,-1j], [1j,0]])  # the sigma-y Pauli operator\n",
    "sy"
   ]
  },
  {
   "cell_type": "code",
   "execution_count": 10,
   "metadata": {
    "collapsed": false
   },
   "outputs": [
    {
     "data": {
      "text/latex": [
       "Quantum object: dims = [[2], [2]], shape = [2, 2], type = oper, isherm = True\\begin{equation*}\\left(\\begin{array}{*{11}c}1.0 & 0.0\\\\0.0 & -1.0\\\\\\end{array}\\right)\\end{equation*}"
      ],
      "text/plain": [
       "Quantum object: dims = [[2], [2]], shape = [2, 2], type = oper, isherm = True\n",
       "Qobj data =\n",
       "[[ 1.  0.]\n",
       " [ 0. -1.]]"
      ]
     },
     "execution_count": 10,
     "metadata": {},
     "output_type": "execute_result"
    }
   ],
   "source": [
    "sz = Qobj([[1,0], [0,-1]]) # the sigma-z Pauli operator\n",
    "sz"
   ]
  },
  {
   "cell_type": "code",
   "execution_count": 11,
   "metadata": {
    "collapsed": false
   },
   "outputs": [
    {
     "name": "stdout",
     "output_type": "stream",
     "text": [
      "Qubit Hamiltonian = \n",
      "\n"
     ]
    },
    {
     "data": {
      "text/latex": [
       "Quantum object: dims = [[2], [2]], shape = [2, 2], type = oper, isherm = True\\begin{equation*}\\left(\\begin{array}{*{11}c}1.0 & -0.100j\\\\0.100j & -1.0\\\\\\end{array}\\right)\\end{equation*}"
      ],
      "text/plain": [
       "Quantum object: dims = [[2], [2]], shape = [2, 2], type = oper, isherm = True\n",
       "Qobj data =\n",
       "[[ 1.+0.j   0.-0.1j]\n",
       " [ 0.+0.1j -1.+0.j ]]"
      ]
     },
     "execution_count": 11,
     "metadata": {},
     "output_type": "execute_result"
    }
   ],
   "source": [
    "# some arithmetic with quantum objects\n",
    "H = 1.0 * sz + 0.1 * sy\n",
    "print(\"Qubit Hamiltonian = \\n\")\n",
    "H"
   ]
  },
  {
   "cell_type": "code",
   "execution_count": 12,
   "metadata": {
    "collapsed": false
   },
   "outputs": [
    {
     "data": {
      "text/latex": [
       "Quantum object: dims = [[2], [2]], shape = [2, 2], type = oper, isherm = True\\begin{equation*}\\left(\\begin{array}{*{11}c}0.0 & -1.0j\\\\1.0j & 0.0\\\\\\end{array}\\right)\\end{equation*}"
      ],
      "text/plain": [
       "Quantum object: dims = [[2], [2]], shape = [2, 2], type = oper, isherm = True\n",
       "Qobj data =\n",
       "[[ 0.+0.j  0.-1.j]\n",
       " [ 0.+1.j  0.+0.j]]"
      ]
     },
     "execution_count": 12,
     "metadata": {},
     "output_type": "execute_result"
    }
   ],
   "source": [
    "# The hermitian conjugate\n",
    "sy.dag()"
   ]
  },
  {
   "cell_type": "code",
   "execution_count": 13,
   "metadata": {
    "collapsed": false
   },
   "outputs": [
    {
     "data": {
      "text/plain": [
       "0.0"
      ]
     },
     "execution_count": 13,
     "metadata": {},
     "output_type": "execute_result"
    }
   ],
   "source": [
    "# The trace\n",
    "H.tr()"
   ]
  },
  {
   "cell_type": "code",
   "execution_count": 14,
   "metadata": {
    "collapsed": false
   },
   "outputs": [
    {
     "data": {
      "text/plain": [
       "array([-1.00498756,  1.00498756])"
      ]
     },
     "execution_count": 14,
     "metadata": {},
     "output_type": "execute_result"
    }
   ],
   "source": [
    "# Eigen energies\n",
    "H.eigenenergies()"
   ]
  },
  {
   "cell_type": "code",
   "execution_count": 15,
   "metadata": {
    "collapsed": false
   },
   "outputs": [
    {
     "name": "stdout",
     "output_type": "stream",
     "text": [
      "Help on class Qobj in module qutip.qobj:\n",
      "\n",
      "class Qobj(builtins.object)\n",
      " |  A class for representing quantum objects, such as quantum operators\n",
      " |  and states.\n",
      " |  \n",
      " |  The Qobj class is the QuTiP representation of quantum operators and state\n",
      " |  vectors. This class also implements math operations +,-,* between Qobj\n",
      " |  instances (and / by a C-number), as well as a collection of common\n",
      " |  operator/state operations.  The Qobj constructor optionally takes a\n",
      " |  dimension ``list`` and/or shape ``list`` as arguments.\n",
      " |  \n",
      " |  Parameters\n",
      " |  ----------\n",
      " |  inpt : array_like\n",
      " |      Data for vector/matrix representation of the quantum object.\n",
      " |  dims : list\n",
      " |      Dimensions of object used for tensor products.\n",
      " |  shape : list\n",
      " |      Shape of underlying data structure (matrix shape).\n",
      " |  fast : bool\n",
      " |      Flag for fast qobj creation when running ode solvers.\n",
      " |      This parameter is used internally only.\n",
      " |  \n",
      " |  \n",
      " |  Attributes\n",
      " |  ----------\n",
      " |  data : array_like\n",
      " |      Sparse matrix characterizing the quantum object.\n",
      " |  dims : list\n",
      " |      List of dimensions keeping track of the tensor structure.\n",
      " |  shape : list\n",
      " |      Shape of the underlying `data` array.\n",
      " |  type : str\n",
      " |      Type of quantum object: 'bra', 'ket', 'oper', 'operator-ket',\n",
      " |      'operator-bra', or 'super'.\n",
      " |  superrep : str\n",
      " |      Representation used if `type` is 'super'. One of 'super'\n",
      " |      (Liouville form) or 'choi' (Choi matrix with tr = dimension).\n",
      " |  isherm : bool\n",
      " |      Indicates if quantum object represents Hermitian operator.\n",
      " |  iscp : bool\n",
      " |      Indicates if the quantum object represents a map, and if that map is\n",
      " |      completely positive (CP).\n",
      " |  istp : bool\n",
      " |      Indicates if the quantum object represents a map, and if that map is\n",
      " |      trace preserving (TP).\n",
      " |  iscptp : bool\n",
      " |      Indicates if the quantum object represents a map that is completely\n",
      " |      positive and trace preserving (CPTP).\n",
      " |  isket : bool\n",
      " |      Indicates if the quantum object represents a ket.\n",
      " |  isbra : bool\n",
      " |      Indicates if the quantum object represents a bra.\n",
      " |  isoper : bool\n",
      " |      Indicates if the quantum object represents an operator.\n",
      " |  issuper : bool\n",
      " |      Indicates if the quantum object represents a superoperator.\n",
      " |  isoperket : bool\n",
      " |      Indicates if the quantum object represents an operator in column vector\n",
      " |      form.\n",
      " |  isoperbra : bool\n",
      " |      Indicates if the quantum object represents an operator in row vector\n",
      " |      form.\n",
      " |  \n",
      " |  Methods\n",
      " |  -------\n",
      " |  conj()\n",
      " |      Conjugate of quantum object.\n",
      " |  dag()\n",
      " |      Adjoint (dagger) of quantum object.\n",
      " |  eigenenergies(sparse=False, sort='low', eigvals=0, tol=0, maxiter=100000)\n",
      " |      Returns eigenenergies (eigenvalues) of a quantum object.\n",
      " |  eigenstates(sparse=False, sort='low', eigvals=0, tol=0, maxiter=100000)\n",
      " |      Returns eigenenergies and eigenstates of quantum object.\n",
      " |  expm()\n",
      " |      Matrix exponential of quantum object.\n",
      " |  full()\n",
      " |      Returns dense array of quantum object `data` attribute.\n",
      " |  groundstate(sparse=False,tol=0,maxiter=100000)\n",
      " |      Returns eigenvalue and eigenket for the groundstate of a quantum\n",
      " |      object.\n",
      " |  matrix_element(bra, ket)\n",
      " |      Returns the matrix element of operator between `bra` and `ket` vectors.\n",
      " |  norm(norm='tr', sparse=False, tol=0, maxiter=100000)\n",
      " |      Returns norm of a ket or an operator.\n",
      " |  permute(order)\n",
      " |      Returns composite qobj with indices reordered.\n",
      " |  ptrace(sel)\n",
      " |      Returns quantum object for selected dimensions after performing\n",
      " |      partial trace.\n",
      " |  sqrtm()\n",
      " |      Matrix square root of quantum object.\n",
      " |  tidyup(atol=1e-12)\n",
      " |      Removes small elements from quantum object.\n",
      " |  tr()\n",
      " |      Trace of quantum object.\n",
      " |  trans()\n",
      " |      Transpose of quantum object.\n",
      " |  transform(inpt, inverse=False)\n",
      " |      Performs a basis transformation defined by `inpt` matrix.\n",
      " |  unit(norm='tr', sparse=False, tol=0, maxiter=100000)\n",
      " |      Returns normalized quantum object.\n",
      " |  \n",
      " |  Methods defined here:\n",
      " |  \n",
      " |  __abs__(self)\n",
      " |  \n",
      " |  __add__(self, other)\n",
      " |      ADDITION with Qobj on LEFT [ ex. Qobj+4 ]\n",
      " |  \n",
      " |  __div__(self, other)\n",
      " |      DIVISION (by numbers only)\n",
      " |  \n",
      " |  __eq__(self, other)\n",
      " |      EQUALITY operator.\n",
      " |  \n",
      " |  __getitem__(self, ind)\n",
      " |      GET qobj elements.\n",
      " |  \n",
      " |  __getstate__(self)\n",
      " |  \n",
      " |  __init__(self, inpt=None, dims=[[], []], shape=[], type=None, isherm=None, fast=False, superrep=None)\n",
      " |      Qobj constructor.\n",
      " |  \n",
      " |  __mul__(self, other)\n",
      " |      MULTIPLICATION with Qobj on LEFT [ ex. Qobj*4 ]\n",
      " |  \n",
      " |  __ne__(self, other)\n",
      " |      INEQUALITY operator.\n",
      " |  \n",
      " |  __neg__(self)\n",
      " |      NEGATION operation.\n",
      " |  \n",
      " |  __pow__(self, n, m=None)\n",
      " |      POWER operation.\n",
      " |  \n",
      " |  __radd__(self, other)\n",
      " |      ADDITION with Qobj on RIGHT [ ex. 4+Qobj ]\n",
      " |  \n",
      " |  __repr__(self)\n",
      " |  \n",
      " |  __rmul__(self, other)\n",
      " |      MULTIPLICATION with Qobj on RIGHT [ ex. 4*Qobj ]\n",
      " |  \n",
      " |  __rsub__(self, other)\n",
      " |      SUBTRACTION with Qobj on RIGHT [ ex. 4-Qobj ]\n",
      " |  \n",
      " |  __setstate__(self, state)\n",
      " |  \n",
      " |  __str__(self)\n",
      " |  \n",
      " |  __sub__(self, other)\n",
      " |      SUBTRACTION with Qobj on LEFT [ ex. Qobj-4 ]\n",
      " |  \n",
      " |  __truediv__(self, other)\n",
      " |  \n",
      " |  checkherm(self)\n",
      " |      Check if the quantum object is hermitian.\n",
      " |      \n",
      " |      Returns\n",
      " |      -------\n",
      " |      isherm: bool\n",
      " |          Returns the new value of isherm property.\n",
      " |  \n",
      " |  conj(self)\n",
      " |      Conjugate operator of quantum object.\n",
      " |  \n",
      " |  dag(self)\n",
      " |      Adjoint operator of quantum object.\n",
      " |  \n",
      " |  diag(self)\n",
      " |      Diagonal elements of quantum object.\n",
      " |      \n",
      " |      Returns\n",
      " |      -------\n",
      " |      diags: array\n",
      " |          Returns array of ``real`` values if operators is Hermitian,\n",
      " |          otherwise ``complex`` values are returned.\n",
      " |  \n",
      " |  eigenenergies(self, sparse=False, sort='low', eigvals=0, tol=0, maxiter=100000)\n",
      " |      Eigenenergies of a quantum object.\n",
      " |      \n",
      " |      Eigenenergies (eigenvalues) are defined for operators or superoperators\n",
      " |      only.\n",
      " |      \n",
      " |      Parameters\n",
      " |      ----------\n",
      " |      sparse : bool\n",
      " |          Use sparse Eigensolver\n",
      " |      \n",
      " |      sort : str\n",
      " |          Sort eigenvalues 'low' to high, or 'high' to low.\n",
      " |      \n",
      " |      eigvals : int\n",
      " |          Number of requested eigenvalues. Default is all eigenvalues.\n",
      " |      \n",
      " |      tol : float\n",
      " |          Tolerance used by sparse Eigensolver (0=machine precision).\n",
      " |          The sparse solver may not converge if the tolerance is set too low.\n",
      " |      \n",
      " |      maxiter : int\n",
      " |          Maximum number of iterations performed by sparse solver (if used).\n",
      " |      \n",
      " |      Returns\n",
      " |      -------\n",
      " |      eigvals: array\n",
      " |          Array of eigenvalues for operator.\n",
      " |      \n",
      " |      Notes\n",
      " |      -----\n",
      " |      The sparse eigensolver is much slower than the dense version.\n",
      " |      Use sparse only if memory requirements demand it.\n",
      " |  \n",
      " |  eigenstates(self, sparse=False, sort='low', eigvals=0, tol=0, maxiter=100000)\n",
      " |      Eigenstates and eigenenergies.\n",
      " |      \n",
      " |      Eigenstates and eigenenergies are defined for operators and\n",
      " |      superoperators only.\n",
      " |      \n",
      " |      Parameters\n",
      " |      ----------\n",
      " |      sparse : bool\n",
      " |          Use sparse Eigensolver\n",
      " |      \n",
      " |      sort : str\n",
      " |          Sort eigenvalues (and vectors) 'low' to high, or 'high' to low.\n",
      " |      \n",
      " |      eigvals : int\n",
      " |          Number of requested eigenvalues. Default is all eigenvalues.\n",
      " |      \n",
      " |      tol : float\n",
      " |          Tolerance used by sparse Eigensolver (0 = machine precision).\n",
      " |          The sparse solver may not converge if the tolerance is set too low.\n",
      " |      \n",
      " |      maxiter : int\n",
      " |          Maximum number of iterations performed by sparse solver (if used).\n",
      " |      \n",
      " |      Returns\n",
      " |      -------\n",
      " |      eigvals : array\n",
      " |          Array of eigenvalues for operator.\n",
      " |      \n",
      " |      eigvecs : array\n",
      " |          Array of quantum operators representing the oprator eigenkets.\n",
      " |          Order of eigenkets is determined by order of eigenvalues.\n",
      " |      \n",
      " |      Notes\n",
      " |      -----\n",
      " |      The sparse eigensolver is much slower than the dense version.\n",
      " |      Use sparse only if memory requirements demand it.\n",
      " |  \n",
      " |  eliminate_states(self, states_inds, normalize=False)\n",
      " |      Creates a new quantum object with states in state_inds eliminated.\n",
      " |      \n",
      " |      Parameters\n",
      " |      ----------\n",
      " |      states_inds : list of integer\n",
      " |          The states that should be removed.\n",
      " |      \n",
      " |      normalize : True / False\n",
      " |          Weather or not the new Qobj instance should be normalized (default\n",
      " |          is False). For Qobjs that represents density matrices or state\n",
      " |          vectors normalized should probably be set to True, but for Qobjs\n",
      " |          that represents operators in for example an Hamiltonian, normalize\n",
      " |          should be False.\n",
      " |      \n",
      " |      Returns\n",
      " |      -------\n",
      " |      q : :class:`qutip.Qobj`\n",
      " |      \n",
      " |          A new instance of :class:`qutip.Qobj` that contains only the states\n",
      " |          corresponding to indices that are **not** in `state_inds`.\n",
      " |      \n",
      " |      .. note::\n",
      " |      \n",
      " |          Experimental.\n",
      " |  \n",
      " |  expm(self, method=None)\n",
      " |      Matrix exponential of quantum operator.\n",
      " |      \n",
      " |      Input operator must be square.\n",
      " |      \n",
      " |      Parameters\n",
      " |      ----------\n",
      " |      method : str {'dense', 'sparse', 'scipy-dense', 'scipy-sparse'}\n",
      " |          Use set method to use to calculate the matrix exponentiation. The\n",
      " |          available choices includes 'dense' and 'sparse' for using QuTiP's\n",
      " |          implementation of expm using dense and sparse matrices,\n",
      " |          respectively, and 'scipy-dense' and 'scipy-sparse' for using the\n",
      " |          scipy.linalg.expm (dense) and scipy.sparse.linalg.expm (sparse).\n",
      " |          If no method is explicitly given a heuristic will be used to try\n",
      " |          and automatically select the most appropriate solver.\n",
      " |      \n",
      " |      Returns\n",
      " |      -------\n",
      " |      oper : qobj\n",
      " |          Exponentiated quantum operator.\n",
      " |      \n",
      " |      Raises\n",
      " |      ------\n",
      " |      TypeError\n",
      " |          Quantum operator is not square.\n",
      " |  \n",
      " |  extract_states(self, states_inds, normalize=False)\n",
      " |      Qobj with states in state_inds only.\n",
      " |      \n",
      " |      Parameters\n",
      " |      ----------\n",
      " |      states_inds : list of integer\n",
      " |          The states that should be kept.\n",
      " |      \n",
      " |      normalize : True / False\n",
      " |          Weather or not the new Qobj instance should be normalized (default\n",
      " |          is False). For Qobjs that represents density matrices or state\n",
      " |          vectors normalized should probably be set to True, but for Qobjs\n",
      " |          that represents operators in for example an Hamiltonian, normalize\n",
      " |          should be False.\n",
      " |      \n",
      " |      Returns\n",
      " |      -------\n",
      " |      q : :class:`qutip.Qobj`\n",
      " |      \n",
      " |          A new instance of :class:`qutip.Qobj` that contains only the states\n",
      " |          corresponding to the indices in `state_inds`.\n",
      " |      \n",
      " |      .. note::\n",
      " |      \n",
      " |          Experimental.\n",
      " |  \n",
      " |  full(self, squeeze=False)\n",
      " |      Dense array from quantum object.\n",
      " |      \n",
      " |      Returns\n",
      " |      -------\n",
      " |      data : array\n",
      " |          Array of complex data from quantum objects `data` attribute.\n",
      " |  \n",
      " |  groundstate(self, sparse=False, tol=0, maxiter=100000)\n",
      " |      Ground state Eigenvalue and Eigenvector.\n",
      " |      \n",
      " |      Defined for quantum operators or superoperators only.\n",
      " |      \n",
      " |      Parameters\n",
      " |      ----------\n",
      " |      sparse : bool\n",
      " |          Use sparse Eigensolver\n",
      " |      \n",
      " |      tol : float\n",
      " |          Tolerance used by sparse Eigensolver (0 = machine precision).\n",
      " |          The sparse solver may not converge if the tolerance is set too low.\n",
      " |      \n",
      " |      maxiter : int\n",
      " |          Maximum number of iterations performed by sparse solver (if used).\n",
      " |      \n",
      " |      Returns\n",
      " |      -------\n",
      " |      eigval : float\n",
      " |          Eigenvalue for the ground state of quantum operator.\n",
      " |      \n",
      " |      eigvec : qobj\n",
      " |          Eigenket for the ground state of quantum operator.\n",
      " |      \n",
      " |      Notes\n",
      " |      -----\n",
      " |      The sparse eigensolver is much slower than the dense version.\n",
      " |      Use sparse only if memory requirements demand it.\n",
      " |  \n",
      " |  matrix_element(self, bra, ket)\n",
      " |      Calculates a matrix element.\n",
      " |      \n",
      " |      Gives the matrix element for the quantum object sandwiched between a\n",
      " |      `bra` and `ket` vector.\n",
      " |      \n",
      " |      Parameters\n",
      " |      -----------\n",
      " |      bra : qobj\n",
      " |          Quantum object of type 'bra'.\n",
      " |      \n",
      " |      ket : qobj\n",
      " |          Quantum object of type 'ket'.\n",
      " |      \n",
      " |      Returns\n",
      " |      -------\n",
      " |      elem : complex\n",
      " |          Complex valued matrix element.\n",
      " |      \n",
      " |      Raises\n",
      " |      ------\n",
      " |      TypeError\n",
      " |          Can only calculate matrix elements between a bra and ket\n",
      " |          quantum object.\n",
      " |  \n",
      " |  norm(self, norm=None, sparse=False, tol=0, maxiter=100000)\n",
      " |      Norm of a quantum object.\n",
      " |      \n",
      " |      Default norm is L2-norm for kets and trace-norm for operators.\n",
      " |      Other ket and operator norms may be specified using the `norm` and\n",
      " |      argument.\n",
      " |      \n",
      " |      Parameters\n",
      " |      ----------\n",
      " |      norm : str\n",
      " |          Which norm to use for ket/bra vectors: L2 'l2', max norm 'max',\n",
      " |          or for operators: trace 'tr', Frobius 'fro', one 'one', or max\n",
      " |          'max'.\n",
      " |      \n",
      " |      sparse : bool\n",
      " |          Use sparse eigenvalue solver for trace norm.  Other norms are not\n",
      " |          affected by this parameter.\n",
      " |      \n",
      " |      tol : float\n",
      " |          Tolerance for sparse solver (if used) for trace norm. The sparse\n",
      " |          solver may not converge if the tolerance is set too low.\n",
      " |      \n",
      " |      maxiter : int\n",
      " |          Maximum number of iterations performed by sparse solver (if used)\n",
      " |          for trace norm.\n",
      " |      \n",
      " |      Returns\n",
      " |      -------\n",
      " |      norm : float\n",
      " |          The requested norm of the operator or state quantum object.\n",
      " |      \n",
      " |      \n",
      " |      Notes\n",
      " |      -----\n",
      " |      The sparse eigensolver is much slower than the dense version.\n",
      " |      Use sparse only if memory requirements demand it.\n",
      " |  \n",
      " |  overlap(self, state)\n",
      " |      Overlap between two state vectors.\n",
      " |      \n",
      " |      Gives the overlap (scalar product) for the quantum object and `state`\n",
      " |      state vector.\n",
      " |      \n",
      " |      Parameters\n",
      " |      -----------\n",
      " |      state : qobj\n",
      " |          Quantum object for a state vector of type 'ket' or 'bra'.\n",
      " |      \n",
      " |      Returns\n",
      " |      -------\n",
      " |      overlap : complex\n",
      " |          Complex valued overlap.\n",
      " |      \n",
      " |      Raises\n",
      " |      ------\n",
      " |      TypeError\n",
      " |          Can only calculate overlap between a bra and ket quantum objects.\n",
      " |  \n",
      " |  permute(self, order)\n",
      " |      Permutes a composite quantum object.\n",
      " |      \n",
      " |      Parameters\n",
      " |      ----------\n",
      " |      order : list/array\n",
      " |          List specifying new tensor order.\n",
      " |      \n",
      " |      Returns\n",
      " |      -------\n",
      " |      P : qobj\n",
      " |          Permuted quantum object.\n",
      " |  \n",
      " |  ptrace(self, sel)\n",
      " |      Partial trace of the quantum object.\n",
      " |      \n",
      " |      Parameters\n",
      " |      ----------\n",
      " |      sel : int/list\n",
      " |          An ``int`` or ``list`` of components to keep after partial trace.\n",
      " |      \n",
      " |      Returns\n",
      " |      -------\n",
      " |      oper: qobj\n",
      " |          Quantum object representing partial trace with selected components\n",
      " |          remaining.\n",
      " |      \n",
      " |      Notes\n",
      " |      -----\n",
      " |      This function is identical to the :func:`qutip.qobj.ptrace` function\n",
      " |      that has been deprecated.\n",
      " |  \n",
      " |  sqrtm(self, sparse=False, tol=0, maxiter=100000)\n",
      " |      Sqrt of a quantum operator.\n",
      " |      \n",
      " |      Operator must be square.\n",
      " |      \n",
      " |      Parameters\n",
      " |      ----------\n",
      " |      sparse : bool\n",
      " |          Use sparse eigenvalue/vector solver.\n",
      " |      \n",
      " |      tol : float\n",
      " |          Tolerance used by sparse solver (0 = machine precision).\n",
      " |      \n",
      " |      maxiter : int\n",
      " |          Maximum number of iterations used by sparse solver.\n",
      " |      \n",
      " |      Returns\n",
      " |      -------\n",
      " |      oper: qobj\n",
      " |          Matrix square root of operator.\n",
      " |      \n",
      " |      Raises\n",
      " |      ------\n",
      " |      TypeError\n",
      " |          Quantum object is not square.\n",
      " |      \n",
      " |      Notes\n",
      " |      -----\n",
      " |      The sparse eigensolver is much slower than the dense version.\n",
      " |      Use sparse only if memory requirements demand it.\n",
      " |  \n",
      " |  tidyup(self, atol=None)\n",
      " |      Removes small elements from the quantum object.\n",
      " |      \n",
      " |      Parameters\n",
      " |      ----------\n",
      " |      atol : float\n",
      " |          Absolute tolerance used by tidyup. Default is set\n",
      " |          via qutip global settings parameters.\n",
      " |      \n",
      " |      Returns\n",
      " |      -------\n",
      " |      oper: qobj\n",
      " |          Quantum object with small elements removed.\n",
      " |  \n",
      " |  tr(self)\n",
      " |      Trace of a quantum object.\n",
      " |      \n",
      " |      Returns\n",
      " |      -------\n",
      " |      trace: float\n",
      " |          Returns ``real`` if operator is Hermitian, returns ``complex``\n",
      " |          otherwise.\n",
      " |  \n",
      " |  trans(self)\n",
      " |      Transposed operator.\n",
      " |      \n",
      " |      Returns\n",
      " |      -------\n",
      " |      oper : qobj\n",
      " |          Transpose of input operator.\n",
      " |  \n",
      " |  transform(self, inpt, inverse=False)\n",
      " |      Basis transform defined by input array.\n",
      " |      \n",
      " |      Input array can be a ``matrix`` defining the transformation,\n",
      " |      or a ``list`` of kets that defines the new basis.\n",
      " |      \n",
      " |      \n",
      " |      Parameters\n",
      " |      ----------\n",
      " |      inpt : array_like\n",
      " |          A ``matrix`` or ``list`` of kets defining the transformation.\n",
      " |      inverse : bool\n",
      " |          Whether to return inverse transformation.\n",
      " |      \n",
      " |      Returns\n",
      " |      -------\n",
      " |      oper : qobj\n",
      " |          Operator in new basis.\n",
      " |      \n",
      " |      Notes\n",
      " |      -----\n",
      " |      This function is still in development.\n",
      " |  \n",
      " |  unit(self, norm=None, sparse=False, tol=0, maxiter=100000)\n",
      " |      Operator or state normalized to unity.\n",
      " |      \n",
      " |      Uses norm from Qobj.norm().\n",
      " |      \n",
      " |      Parameters\n",
      " |      ----------\n",
      " |      norm : str\n",
      " |          Requested norm for states / operators.\n",
      " |      sparse : bool\n",
      " |          Use sparse eigensolver for trace norm. Does not affect other norms.\n",
      " |      tol : float\n",
      " |          Tolerance used by sparse eigensolver.\n",
      " |      maxiter: int\n",
      " |          Number of maximum iterations performed by sparse eigensolver.\n",
      " |      \n",
      " |      Returns\n",
      " |      -------\n",
      " |      oper : qobj\n",
      " |          Normalized quantum object.\n",
      " |  \n",
      " |  ----------------------------------------------------------------------\n",
      " |  Static methods defined here:\n",
      " |  \n",
      " |  evaluate(qobj_list, t, args)\n",
      " |      Evaluate a time-dependent quantum object in list format. For\n",
      " |      example,\n",
      " |      \n",
      " |          qobj_list = [H0, [H1, func_t]]\n",
      " |      \n",
      " |      is evaluated to\n",
      " |      \n",
      " |          Qobj(t) = H0 + H1 * func_t(t, args)\n",
      " |      \n",
      " |      and\n",
      " |      \n",
      " |          qobj_list = [H0, [H1, 'sin(w * t)']]\n",
      " |      \n",
      " |      is evaluated to\n",
      " |      \n",
      " |          Qobj(t) = H0 + H1 * sin(args['w'] * t)\n",
      " |      \n",
      " |      Parameters\n",
      " |      ----------\n",
      " |      \n",
      " |      qobj_list : list\n",
      " |          A nested list of Qobj instances and corresponding time-dependent\n",
      " |          coefficients.\n",
      " |      \n",
      " |      t : float\n",
      " |          The time for which to evaluate the time-dependent Qobj instance.\n",
      " |      \n",
      " |      args : dictionary\n",
      " |          A dictionary with parameter values required to evaluate the\n",
      " |          time-dependent Qobj intance.\n",
      " |      \n",
      " |      Returns\n",
      " |      -------\n",
      " |      \n",
      " |      output : Qobj\n",
      " |      \n",
      " |          A Qobj instance that represents the value of qobj_list at time t.\n",
      " |  \n",
      " |  ----------------------------------------------------------------------\n",
      " |  Data descriptors defined here:\n",
      " |  \n",
      " |  __dict__\n",
      " |      dictionary for instance variables (if defined)\n",
      " |  \n",
      " |  __weakref__\n",
      " |      list of weak references to the object (if defined)\n",
      " |  \n",
      " |  isbra\n",
      " |  \n",
      " |  iscp\n",
      " |  \n",
      " |  iscptp\n",
      " |  \n",
      " |  isherm\n",
      " |  \n",
      " |  isket\n",
      " |  \n",
      " |  isoper\n",
      " |  \n",
      " |  isoperbra\n",
      " |  \n",
      " |  isoperket\n",
      " |  \n",
      " |  issuper\n",
      " |  \n",
      " |  istp\n",
      " |  \n",
      " |  shape\n",
      " |  \n",
      " |  type\n",
      " |  \n",
      " |  ----------------------------------------------------------------------\n",
      " |  Data and other attributes defined here:\n",
      " |  \n",
      " |  __array_priority__ = 100\n",
      " |  \n",
      " |  __hash__ = None\n",
      "\n"
     ]
    }
   ],
   "source": [
    "help(Qobj)"
   ]
  },
  {
   "cell_type": "markdown",
   "metadata": {},
   "source": [
    "## States and operators\n",
    "* State vectors\n",
    "* Density matrices\n",
    "* Operators\n",
    "    - Qubit (two-level system) operators\n",
    "    - Harmonic oscillator operators\n",
    "    - Using Qobj instances we can check some well known commutation relations"
   ]
  },
  {
   "cell_type": "markdown",
   "metadata": {},
   "source": [
    "### State vectors"
   ]
  },
  {
   "cell_type": "code",
   "execution_count": 7,
   "metadata": {
    "collapsed": false
   },
   "outputs": [
    {
     "data": {
      "text/latex": [
       "Quantum object: dims = [[2], [1]], shape = [2, 1], type = ket\\begin{equation*}\\left(\\begin{array}{*{11}c}0.0\\\\1.0\\\\\\end{array}\\right)\\end{equation*}"
      ],
      "text/plain": [
       "Quantum object: dims = [[2], [1]], shape = [2, 1], type = ket\n",
       "Qobj data =\n",
       "[[ 0.]\n",
       " [ 1.]]"
      ]
     },
     "execution_count": 7,
     "metadata": {},
     "output_type": "execute_result"
    }
   ],
   "source": [
    "# Fundamental basis states (Fock states of oscillator modes)\n",
    "\n",
    "N = 2 # number of states in the Hilbert space\n",
    "n = 1 # the state that will be occupied\n",
    "\n",
    "basis(N, n)    # equivalent to fock(N, n)"
   ]
  },
  {
   "cell_type": "code",
   "execution_count": 17,
   "metadata": {
    "collapsed": false
   },
   "outputs": [
    {
     "data": {
      "text/latex": [
       "Quantum object: dims = [[4], [1]], shape = [4, 1], type = ket\\begin{equation*}\\left(\\begin{array}{*{11}c}0.0\\\\0.0\\\\1.0\\\\0.0\\\\\\end{array}\\right)\\end{equation*}"
      ],
      "text/plain": [
       "Quantum object: dims = [[4], [1]], shape = [4, 1], type = ket\n",
       "Qobj data =\n",
       "[[ 0.]\n",
       " [ 0.]\n",
       " [ 1.]\n",
       " [ 0.]]"
      ]
     },
     "execution_count": 17,
     "metadata": {},
     "output_type": "execute_result"
    }
   ],
   "source": [
    "fock(4, 2) # another example"
   ]
  },
  {
   "cell_type": "code",
   "execution_count": 18,
   "metadata": {
    "collapsed": false
   },
   "outputs": [
    {
     "data": {
      "text/latex": [
       "Quantum object: dims = [[10], [1]], shape = [10, 1], type = ket\\begin{equation*}\\left(\\begin{array}{*{11}c}0.607\\\\0.607\\\\0.429\\\\0.248\\\\0.124\\\\0.055\\\\0.023\\\\0.009\\\\0.003\\\\0.001\\\\\\end{array}\\right)\\end{equation*}"
      ],
      "text/plain": [
       "Quantum object: dims = [[10], [1]], shape = [10, 1], type = ket\n",
       "Qobj data =\n",
       "[[ 0.60653066]\n",
       " [ 0.60653066]\n",
       " [ 0.42888194]\n",
       " [ 0.24761511]\n",
       " [ 0.12380753]\n",
       " [ 0.0553686 ]\n",
       " [ 0.02260303]\n",
       " [ 0.00854887]\n",
       " [ 0.00299672]\n",
       " [ 0.00110007]]"
      ]
     },
     "execution_count": 18,
     "metadata": {},
     "output_type": "execute_result"
    }
   ],
   "source": [
    "# a coherent state\n",
    "coherent(N=10, alpha=1.0)"
   ]
  },
  {
   "cell_type": "markdown",
   "metadata": {},
   "source": [
    "### Density matrices"
   ]
  },
  {
   "cell_type": "code",
   "execution_count": 19,
   "metadata": {
    "collapsed": false
   },
   "outputs": [
    {
     "data": {
      "text/latex": [
       "Quantum object: dims = [[5], [5]], shape = [5, 5], type = oper, isherm = True\\begin{equation*}\\left(\\begin{array}{*{11}c}0.0 & 0.0 & 0.0 & 0.0 & 0.0\\\\0.0 & 0.0 & 0.0 & 0.0 & 0.0\\\\0.0 & 0.0 & 1.0 & 0.0 & 0.0\\\\0.0 & 0.0 & 0.0 & 0.0 & 0.0\\\\0.0 & 0.0 & 0.0 & 0.0 & 0.0\\\\\\end{array}\\right)\\end{equation*}"
      ],
      "text/plain": [
       "Quantum object: dims = [[5], [5]], shape = [5, 5], type = oper, isherm = True\n",
       "Qobj data =\n",
       "[[ 0.  0.  0.  0.  0.]\n",
       " [ 0.  0.  0.  0.  0.]\n",
       " [ 0.  0.  1.  0.  0.]\n",
       " [ 0.  0.  0.  0.  0.]\n",
       " [ 0.  0.  0.  0.  0.]]"
      ]
     },
     "execution_count": 19,
     "metadata": {},
     "output_type": "execute_result"
    }
   ],
   "source": [
    "# a fock state as density matrix\n",
    "fock_dm(5, 2) # 5 = hilbert space size, 2 = state that is occupied"
   ]
  },
  {
   "cell_type": "code",
   "execution_count": 21,
   "metadata": {
    "collapsed": false
   },
   "outputs": [
    {
     "data": {
      "text/latex": [
       "Quantum object: dims = [[8], [8]], shape = [8, 8], type = oper, isherm = True\\begin{equation*}\\left(\\begin{array}{*{11}c}0.368 & 0.368 & 0.260 & 0.150 & 0.075 & 0.034 & 0.014 & 0.006\\\\0.368 & 0.368 & 0.260 & 0.150 & 0.075 & 0.034 & 0.014 & 0.006\\\\0.260 & 0.260 & 0.184 & 0.106 & 0.053 & 0.024 & 0.010 & 0.004\\\\0.150 & 0.150 & 0.106 & 0.061 & 0.031 & 0.014 & 0.006 & 0.002\\\\0.075 & 0.075 & 0.053 & 0.031 & 0.015 & 0.007 & 0.003 & 0.001\\\\0.034 & 0.034 & 0.024 & 0.014 & 0.007 & 0.003 & 0.001 & 5.276\\times10^{-04}\\\\0.014 & 0.014 & 0.010 & 0.006 & 0.003 & 0.001 & 4.990\\times10^{-04} & 2.126\\times10^{-04}\\\\0.006 & 0.006 & 0.004 & 0.002 & 0.001 & 5.276\\times10^{-04} & 2.126\\times10^{-04} & 9.058\\times10^{-05}\\\\\\end{array}\\right)\\end{equation*}"
      ],
      "text/plain": [
       "Quantum object: dims = [[8], [8]], shape = [8, 8], type = oper, isherm = True\n",
       "Qobj data =\n",
       "[[  3.67879439e-01   3.67879455e-01   2.60129900e-01   1.50187300e-01\n",
       "    7.50858773e-02   3.36199110e-02   1.35485515e-02   5.77267786e-03]\n",
       " [  3.67879455e-01   3.67879470e-01   2.60129911e-01   1.50187306e-01\n",
       "    7.50858804e-02   3.36199124e-02   1.35485520e-02   5.77267810e-03]\n",
       " [  2.60129900e-01   2.60129911e-01   1.83939513e-01   1.06198399e-01\n",
       "    5.30937031e-02   2.37728537e-02   9.58026722e-03   4.08189737e-03]\n",
       " [  1.50187300e-01   1.50187306e-01   1.06198399e-01   6.13141770e-02\n",
       "    3.06539153e-02   1.37253761e-02   5.53121524e-03   2.35670388e-03]\n",
       " [  7.50858773e-02   7.50858804e-02   5.30937031e-02   3.06539153e-02\n",
       "    1.53253712e-02   6.86197771e-03   2.76532136e-03   1.17822997e-03]\n",
       " [  3.36199110e-02   3.36199124e-02   2.37728537e-02   1.37253761e-02\n",
       "    6.86197771e-03   3.07246966e-03   1.23818035e-03   5.27555757e-04]\n",
       " [  1.35485515e-02   1.35485520e-02   9.58026722e-03   5.53121524e-03\n",
       "    2.76532136e-03   1.23818035e-03   4.98976640e-04   2.12600691e-04]\n",
       " [  5.77267786e-03   5.77267810e-03   4.08189737e-03   2.35670388e-03\n",
       "    1.17822997e-03   5.27555757e-04   2.12600691e-04   9.05835068e-05]]"
      ]
     },
     "execution_count": 21,
     "metadata": {},
     "output_type": "execute_result"
    }
   ],
   "source": [
    "# coherent state as density matrix\n",
    "coherent_dm(N=8, alpha=1.0)"
   ]
  },
  {
   "cell_type": "code",
   "execution_count": 22,
   "metadata": {
    "collapsed": false
   },
   "outputs": [
    {
     "data": {
      "text/latex": [
       "Quantum object: dims = [[8], [8]], shape = [8, 8], type = oper, isherm = True\\begin{equation*}\\left(\\begin{array}{*{11}c}0.502 & 0.0 & 0.0 & 0.0 & 0.0 & 0.0 & 0.0 & 0.0\\\\0.0 & 0.251 & 0.0 & 0.0 & 0.0 & 0.0 & 0.0 & 0.0\\\\0.0 & 0.0 & 0.125 & 0.0 & 0.0 & 0.0 & 0.0 & 0.0\\\\0.0 & 0.0 & 0.0 & 0.063 & 0.0 & 0.0 & 0.0 & 0.0\\\\0.0 & 0.0 & 0.0 & 0.0 & 0.031 & 0.0 & 0.0 & 0.0\\\\0.0 & 0.0 & 0.0 & 0.0 & 0.0 & 0.016 & 0.0 & 0.0\\\\0.0 & 0.0 & 0.0 & 0.0 & 0.0 & 0.0 & 0.008 & 0.0\\\\0.0 & 0.0 & 0.0 & 0.0 & 0.0 & 0.0 & 0.0 & 0.004\\\\\\end{array}\\right)\\end{equation*}"
      ],
      "text/plain": [
       "Quantum object: dims = [[8], [8]], shape = [8, 8], type = oper, isherm = True\n",
       "Qobj data =\n",
       "[[ 0.50196078  0.          0.          0.          0.          0.          0.\n",
       "   0.        ]\n",
       " [ 0.          0.25098039  0.          0.          0.          0.          0.\n",
       "   0.        ]\n",
       " [ 0.          0.          0.1254902   0.          0.          0.          0.\n",
       "   0.        ]\n",
       " [ 0.          0.          0.          0.0627451   0.          0.          0.\n",
       "   0.        ]\n",
       " [ 0.          0.          0.          0.          0.03137255  0.          0.\n",
       "   0.        ]\n",
       " [ 0.          0.          0.          0.          0.          0.01568627\n",
       "   0.          0.        ]\n",
       " [ 0.          0.          0.          0.          0.          0.\n",
       "   0.00784314  0.        ]\n",
       " [ 0.          0.          0.          0.          0.          0.          0.\n",
       "   0.00392157]]"
      ]
     },
     "execution_count": 22,
     "metadata": {},
     "output_type": "execute_result"
    }
   ],
   "source": [
    "# thermal state\n",
    "n = 1 # average number of thermal photons\n",
    "thermal_dm(8, n)"
   ]
  },
  {
   "cell_type": "markdown",
   "metadata": {},
   "source": [
    "### Operators"
   ]
  },
  {
   "cell_type": "markdown",
   "metadata": {},
   "source": [
    "#### Qubit (two-level system) operators"
   ]
  },
  {
   "cell_type": "code",
   "execution_count": 23,
   "metadata": {
    "collapsed": false
   },
   "outputs": [
    {
     "data": {
      "text/latex": [
       "Quantum object: dims = [[2], [2]], shape = [2, 2], type = oper, isherm = True\\begin{equation*}\\left(\\begin{array}{*{11}c}0.0 & 1.0\\\\1.0 & 0.0\\\\\\end{array}\\right)\\end{equation*}"
      ],
      "text/plain": [
       "Quantum object: dims = [[2], [2]], shape = [2, 2], type = oper, isherm = True\n",
       "Qobj data =\n",
       "[[ 0.  1.]\n",
       " [ 1.  0.]]"
      ]
     },
     "execution_count": 23,
     "metadata": {},
     "output_type": "execute_result"
    }
   ],
   "source": [
    "# Pauli sigma x\n",
    "sigmax()"
   ]
  },
  {
   "cell_type": "code",
   "execution_count": 24,
   "metadata": {
    "collapsed": false
   },
   "outputs": [
    {
     "data": {
      "text/latex": [
       "Quantum object: dims = [[2], [2]], shape = [2, 2], type = oper, isherm = True\\begin{equation*}\\left(\\begin{array}{*{11}c}0.0 & -1.0j\\\\1.0j & 0.0\\\\\\end{array}\\right)\\end{equation*}"
      ],
      "text/plain": [
       "Quantum object: dims = [[2], [2]], shape = [2, 2], type = oper, isherm = True\n",
       "Qobj data =\n",
       "[[ 0.+0.j  0.-1.j]\n",
       " [ 0.+1.j  0.+0.j]]"
      ]
     },
     "execution_count": 24,
     "metadata": {},
     "output_type": "execute_result"
    }
   ],
   "source": [
    "# Pauli sigma y\n",
    "sigmay()"
   ]
  },
  {
   "cell_type": "code",
   "execution_count": 25,
   "metadata": {
    "collapsed": false
   },
   "outputs": [
    {
     "data": {
      "text/latex": [
       "Quantum object: dims = [[2], [2]], shape = [2, 2], type = oper, isherm = True\\begin{equation*}\\left(\\begin{array}{*{11}c}1.0 & 0.0\\\\0.0 & -1.0\\\\\\end{array}\\right)\\end{equation*}"
      ],
      "text/plain": [
       "Quantum object: dims = [[2], [2]], shape = [2, 2], type = oper, isherm = True\n",
       "Qobj data =\n",
       "[[ 1.  0.]\n",
       " [ 0. -1.]]"
      ]
     },
     "execution_count": 25,
     "metadata": {},
     "output_type": "execute_result"
    }
   ],
   "source": [
    "# Pauli sigma z\n",
    "sigmaz()"
   ]
  },
  {
   "cell_type": "markdown",
   "metadata": {},
   "source": [
    "#### Harmonic oscillator operators"
   ]
  },
  {
   "cell_type": "code",
   "execution_count": 26,
   "metadata": {
    "collapsed": false
   },
   "outputs": [
    {
     "data": {
      "text/latex": [
       "Quantum object: dims = [[8], [8]], shape = [8, 8], type = oper, isherm = False\\begin{equation*}\\left(\\begin{array}{*{11}c}0.0 & 1.0 & 0.0 & 0.0 & 0.0 & 0.0 & 0.0 & 0.0\\\\0.0 & 0.0 & 1.414 & 0.0 & 0.0 & 0.0 & 0.0 & 0.0\\\\0.0 & 0.0 & 0.0 & 1.732 & 0.0 & 0.0 & 0.0 & 0.0\\\\0.0 & 0.0 & 0.0 & 0.0 & 2.0 & 0.0 & 0.0 & 0.0\\\\0.0 & 0.0 & 0.0 & 0.0 & 0.0 & 2.236 & 0.0 & 0.0\\\\0.0 & 0.0 & 0.0 & 0.0 & 0.0 & 0.0 & 2.449 & 0.0\\\\0.0 & 0.0 & 0.0 & 0.0 & 0.0 & 0.0 & 0.0 & 2.646\\\\0.0 & 0.0 & 0.0 & 0.0 & 0.0 & 0.0 & 0.0 & 0.0\\\\\\end{array}\\right)\\end{equation*}"
      ],
      "text/plain": [
       "Quantum object: dims = [[8], [8]], shape = [8, 8], type = oper, isherm = False\n",
       "Qobj data =\n",
       "[[ 0.          1.          0.          0.          0.          0.          0.\n",
       "   0.        ]\n",
       " [ 0.          0.          1.41421356  0.          0.          0.          0.\n",
       "   0.        ]\n",
       " [ 0.          0.          0.          1.73205081  0.          0.          0.\n",
       "   0.        ]\n",
       " [ 0.          0.          0.          0.          2.          0.          0.\n",
       "   0.        ]\n",
       " [ 0.          0.          0.          0.          0.          2.23606798\n",
       "   0.          0.        ]\n",
       " [ 0.          0.          0.          0.          0.          0.\n",
       "   2.44948974  0.        ]\n",
       " [ 0.          0.          0.          0.          0.          0.          0.\n",
       "   2.64575131]\n",
       " [ 0.          0.          0.          0.          0.          0.          0.\n",
       "   0.        ]]"
      ]
     },
     "execution_count": 26,
     "metadata": {},
     "output_type": "execute_result"
    }
   ],
   "source": [
    "#  annihilation operator\n",
    "destroy(N=8) # N = number of fock states included in the Hilbert space"
   ]
  },
  {
   "cell_type": "code",
   "execution_count": 27,
   "metadata": {
    "collapsed": false
   },
   "outputs": [
    {
     "data": {
      "text/latex": [
       "Quantum object: dims = [[8], [8]], shape = [8, 8], type = oper, isherm = False\\begin{equation*}\\left(\\begin{array}{*{11}c}0.0 & 0.0 & 0.0 & 0.0 & 0.0 & 0.0 & 0.0 & 0.0\\\\1.0 & 0.0 & 0.0 & 0.0 & 0.0 & 0.0 & 0.0 & 0.0\\\\0.0 & 1.414 & 0.0 & 0.0 & 0.0 & 0.0 & 0.0 & 0.0\\\\0.0 & 0.0 & 1.732 & 0.0 & 0.0 & 0.0 & 0.0 & 0.0\\\\0.0 & 0.0 & 0.0 & 2.0 & 0.0 & 0.0 & 0.0 & 0.0\\\\0.0 & 0.0 & 0.0 & 0.0 & 2.236 & 0.0 & 0.0 & 0.0\\\\0.0 & 0.0 & 0.0 & 0.0 & 0.0 & 2.449 & 0.0 & 0.0\\\\0.0 & 0.0 & 0.0 & 0.0 & 0.0 & 0.0 & 2.646 & 0.0\\\\\\end{array}\\right)\\end{equation*}"
      ],
      "text/plain": [
       "Quantum object: dims = [[8], [8]], shape = [8, 8], type = oper, isherm = False\n",
       "Qobj data =\n",
       "[[ 0.          0.          0.          0.          0.          0.          0.\n",
       "   0.        ]\n",
       " [ 1.          0.          0.          0.          0.          0.          0.\n",
       "   0.        ]\n",
       " [ 0.          1.41421356  0.          0.          0.          0.          0.\n",
       "   0.        ]\n",
       " [ 0.          0.          1.73205081  0.          0.          0.          0.\n",
       "   0.        ]\n",
       " [ 0.          0.          0.          2.          0.          0.          0.\n",
       "   0.        ]\n",
       " [ 0.          0.          0.          0.          2.23606798  0.          0.\n",
       "   0.        ]\n",
       " [ 0.          0.          0.          0.          0.          2.44948974\n",
       "   0.          0.        ]\n",
       " [ 0.          0.          0.          0.          0.          0.\n",
       "   2.64575131  0.        ]]"
      ]
     },
     "execution_count": 27,
     "metadata": {},
     "output_type": "execute_result"
    }
   ],
   "source": [
    "# creation operator\n",
    "create(N=8) # equivalent to destroy(5).dag()"
   ]
  },
  {
   "cell_type": "code",
   "execution_count": 28,
   "metadata": {
    "collapsed": false
   },
   "outputs": [
    {
     "data": {
      "text/latex": [
       "Quantum object: dims = [[8], [8]], shape = [8, 8], type = oper, isherm = True\\begin{equation*}\\left(\\begin{array}{*{11}c}0.0 & 1.0 & 0.0 & 0.0 & 0.0 & 0.0 & 0.0 & 0.0\\\\1.0 & 0.0 & 1.414 & 0.0 & 0.0 & 0.0 & 0.0 & 0.0\\\\0.0 & 1.414 & 0.0 & 1.732 & 0.0 & 0.0 & 0.0 & 0.0\\\\0.0 & 0.0 & 1.732 & 0.0 & 2.0 & 0.0 & 0.0 & 0.0\\\\0.0 & 0.0 & 0.0 & 2.0 & 0.0 & 2.236 & 0.0 & 0.0\\\\0.0 & 0.0 & 0.0 & 0.0 & 2.236 & 0.0 & 2.449 & 0.0\\\\0.0 & 0.0 & 0.0 & 0.0 & 0.0 & 2.449 & 0.0 & 2.646\\\\0.0 & 0.0 & 0.0 & 0.0 & 0.0 & 0.0 & 2.646 & 0.0\\\\\\end{array}\\right)\\end{equation*}"
      ],
      "text/plain": [
       "Quantum object: dims = [[8], [8]], shape = [8, 8], type = oper, isherm = True\n",
       "Qobj data =\n",
       "[[ 0.          1.          0.          0.          0.          0.          0.\n",
       "   0.        ]\n",
       " [ 1.          0.          1.41421356  0.          0.          0.          0.\n",
       "   0.        ]\n",
       " [ 0.          1.41421356  0.          1.73205081  0.          0.          0.\n",
       "   0.        ]\n",
       " [ 0.          0.          1.73205081  0.          2.          0.          0.\n",
       "   0.        ]\n",
       " [ 0.          0.          0.          2.          0.          2.23606798\n",
       "   0.          0.        ]\n",
       " [ 0.          0.          0.          0.          2.23606798  0.\n",
       "   2.44948974  0.        ]\n",
       " [ 0.          0.          0.          0.          0.          2.44948974\n",
       "   0.          2.64575131]\n",
       " [ 0.          0.          0.          0.          0.          0.\n",
       "   2.64575131  0.        ]]"
      ]
     },
     "execution_count": 28,
     "metadata": {},
     "output_type": "execute_result"
    }
   ],
   "source": [
    "# the position operator is easily constructed from the annihilation operator\n",
    "a = destroy(8)\n",
    "x = a + a.dag()\n",
    "x"
   ]
  },
  {
   "cell_type": "markdown",
   "metadata": {},
   "source": [
    "#### Using Qobj instances we can check some well known commutation relations"
   ]
  },
  {
   "cell_type": "code",
   "execution_count": 29,
   "metadata": {
    "collapsed": true
   },
   "outputs": [],
   "source": [
    "def commutator(op1, op2):\n",
    "    return op1 * op2 - op2 * op1"
   ]
  },
  {
   "cell_type": "markdown",
   "metadata": {},
   "source": [
    "$[a, a^1] = 1$"
   ]
  },
  {
   "cell_type": "code",
   "execution_count": 30,
   "metadata": {
    "collapsed": false
   },
   "outputs": [
    {
     "data": {
      "text/latex": [
       "Quantum object: dims = [[5], [5]], shape = [5, 5], type = oper, isherm = True\\begin{equation*}\\left(\\begin{array}{*{11}c}1.0 & 0.0 & 0.0 & 0.0 & 0.0\\\\0.0 & 1.0 & 0.0 & 0.0 & 0.0\\\\0.0 & 0.0 & 1.000 & 0.0 & 0.0\\\\0.0 & 0.0 & 0.0 & 1.0 & 0.0\\\\0.0 & 0.0 & 0.0 & 0.0 & -4.0\\\\\\end{array}\\right)\\end{equation*}"
      ],
      "text/plain": [
       "Quantum object: dims = [[5], [5]], shape = [5, 5], type = oper, isherm = True\n",
       "Qobj data =\n",
       "[[ 1.  0.  0.  0.  0.]\n",
       " [ 0.  1.  0.  0.  0.]\n",
       " [ 0.  0.  1.  0.  0.]\n",
       " [ 0.  0.  0.  1.  0.]\n",
       " [ 0.  0.  0.  0. -4.]]"
      ]
     },
     "execution_count": 30,
     "metadata": {},
     "output_type": "execute_result"
    }
   ],
   "source": [
    "a = destroy(5)\n",
    "commutator(a, a.dag())"
   ]
  },
  {
   "cell_type": "markdown",
   "metadata": {},
   "source": [
    "$[x,p] = i$"
   ]
  },
  {
   "cell_type": "code",
   "execution_count": 20,
   "metadata": {
    "collapsed": true
   },
   "outputs": [],
   "source": [
    "from math import *"
   ]
  },
  {
   "cell_type": "code",
   "execution_count": 33,
   "metadata": {
    "collapsed": false
   },
   "outputs": [
    {
     "data": {
      "text/latex": [
       "Quantum object: dims = [[5], [5]], shape = [5, 5], type = oper, isherm = False\\begin{equation*}\\left(\\begin{array}{*{11}c}1.000j & 0.0 & 0.0 & 0.0 & 0.0\\\\0.0 & 1.0j & 0.0 & 0.0 & 0.0\\\\0.0 & 0.0 & 1.000j & 0.0 & 0.0\\\\0.0 & 0.0 & 0.0 & 1.000j & 0.0\\\\0.0 & 0.0 & 0.0 & 0.0 & -4.000j\\\\\\end{array}\\right)\\end{equation*}"
      ],
      "text/plain": [
       "Quantum object: dims = [[5], [5]], shape = [5, 5], type = oper, isherm = False\n",
       "Qobj data =\n",
       "[[ 0.+1.j  0.+0.j  0.+0.j  0.+0.j  0.+0.j]\n",
       " [ 0.+0.j  0.+1.j  0.+0.j  0.+0.j  0.+0.j]\n",
       " [ 0.+0.j  0.+0.j  0.+1.j  0.+0.j  0.+0.j]\n",
       " [ 0.+0.j  0.+0.j  0.+0.j  0.+1.j  0.+0.j]\n",
       " [ 0.+0.j  0.+0.j  0.+0.j  0.+0.j  0.-4.j]]"
      ]
     },
     "execution_count": 33,
     "metadata": {},
     "output_type": "execute_result"
    }
   ],
   "source": [
    "x =       (a + a.dag())/sqrt(2)\n",
    "p = -1j * (a - a.dag())/sqrt(2)\n",
    "commutator(x, p)"
   ]
  },
  {
   "cell_type": "markdown",
   "metadata": {},
   "source": [
    "Let's try some Pauli spin inequalities\n",
    "\n",
    "$[\\sigma_x, \\sigma_y] = 2i \\sigma_z$"
   ]
  },
  {
   "cell_type": "code",
   "execution_count": 34,
   "metadata": {
    "collapsed": false
   },
   "outputs": [
    {
     "data": {
      "text/latex": [
       "Quantum object: dims = [[2], [2]], shape = [2, 2], type = oper, isherm = True\\begin{equation*}\\left(\\begin{array}{*{11}c}0.0 & 0.0\\\\0.0 & 0.0\\\\\\end{array}\\right)\\end{equation*}"
      ],
      "text/plain": [
       "Quantum object: dims = [[2], [2]], shape = [2, 2], type = oper, isherm = True\n",
       "Qobj data =\n",
       "[[ 0.  0.]\n",
       " [ 0.  0.]]"
      ]
     },
     "execution_count": 34,
     "metadata": {},
     "output_type": "execute_result"
    }
   ],
   "source": [
    "commutator(sigmax(), sigmay()) - 2j * sigmaz()"
   ]
  },
  {
   "cell_type": "markdown",
   "metadata": {},
   "source": [
    "$-i \\sigma_x \\sigma_y \\sigma_z = \\mathbf{1}$"
   ]
  },
  {
   "cell_type": "code",
   "execution_count": 35,
   "metadata": {
    "collapsed": false
   },
   "outputs": [
    {
     "data": {
      "text/latex": [
       "Quantum object: dims = [[2], [2]], shape = [2, 2], type = oper, isherm = True\\begin{equation*}\\left(\\begin{array}{*{11}c}1.0 & 0.0\\\\0.0 & 1.0\\\\\\end{array}\\right)\\end{equation*}"
      ],
      "text/plain": [
       "Quantum object: dims = [[2], [2]], shape = [2, 2], type = oper, isherm = True\n",
       "Qobj data =\n",
       "[[ 1.  0.]\n",
       " [ 0.  1.]]"
      ]
     },
     "execution_count": 35,
     "metadata": {},
     "output_type": "execute_result"
    }
   ],
   "source": [
    "-1j * sigmax() * sigmay() * sigmaz()"
   ]
  },
  {
   "cell_type": "markdown",
   "metadata": {},
   "source": [
    "$\\sigma_x^2 = \\sigma_y^2 = \\sigma_z^2 = \\mathbf{1}$"
   ]
  },
  {
   "cell_type": "code",
   "execution_count": 36,
   "metadata": {
    "collapsed": false
   },
   "outputs": [
    {
     "data": {
      "text/plain": [
       "True"
      ]
     },
     "execution_count": 36,
     "metadata": {},
     "output_type": "execute_result"
    }
   ],
   "source": [
    "sigmax()**2 == sigmay()**2 == sigmaz()**2 == qeye(2)"
   ]
  },
  {
   "cell_type": "markdown",
   "metadata": {},
   "source": [
    "## Composite systems"
   ]
  },
  {
   "cell_type": "markdown",
   "metadata": {},
   "source": [
    "In most cases we are interested in coupled quantum systems, for example coupled qubits, a qubit coupled to a cavity (oscillator mode), etc.\n",
    "\n",
    "To define states and operators for such systems in QuTiP, we use the `tensor` function to create `Qobj` instances for the composite system.\n",
    "\n",
    "For example, consider a system composed of two qubits. If we want to create a Pauli $\\sigma_z$ operator that acts on the first qubit and leaves the second qubit unaffected (i.e., the operator $\\sigma_z \\otimes \\mathbf{1}$), we would do:"
   ]
  },
  {
   "cell_type": "code",
   "execution_count": 37,
   "metadata": {
    "collapsed": false
   },
   "outputs": [
    {
     "data": {
      "text/latex": [
       "Quantum object: dims = [[2, 2], [2, 2]], shape = [4, 4], type = oper, isherm = True\\begin{equation*}\\left(\\begin{array}{*{11}c}1.0 & 0.0 & 0.0 & 0.0\\\\0.0 & 1.0 & 0.0 & 0.0\\\\0.0 & 0.0 & -1.0 & 0.0\\\\0.0 & 0.0 & 0.0 & -1.0\\\\\\end{array}\\right)\\end{equation*}"
      ],
      "text/plain": [
       "Quantum object: dims = [[2, 2], [2, 2]], shape = [4, 4], type = oper, isherm = True\n",
       "Qobj data =\n",
       "[[ 1.  0.  0.  0.]\n",
       " [ 0.  1.  0.  0.]\n",
       " [ 0.  0. -1.  0.]\n",
       " [ 0.  0.  0. -1.]]"
      ]
     },
     "execution_count": 37,
     "metadata": {},
     "output_type": "execute_result"
    }
   ],
   "source": [
    "sz1 = tensor(sigmaz(), qeye(2))\n",
    "sz1"
   ]
  },
  {
   "cell_type": "code",
   "execution_count": 38,
   "metadata": {
    "collapsed": true
   },
   "outputs": [],
   "source": [
    "psi1 = tensor(basis(N,1), basis(N,0)) # excited first qubit\n",
    "psi2 = tensor(basis(N,0), basis(N,1)) # excited second qubit"
   ]
  },
  {
   "cell_type": "code",
   "execution_count": 39,
   "metadata": {
    "collapsed": false
   },
   "outputs": [
    {
     "data": {
      "text/plain": [
       "False"
      ]
     },
     "execution_count": 39,
     "metadata": {},
     "output_type": "execute_result"
    }
   ],
   "source": [
    "sz1 * psi1 == psi1 # this should not be true, because sz1 should flip the sign of the excited state of psi1"
   ]
  },
  {
   "cell_type": "code",
   "execution_count": 40,
   "metadata": {
    "collapsed": false
   },
   "outputs": [
    {
     "data": {
      "text/plain": [
       "True"
      ]
     },
     "execution_count": 40,
     "metadata": {},
     "output_type": "execute_result"
    }
   ],
   "source": [
    "sz1 * psi2 == psi2 # this should be true, because sz1 should leave psi2 unaffected"
   ]
  },
  {
   "cell_type": "code",
   "execution_count": 41,
   "metadata": {
    "collapsed": false
   },
   "outputs": [
    {
     "data": {
      "text/latex": [
       "Quantum object: dims = [[2, 2], [2, 2]], shape = [4, 4], type = oper, isherm = True\\begin{equation*}\\left(\\begin{array}{*{11}c}1.0 & 0.0 & 0.0 & 0.0\\\\0.0 & -1.0 & 0.0 & 0.0\\\\0.0 & 0.0 & 1.0 & 0.0\\\\0.0 & 0.0 & 0.0 & -1.0\\\\\\end{array}\\right)\\end{equation*}"
      ],
      "text/plain": [
       "Quantum object: dims = [[2, 2], [2, 2]], shape = [4, 4], type = oper, isherm = True\n",
       "Qobj data =\n",
       "[[ 1.  0.  0.  0.]\n",
       " [ 0. -1.  0.  0.]\n",
       " [ 0.  0.  1.  0.]\n",
       " [ 0.  0.  0. -1.]]"
      ]
     },
     "execution_count": 41,
     "metadata": {},
     "output_type": "execute_result"
    }
   ],
   "source": [
    "sz2 = tensor(qeye(2), sigmaz())\n",
    "sz2"
   ]
  },
  {
   "cell_type": "markdown",
   "metadata": {},
   "source": [
    "Using the same method we can create coupling terms of the form $\\sigma_x \\otimes \\sigma_x$:"
   ]
  },
  {
   "cell_type": "code",
   "execution_count": 42,
   "metadata": {
    "collapsed": false
   },
   "outputs": [
    {
     "data": {
      "text/latex": [
       "Quantum object: dims = [[2, 2], [2, 2]], shape = [4, 4], type = oper, isherm = True\\begin{equation*}\\left(\\begin{array}{*{11}c}0.0 & 0.0 & 0.0 & 1.0\\\\0.0 & 0.0 & 1.0 & 0.0\\\\0.0 & 1.0 & 0.0 & 0.0\\\\1.0 & 0.0 & 0.0 & 0.0\\\\\\end{array}\\right)\\end{equation*}"
      ],
      "text/plain": [
       "Quantum object: dims = [[2, 2], [2, 2]], shape = [4, 4], type = oper, isherm = True\n",
       "Qobj data =\n",
       "[[ 0.  0.  0.  1.]\n",
       " [ 0.  0.  1.  0.]\n",
       " [ 0.  1.  0.  0.]\n",
       " [ 1.  0.  0.  0.]]"
      ]
     },
     "execution_count": 42,
     "metadata": {},
     "output_type": "execute_result"
    }
   ],
   "source": [
    "tensor(sigmax(), sigmax())"
   ]
  },
  {
   "cell_type": "markdown",
   "metadata": {},
   "source": [
    "Now we are ready to create a `Qobj` representation of a coupled two-qubit Hamiltonian: $H = \\epsilon_1 \\sigma_z^{(1)} + \\epsilon_2 \\sigma_z^{(2)} + g \\sigma_x^{(1)}\\sigma_x^{(2)}$"
   ]
  },
  {
   "cell_type": "code",
   "execution_count": 43,
   "metadata": {
    "collapsed": false
   },
   "outputs": [
    {
     "data": {
      "text/latex": [
       "Quantum object: dims = [[2, 2], [2, 2]], shape = [4, 4], type = oper, isherm = True\\begin{equation*}\\left(\\begin{array}{*{11}c}2.0 & 0.0 & 0.0 & 0.100\\\\0.0 & 0.0 & 0.100 & 0.0\\\\0.0 & 0.100 & 0.0 & 0.0\\\\0.100 & 0.0 & 0.0 & -2.0\\\\\\end{array}\\right)\\end{equation*}"
      ],
      "text/plain": [
       "Quantum object: dims = [[2, 2], [2, 2]], shape = [4, 4], type = oper, isherm = True\n",
       "Qobj data =\n",
       "[[ 2.   0.   0.   0.1]\n",
       " [ 0.   0.   0.1  0. ]\n",
       " [ 0.   0.1  0.   0. ]\n",
       " [ 0.1  0.   0.  -2. ]]"
      ]
     },
     "execution_count": 43,
     "metadata": {},
     "output_type": "execute_result"
    }
   ],
   "source": [
    "epsilon = [1.0, 1.0]\n",
    "g = 0.1\n",
    "\n",
    "sz1 = tensor(sigmaz(), qeye(2))\n",
    "sz2 = tensor(qeye(2), sigmaz())\n",
    "\n",
    "H = epsilon[0] * sz1 + epsilon[1] * sz2 + g * tensor(sigmax(), sigmax())\n",
    "\n",
    "H"
   ]
  },
  {
   "cell_type": "markdown",
   "metadata": {},
   "source": [
    "To create composite systems of different types, all we need to do is to change the operators that we pass to the `tensor` function (which can take an arbitrary number of operator for composite systems with many components).\n",
    "\n",
    "For example, the Jaynes-Cumming Hamiltonian for a qubit-cavity system:\n",
    "\n",
    "$H = \\omega_c a^\\dagger a - \\frac{1}{2}\\omega_a \\sigma_z + g (a \\sigma_+ + a^\\dagger \\sigma_-)$"
   ]
  },
  {
   "cell_type": "code",
   "execution_count": 45,
   "metadata": {
    "collapsed": false
   },
   "outputs": [
    {
     "data": {
      "text/latex": [
       "Quantum object: dims = [[5, 2], [5, 2]], shape = [10, 10], type = oper, isherm = True\\begin{equation*}\\left(\\begin{array}{*{11}c}-0.500 & 0.0 & 0.0 & 0.0 & 0.0 & 0.0 & 0.0 & 0.0 & 0.0 & 0.0\\\\0.0 & 0.500 & 0.100 & 0.0 & 0.0 & 0.0 & 0.0 & 0.0 & 0.0 & 0.0\\\\0.0 & 0.100 & 0.500 & 0.0 & 0.0 & 0.0 & 0.0 & 0.0 & 0.0 & 0.0\\\\0.0 & 0.0 & 0.0 & 1.500 & 0.141 & 0.0 & 0.0 & 0.0 & 0.0 & 0.0\\\\0.0 & 0.0 & 0.0 & 0.141 & 1.500 & 0.0 & 0.0 & 0.0 & 0.0 & 0.0\\\\0.0 & 0.0 & 0.0 & 0.0 & 0.0 & 2.500 & 0.173 & 0.0 & 0.0 & 0.0\\\\0.0 & 0.0 & 0.0 & 0.0 & 0.0 & 0.173 & 2.500 & 0.0 & 0.0 & 0.0\\\\0.0 & 0.0 & 0.0 & 0.0 & 0.0 & 0.0 & 0.0 & 3.500 & 0.200 & 0.0\\\\0.0 & 0.0 & 0.0 & 0.0 & 0.0 & 0.0 & 0.0 & 0.200 & 3.500 & 0.0\\\\0.0 & 0.0 & 0.0 & 0.0 & 0.0 & 0.0 & 0.0 & 0.0 & 0.0 & 4.500\\\\\\end{array}\\right)\\end{equation*}"
      ],
      "text/plain": [
       "Quantum object: dims = [[5, 2], [5, 2]], shape = [10, 10], type = oper, isherm = True\n",
       "Qobj data =\n",
       "[[-0.5         0.          0.          0.          0.          0.          0.\n",
       "   0.          0.          0.        ]\n",
       " [ 0.          0.5         0.1         0.          0.          0.          0.\n",
       "   0.          0.          0.        ]\n",
       " [ 0.          0.1         0.5         0.          0.          0.          0.\n",
       "   0.          0.          0.        ]\n",
       " [ 0.          0.          0.          1.5         0.14142136  0.          0.\n",
       "   0.          0.          0.        ]\n",
       " [ 0.          0.          0.          0.14142136  1.5         0.          0.\n",
       "   0.          0.          0.        ]\n",
       " [ 0.          0.          0.          0.          0.          2.5\n",
       "   0.17320508  0.          0.          0.        ]\n",
       " [ 0.          0.          0.          0.          0.          0.17320508\n",
       "   2.5         0.          0.          0.        ]\n",
       " [ 0.          0.          0.          0.          0.          0.          0.\n",
       "   3.5         0.2         0.        ]\n",
       " [ 0.          0.          0.          0.          0.          0.          0.\n",
       "   0.2         3.5         0.        ]\n",
       " [ 0.          0.          0.          0.          0.          0.          0.\n",
       "   0.          0.          4.5       ]]"
      ]
     },
     "execution_count": 45,
     "metadata": {},
     "output_type": "execute_result"
    }
   ],
   "source": [
    "wc = 1.0 # cavity frequency\n",
    "wa = 1.0 # qubit/atom frenqency\n",
    "g = 0.1  # coupling strength\n",
    "\n",
    "# cavity mode operator\n",
    "a = tensor(destroy(5), qeye(2))\n",
    "\n",
    "# qubit/atom operators\n",
    "sz = tensor(qeye(5), sigmaz())   # sigma-z operator\n",
    "sm = tensor(qeye(5), destroy(2)) # sigma-minus operator\n",
    "\n",
    "# the Jaynes-Cumming Hamiltonian\n",
    "H = wc * a.dag() * a - 0.5 * wa * sz + g * (a * sm.dag() + a.dag() * sm)\n",
    "\n",
    "H"
   ]
  },
  {
   "cell_type": "markdown",
   "metadata": {},
   "source": [
    "Note that \n",
    "\n",
    "$a \\sigma_+ = (a \\otimes \\mathbf{1}) (\\mathbf{1} \\otimes \\sigma_+)$\n",
    "\n",
    "so the following two are identical:"
   ]
  },
  {
   "cell_type": "code",
   "execution_count": 46,
   "metadata": {
    "collapsed": false
   },
   "outputs": [
    {
     "data": {
      "text/latex": [
       "Quantum object: dims = [[3, 2], [3, 2]], shape = [6, 6], type = oper, isherm = False\\begin{equation*}\\left(\\begin{array}{*{11}c}0.0 & 0.0 & 0.0 & 0.0 & 0.0 & 0.0\\\\0.0 & 0.0 & 1.0 & 0.0 & 0.0 & 0.0\\\\0.0 & 0.0 & 0.0 & 0.0 & 0.0 & 0.0\\\\0.0 & 0.0 & 0.0 & 0.0 & 1.414 & 0.0\\\\0.0 & 0.0 & 0.0 & 0.0 & 0.0 & 0.0\\\\0.0 & 0.0 & 0.0 & 0.0 & 0.0 & 0.0\\\\\\end{array}\\right)\\end{equation*}"
      ],
      "text/plain": [
       "Quantum object: dims = [[3, 2], [3, 2]], shape = [6, 6], type = oper, isherm = False\n",
       "Qobj data =\n",
       "[[ 0.          0.          0.          0.          0.          0.        ]\n",
       " [ 0.          0.          1.          0.          0.          0.        ]\n",
       " [ 0.          0.          0.          0.          0.          0.        ]\n",
       " [ 0.          0.          0.          0.          1.41421356  0.        ]\n",
       " [ 0.          0.          0.          0.          0.          0.        ]\n",
       " [ 0.          0.          0.          0.          0.          0.        ]]"
      ]
     },
     "execution_count": 46,
     "metadata": {},
     "output_type": "execute_result"
    }
   ],
   "source": [
    "a = tensor(destroy(3), qeye(2))\n",
    "sp = tensor(qeye(3), create(2))\n",
    "\n",
    "a * sp"
   ]
  },
  {
   "cell_type": "code",
   "execution_count": 47,
   "metadata": {
    "collapsed": false
   },
   "outputs": [
    {
     "data": {
      "text/latex": [
       "Quantum object: dims = [[3, 2], [3, 2]], shape = [6, 6], type = oper, isherm = False\\begin{equation*}\\left(\\begin{array}{*{11}c}0.0 & 0.0 & 0.0 & 0.0 & 0.0 & 0.0\\\\0.0 & 0.0 & 1.0 & 0.0 & 0.0 & 0.0\\\\0.0 & 0.0 & 0.0 & 0.0 & 0.0 & 0.0\\\\0.0 & 0.0 & 0.0 & 0.0 & 1.414 & 0.0\\\\0.0 & 0.0 & 0.0 & 0.0 & 0.0 & 0.0\\\\0.0 & 0.0 & 0.0 & 0.0 & 0.0 & 0.0\\\\\\end{array}\\right)\\end{equation*}"
      ],
      "text/plain": [
       "Quantum object: dims = [[3, 2], [3, 2]], shape = [6, 6], type = oper, isherm = False\n",
       "Qobj data =\n",
       "[[ 0.          0.          0.          0.          0.          0.        ]\n",
       " [ 0.          0.          1.          0.          0.          0.        ]\n",
       " [ 0.          0.          0.          0.          0.          0.        ]\n",
       " [ 0.          0.          0.          0.          1.41421356  0.        ]\n",
       " [ 0.          0.          0.          0.          0.          0.        ]\n",
       " [ 0.          0.          0.          0.          0.          0.        ]]"
      ]
     },
     "execution_count": 47,
     "metadata": {},
     "output_type": "execute_result"
    }
   ],
   "source": [
    "tensor(destroy(3), create(2))"
   ]
  },
  {
   "cell_type": "markdown",
   "metadata": {},
   "source": [
    "## Unitary dynamics\n",
    "* Expectation values"
   ]
  },
  {
   "cell_type": "markdown",
   "metadata": {},
   "source": [
    "Unitary evolution of a quantum system in QuTiP can be calculated with the `mesolve` function. \n",
    "\n",
    "`mesolve` is short for Master-eqaution solve (for dissipative dynamics), but if no collapse operators (which describe the dissipation) are given to the solve it falls back on the unitary evolution of the Schrodinger (for initial states in state vector for) or the von Neuman equation (for initial states in density matrix form).\n",
    "\n",
    "The evolution solvers in QuTiP returns a class of type `Odedata`, which contains the solution to the problem posed to the evolution solver. \n",
    "\n",
    "For example, considor a qubit with Hamiltonian $H = \\sigma_x$ and initial state $\\left|1\\right>$ (in the sigma-z basis): Its evolution can be calculated as follows:"
   ]
  },
  {
   "cell_type": "code",
   "execution_count": 8,
   "metadata": {
    "collapsed": true
   },
   "outputs": [],
   "source": [
    "import numpy as np"
   ]
  },
  {
   "cell_type": "code",
   "execution_count": 9,
   "metadata": {
    "collapsed": false
   },
   "outputs": [],
   "source": [
    "# Hamiltonian\n",
    "H = sigmax()\n",
    "\n",
    "# initial state\n",
    "psi0 = basis(2, 0)\n",
    "\n",
    "# list of times for which the solver should store the state vector\n",
    "tlist = np.linspace(0, 10, 100)\n",
    "\n",
    "result = mesolve(H, psi0, tlist, [], [])"
   ]
  },
  {
   "cell_type": "code",
   "execution_count": 10,
   "metadata": {
    "collapsed": false
   },
   "outputs": [
    {
     "data": {
      "text/plain": [
       "Result object with sesolve data.\n",
       "--------------------------------\n",
       "states = True\n",
       "num_collapse = 0"
      ]
     },
     "execution_count": 10,
     "metadata": {},
     "output_type": "execute_result"
    }
   ],
   "source": [
    "result"
   ]
  },
  {
   "cell_type": "code",
   "execution_count": 11,
   "metadata": {
    "collapsed": false
   },
   "outputs": [
    {
     "data": {
      "text/plain": [
       "100"
      ]
     },
     "execution_count": 11,
     "metadata": {},
     "output_type": "execute_result"
    }
   ],
   "source": [
    "len(result.states)"
   ]
  },
  {
   "cell_type": "code",
   "execution_count": 12,
   "metadata": {
    "collapsed": false
   },
   "outputs": [
    {
     "data": {
      "text/latex": [
       "Quantum object: dims = [[2], [1]], shape = [2, 1], type = ket\\begin{equation*}\\left(\\begin{array}{*{11}c}-0.839\\\\0.544j\\\\\\end{array}\\right)\\end{equation*}"
      ],
      "text/plain": [
       "Quantum object: dims = [[2], [1]], shape = [2, 1], type = ket\n",
       "Qobj data =\n",
       "[[-0.8390774+0.j        ]\n",
       " [ 0.0000000+0.54401206j]]"
      ]
     },
     "execution_count": 12,
     "metadata": {},
     "output_type": "execute_result"
    }
   ],
   "source": [
    "result.states[-1] # the finial state"
   ]
  },
  {
   "cell_type": "markdown",
   "metadata": {},
   "source": [
    "### Expectation values"
   ]
  },
  {
   "cell_type": "code",
   "execution_count": 13,
   "metadata": {
    "collapsed": false
   },
   "outputs": [
    {
     "data": {
      "text/plain": [
       "0.40810176186454994"
      ]
     },
     "execution_count": 13,
     "metadata": {},
     "output_type": "execute_result"
    }
   ],
   "source": [
    "expect(sigmaz(), result.states[-1])"
   ]
  },
  {
   "cell_type": "code",
   "execution_count": 14,
   "metadata": {
    "collapsed": false
   },
   "outputs": [
    {
     "data": {
      "text/plain": [
       "array([ 1.        ,  0.97966324,  0.91948013,  0.82189857,  0.69088756,\n",
       "        0.53177579,  0.3510349 ,  0.15601625, -0.04534808, -0.24486795,\n",
       "       -0.43442821, -0.60631884, -0.75354841, -0.87012859, -0.95131766,\n",
       "       -0.99381332, -0.99588712, -0.95745468, -0.88007921, -0.76690787,\n",
       "       -0.62254375, -0.45285867, -0.26475429, -0.06588149,  0.13567091,\n",
       "        0.33170513,  0.51424779,  0.67587427,  0.81001063,  0.91120109,\n",
       "        0.97532984,  0.99978853,  0.9835823 ,  0.92737033,  0.83343897,\n",
       "        0.70560878,  0.54907906,  0.37021643,  0.17629587, -0.02479521,\n",
       "       -0.22487778, -0.41581382, -0.58983733, -0.73987014, -0.85980992,\n",
       "       -0.94477826, -0.9913192 , -0.99753971, -0.96318677, -0.88965766,\n",
       "       -0.77994308, -0.63850553, -0.4710978 , -0.28452892, -0.08638732,\n",
       "        0.11526793,  0.31223484,  0.49650212,  0.660575  ,  0.79778003,\n",
       "        0.90253662,  0.97058393,  0.99915421,  0.98708537,  0.9348683 ,\n",
       "        0.84462688,  0.72003156,  0.56615011,  0.38924141,  0.19650096,\n",
       "       -0.00423183, -0.20479249, -0.39702355, -0.57310633, -0.72587894,\n",
       "       -0.84912758, -0.93783928, -0.9884058 , -0.99877041, -0.9685115 ,\n",
       "       -0.89885984, -0.79264843, -0.65419728, -0.4891377 , -0.30418323,\n",
       "       -0.10685663,  0.09481617,  0.29263248,  0.47854644,  0.64499632,\n",
       "        0.785212  ,  0.89349043,  0.96542751,  0.9980973 ,  0.99017096,\n",
       "        0.94197089,  0.85545757,  0.73414984,  0.58298172,  0.40810176])"
      ]
     },
     "execution_count": 14,
     "metadata": {},
     "output_type": "execute_result"
    }
   ],
   "source": [
    "expect(sigmaz(), result.states)"
   ]
  },
  {
   "cell_type": "code",
   "execution_count": 15,
   "metadata": {
    "collapsed": false
   },
   "outputs": [],
   "source": [
    "%matplotlib inline\n",
    "\n",
    "import matplotlib\n",
    "import matplotlib.pyplot as plt"
   ]
  },
  {
   "cell_type": "code",
   "execution_count": 16,
   "metadata": {
    "collapsed": false
   },
   "outputs": [
    {
     "data": {
      "image/png": "[encoded data removed]",
      "text/plain": [
       "<matplotlib.figure.Figure at 0x7f034aac5f98>"
      ]
     },
     "metadata": {},
     "output_type": "display_data"
    }
   ],
   "source": [
    "fig, axes = plt.subplots(1,1)\n",
    "\n",
    "axes.plot(tlist, expect(sigmaz(), result.states))\n",
    "\n",
    "axes.set_xlabel(r'$t$', fontsize=20)\n",
    "axes.set_ylabel(r'$\\left<\\sigma_z\\right>$', fontsize=20);"
   ]
  },
  {
   "cell_type": "markdown",
   "metadata": {},
   "source": [
    "If we are only interested in expectation values, we could pass a list of operators to the `mesolve` function that we want expectation values for, and have the solver compute then and store the results in the `Odedata` class instance that it returns.\n",
    "\n",
    "For example, to request that the solver calculates the expectation values for the operators $\\sigma_x, \\sigma_y, \\sigma_z$:"
   ]
  },
  {
   "cell_type": "code",
   "execution_count": 17,
   "metadata": {
    "collapsed": true
   },
   "outputs": [],
   "source": [
    "result = mesolve(H, psi0, tlist, [], [sigmax(), sigmay(), sigmaz()])"
   ]
  },
  {
   "cell_type": "code",
   "execution_count": 18,
   "metadata": {
    "collapsed": false
   },
   "outputs": [
    {
     "data": {
      "image/png": "[encoded data removed]",
      "text/plain": [
       "<matplotlib.figure.Figure at 0x7f034aa45550>"
      ]
     },
     "metadata": {},
     "output_type": "display_data"
    }
   ],
   "source": [
    "fig, axes = plt.subplots(1,1)\n",
    "\n",
    "axes.plot(tlist, result.expect[2], label=r'$\\left<\\sigma_z\\right>$')\n",
    "axes.plot(tlist, result.expect[1], label=r'$\\left<\\sigma_y\\right>$')\n",
    "axes.plot(tlist, result.expect[0], label=r'$\\left<\\sigma_x\\right>$')\n",
    "\n",
    "axes.set_xlabel(r'$t$', fontsize=20)\n",
    "axes.legend(loc=2);"
   ]
  },
  {
   "cell_type": "markdown",
   "metadata": {},
   "source": [
    "## Dissipative dynamics"
   ]
  },
  {
   "cell_type": "markdown",
   "metadata": {},
   "source": [
    "To add dissipation to a problem, all we need to do is to define a list of collapse operators to the call to the `mesolve` solver.\n",
    "\n",
    "A collapse operator is an operator that describes how the system is interacting with its environment. \n",
    "\n",
    "For example, consider a quantum harmonic oscillator with Hamiltonian \n",
    "\n",
    "$H = \\hbar\\omega a^\\dagger a$\n",
    "\n",
    "and which loses photons to its environment with a relaxation rate $\\kappa$. The collapse operator that describes this process is \n",
    "\n",
    "$\\sqrt{\\kappa} a$\n",
    "\n",
    "since $a$ is the photon annihilation operator of the oscillator. \n",
    "\n",
    "To program this problem in QuTiP:"
   ]
  },
  {
   "cell_type": "code",
   "execution_count": 21,
   "metadata": {
    "collapsed": false
   },
   "outputs": [],
   "source": [
    "w = 1.0               # oscillator frequency\n",
    "kappa = 0.1           # relaxation rate\n",
    "a = destroy(10)       # oscillator annihilation operator\n",
    "rho0 = fock_dm(10, 5) # initial state, fock state with 5 photons\n",
    "H = w * a.dag() * a   # Hamiltonian\n",
    "\n",
    "# A list of collapse operators\n",
    "c_ops = [sqrt(kappa) * a]"
   ]
  },
  {
   "cell_type": "code",
   "execution_count": 22,
   "metadata": {
    "collapsed": true
   },
   "outputs": [],
   "source": [
    "tlist = np.linspace(0, 50, 100)\n",
    "\n",
    "# request that the solver return the expectation value of the photon number state operator a.dag() * a\n",
    "result = mesolve(H, rho0, tlist, c_ops, [a.dag() * a]) "
   ]
  },
  {
   "cell_type": "code",
   "execution_count": 23,
   "metadata": {
    "collapsed": false
   },
   "outputs": [
    {
     "data": {
      "image/png": "[encoded data removed]",
      "text/plain": [
       "<matplotlib.figure.Figure at 0x7f034a900550>"
      ]
     },
     "metadata": {},
     "output_type": "display_data"
    }
   ],
   "source": [
    "fig, axes = plt.subplots(1,1)\n",
    "axes.plot(tlist, result.expect[0])\n",
    "axes.set_xlabel(r'$t$', fontsize=20)\n",
    "axes.set_ylabel(r\"Photon number\", fontsize=16);"
   ]
  },
  {
   "cell_type": "markdown",
   "metadata": {},
   "source": [
    "## Software versions"
   ]
  },
  {
   "cell_type": "code",
   "execution_count": 24,
   "metadata": {
    "collapsed": false
   },
   "outputs": [
    {
     "name": "stderr",
     "output_type": "stream",
     "text": [
      "/opt/conda/lib/python3.4/site-packages/IPython/parallel.py:13: ShimWarning: The `IPython.parallel` package has been deprecated. You should import from ipyparallel instead.\n",
      "  \"You should import from ipyparallel instead.\", ShimWarning)\n"
     ]
    },
    {
     "ename": "ImportError",
     "evalue": "No module named 'parallel'",
     "output_type": "error",
     "traceback": [
      "\u001b[1;31m---------------------------------------------------------------------------\u001b[0m",
      "\u001b[1;31mImportError\u001b[0m                               Traceback (most recent call last)",
      "\u001b[1;32m<ipython-input-24-1b2e1d544719>\u001b[0m in \u001b[0;36m<module>\u001b[1;34m()\u001b[0m\n\u001b[1;32m----> 1\u001b[1;33m \u001b[1;32mfrom\u001b[0m \u001b[0mqutip\u001b[0m\u001b[1;33m.\u001b[0m\u001b[0mipynbtools\u001b[0m \u001b[1;32mimport\u001b[0m \u001b[0mversion_table\u001b[0m\u001b[1;33m\u001b[0m\u001b[0m\n\u001b[0m\u001b[0;32m      2\u001b[0m \u001b[1;33m\u001b[0m\u001b[0m\n\u001b[0;32m      3\u001b[0m \u001b[0mversion_table\u001b[0m\u001b[1;33m(\u001b[0m\u001b[1;33m)\u001b[0m\u001b[1;33m\u001b[0m\u001b[0m\n",
      "\u001b[1;32m/opt/conda/lib/python3.4/site-packages/qutip/ipynbtools.py\u001b[0m in \u001b[0;36m<module>\u001b[1;34m()\u001b[0m\n\u001b[0;32m     39\u001b[0m \u001b[1;32mfrom\u001b[0m \u001b[0mqutip\u001b[0m\u001b[1;33m.\u001b[0m\u001b[0mui\u001b[0m\u001b[1;33m.\u001b[0m\u001b[0mprogressbar\u001b[0m \u001b[1;32mimport\u001b[0m \u001b[0mBaseProgressBar\u001b[0m\u001b[1;33m\u001b[0m\u001b[0m\n\u001b[0;32m     40\u001b[0m \u001b[1;33m\u001b[0m\u001b[0m\n\u001b[1;32m---> 41\u001b[1;33m \u001b[1;32mfrom\u001b[0m \u001b[0mIPython\u001b[0m\u001b[1;33m.\u001b[0m\u001b[0mparallel\u001b[0m \u001b[1;32mimport\u001b[0m \u001b[0mClient\u001b[0m\u001b[1;33m\u001b[0m\u001b[0m\n\u001b[0m\u001b[0;32m     42\u001b[0m \u001b[1;32mfrom\u001b[0m \u001b[0mIPython\u001b[0m\u001b[1;33m.\u001b[0m\u001b[0mdisplay\u001b[0m \u001b[1;32mimport\u001b[0m \u001b[0mHTML\u001b[0m\u001b[1;33m,\u001b[0m \u001b[0mJavascript\u001b[0m\u001b[1;33m,\u001b[0m \u001b[0mdisplay\u001b[0m\u001b[1;33m\u001b[0m\u001b[0m\n\u001b[0;32m     43\u001b[0m \u001b[1;33m\u001b[0m\u001b[0m\n",
      "\u001b[1;31mImportError\u001b[0m: No module named 'parallel'"
     ]
    }
   ],
   "source": [
    "from qutip.ipynbtools import version_table\n",
    "\n",
    "version_table()"
   ]
  },
  {
   "cell_type": "code",
   "execution_count": 25,
   "metadata": {
    "collapsed": false
   },
   "outputs": [
    {
     "name": "stdout",
     "output_type": "stream",
     "text": [
      "\n",
      "QuTiP: Quantum Toolbox in Python\n",
      "Copyright (c) 2011 and later.\n",
      "Paul D. Nation & Robert J. Johansson\n",
      "\n",
      "QuTiP Version:      3.1.0\n",
      "Numpy Version:      1.9.2\n",
      "Scipy Version:      0.15.1\n",
      "Cython Version:     0.22.1\n",
      "Matplotlib Version: 1.4.3\n",
      "Fortran mcsolver:   False\n",
      "scikits.umfpack:    False\n",
      "Python Version:     3.4.3\n",
      "Platform Info:      Linux (x86_64)\n",
      "Installation path:  /opt/conda/lib/python3.4/site-packages/qutip\n",
      "\n"
     ]
    }
   ],
   "source": [
    "from qutip import *\n",
    "about()"
   ]
  },
  {
   "cell_type": "markdown",
   "metadata": {},
   "source": [
    "# 참고자료\n",
    "* [1] http://qutip.org/\n",
    "* [2] http://qutip.org/docs/3.1.0/installation.html\n",
    "* [3] http://nbviewer.ipython.org/urls/raw.github.com/jrjohansson/qutip-lectures/master/Lecture-0-Introduction-to-QuTiP.ipynb"
   ]
  }
 ],
 "metadata": {
  "kernelspec": {
   "display_name": "Python 3",
   "language": "python",
   "name": "python3"
  },
  "language_info": {
   "codemirror_mode": {
    "name": "ipython",
    "version": 3
   },
   "file_extension": ".py",
   "mimetype": "text/x-python",
   "name": "python",
   "nbconvert_exporter": "python",
   "pygments_lexer": "ipython3",
   "version": "3.4.3"
  }
 },
 "nbformat": 4,
 "nbformat_minor": 0
}
