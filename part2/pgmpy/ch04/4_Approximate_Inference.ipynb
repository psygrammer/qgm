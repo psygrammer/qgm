{
 "cells": [
  {
   "cell_type": "markdown",
   "metadata": {},
   "source": [
    "# 4. Approximate Inference"
   ]
  },
  {
   "cell_type": "markdown",
   "metadata": {},
   "source": [
    "* 싸이그래머 / QGM - pgmpy [1]\n",
    "* 김무성"
   ]
  },
  {
   "cell_type": "markdown",
   "metadata": {},
   "source": [
    "# Contents\n",
    "* The optimization problem\n",
    "* The energy function\n",
    "* Exact inference as an optimization\n",
    "* The propagation-based approximation algorithm\n",
    "    - Cluster graph belief propagation\n",
    "    - Constructing cluster graphs\n",
    "        - Pairwise Markov networks \n",
    "        - Bethe cluster graph\n",
    "* Propagation with approximate messages\n",
    "    - Message creation\n",
    "    - Inference with approximate messages\n",
    "        - Sum-product expectation propagation\n",
    "        - Belief update propagation \n",
    "* Sampling-based approximate methods \n",
    "* Forward sampling \n",
    "* Conditional probability distribution\n",
    "* Likelihood weighting and importance sampling\n",
    "* Importance sampling\n",
    "* Importance sampling in Bayesian networks\n",
    "    - Computing marginal probabilities\n",
    "    - Ratio likelihood weighting\n",
    "    - Normalized likelihood weighting\n",
    "* Markov chain Monte Carlo methods\n",
    "* Gibbs sampling\n",
    "    - Markov chains\n",
    "* The multiple transitioning model\n",
    "* Using a Markov chain \n",
    "* Collapsed particles\n",
    "* Collapsed importance sampling\n",
    "* Summary"
   ]
  },
  {
   "cell_type": "markdown",
   "metadata": {},
   "source": [
    "#### In this chapter, we will discuss:\n",
    "* Approximate inference as an optimization problem\n",
    "* Solving optimization problems using Lagrange multipliers\n",
    "* Deriving a clique tree algorithm from an optimization problem\n",
    "* The loopy belief propagation algorithm with code examples\n",
    "* The expectation propagation algorithm with code examples\n",
    "* The mean field algorithm with code examples\n",
    "* The full particles and collapsed particles sampling methods\n",
    "* The Markov chain Monte Carlo method"
   ]
  },
  {
   "cell_type": "markdown",
   "metadata": {},
   "source": [
    "# The optimization problem"
   ]
  },
  {
   "cell_type": "markdown",
   "metadata": {},
   "source": [
    "<img src=\"figures/cap4.1.png\" />"
   ]
  },
  {
   "cell_type": "markdown",
   "metadata": {},
   "source": [
    "<img src=\"figures/cap4.2.png\" width=600 />"
   ]
  },
  {
   "cell_type": "markdown",
   "metadata": {},
   "source": [
    "<img src=\"figures/cap4.3.0.png\" width=600 />"
   ]
  },
  {
   "cell_type": "markdown",
   "metadata": {},
   "source": [
    "<img src=\"figures/cap4.3.png\"  />"
   ]
  },
  {
   "cell_type": "markdown",
   "metadata": {},
   "source": [
    "<img src=\"figures/cap4.4.png\" />"
   ]
  },
  {
   "cell_type": "markdown",
   "metadata": {},
   "source": [
    "<img src=\"figures/cap4.5.png\" />"
   ]
  },
  {
   "cell_type": "markdown",
   "metadata": {},
   "source": [
    "<img src=\"figures/cap4.6.png\" />"
   ]
  },
  {
   "cell_type": "markdown",
   "metadata": {},
   "source": [
    "<img src=\"figures/cap4.7.png\" width=600 />"
   ]
  },
  {
   "cell_type": "markdown",
   "metadata": {},
   "source": [
    "# The energy function"
   ]
  },
  {
   "cell_type": "markdown",
   "metadata": {},
   "source": [
    "<img src=\"figures/cap4.8.png\" width=600 />"
   ]
  },
  {
   "cell_type": "markdown",
   "metadata": {},
   "source": [
    "# Exact inference as an optimization"
   ]
  },
  {
   "cell_type": "code",
   "execution_count": null,
   "metadata": {
    "collapsed": true
   },
   "outputs": [],
   "source": [
    "<img src=\"figures/cap4.9.png\" width=600 />\n",
    "<img src=\"figures/cap4.10.png\" width=600 />\n",
    "<img src=\"figures/cap4.11.png\" width=600 />\n",
    "<img src=\"figures/cap4.12.png\" width=600 />\n",
    "<img src=\"figures/cap4.13.png\" width=600 />\n",
    "<img src=\"figures/cap4.14.png\" width=600 />\n",
    "<img src=\"figures/cap4.15.png\" width=600 />\n",
    "<img src=\"figures/cap4.16.png\" width=600 />\n",
    "<img src=\"figures/cap4.17.png\" width=600 />\n",
    "<img src=\"figures/cap4.18.png\" width=600 />\n",
    "<img src=\"figures/cap4.19.png\" width=600 />\n",
    "<img src=\"figures/cap4.20.png\" width=600 />\n",
    "<img src=\"figures/cap4.21.png\" width=600 />\n",
    "<img src=\"figures/cap4.22.png\" width=600 />\n",
    "<img src=\"figures/cap4.23.png\" width=600 />\n",
    "<img src=\"figures/cap4.24.png\" width=600 />\n",
    "<img src=\"figures/cap4.25.png\" width=600 />\n",
    "<img src=\"figures/cap4.26.png\" width=600 />\n",
    "<img src=\"figures/cap4.27.png\" width=600 />\n",
    "<img src=\"figures/cap4.28.png\" width=600 />\n",
    "<img src=\"figures/cap4.29.png\" width=600 />\n",
    "<img src=\"figures/cap4.30.png\" width=600 />\n",
    "<img src=\"figures/cap4.31.png\" width=600 />\n",
    "<img src=\"figures/cap4.32.png\" width=600 />\n",
    "<img src=\"figures/cap4.33.png\" width=600 />\n",
    "<img src=\"figures/cap4.34.png\" width=600 />\n",
    "<img src=\"figures/cap4.35.png\" width=600 />\n",
    "<img src=\"figures/cap4.36.png\" width=600 />\n",
    "<img src=\"figures/cap4.37.png\" width=600 />\n",
    "<img src=\"figures/cap4.38.png\" width=600 />\n",
    "<img src=\"figures/cap4.39.png\" width=600 />\n",
    "<img src=\"figures/cap4.40.png\" width=600 />\n",
    "<img src=\"figures/cap4.41.png\" width=600 />\n",
    "<img src=\"figures/cap4.42.png\" width=600 />\n",
    "<img src=\"figures/cap4.43.png\" width=600 />\n",
    "<img src=\"figures/cap4.44.png\" width=600 />\n",
    "<img src=\"figures/cap4.45.png\" width=600 />\n",
    "<img src=\"figures/cap4.46.png\" width=600 />\n",
    "<img src=\"figures/cap4.47.png\" width=600 />\n",
    "<img src=\"figures/cap4.48.png\" width=600 />\n",
    "<img src=\"figures/cap4.49.png\" width=600 />\n",
    "<img src=\"figures/cap4.50.png\" width=600 />\n",
    "<img src=\"figures/cap4.51.png\" width=600 />\n",
    "<img src=\"figures/cap4.52.png\" width=600 />\n",
    "<img src=\"figures/cap4.53.png\" width=600 />\n",
    "<img src=\"figures/cap4.54.png\" width=600 />\n",
    "<img src=\"figures/cap4.55.png\" width=600 />\n",
    "<img src=\"figures/cap4.56.png\" width=600 />\n",
    "<img src=\"figures/cap4.57.png\" width=600 />\n",
    "<img src=\"figures/cap4.58.png\" width=600 />\n",
    "<img src=\"figures/cap4.59.png\" width=600 />\n",
    "<img src=\"figures/cap4.60.png\" width=600 />\n",
    "<img src=\"figures/cap4.61.png\" width=600 />\n",
    "<img src=\"figures/cap4.62.png\" width=600 />\n",
    "<img src=\"figures/cap4.63.png\" width=600 />\n",
    "<img src=\"figures/cap4.64.png\" width=600 />\n",
    "<img src=\"figures/cap4.65.png\" width=600 />\n",
    "<img src=\"figures/cap4.66.png\" width=600 />\n",
    "<img src=\"figures/cap4.67.png\" width=600 />\n",
    "<img src=\"figures/cap4.68.png\" width=600 />\n",
    "<img src=\"figures/cap4.69.png\" width=600 />\n",
    "<img src=\"figures/cap4.70.png\" width=600 />\n",
    "<img src=\"figures/cap4.71.png\" width=600 />\n",
    "<img src=\"figures/cap4.72.png\" width=600 />\n",
    "<img src=\"figures/cap4.73.png\" width=600 />\n",
    "<img src=\"figures/cap4.74.png\" width=600 />\n",
    "<img src=\"figures/cap4.75.png\" width=600 />\n",
    "<img src=\"figures/cap4.76.png\" width=600 />\n",
    "<img src=\"figures/cap4.77.png\" width=600 />\n",
    "<img src=\"figures/cap4.78.png\" width=600 />\n",
    "<img src=\"figures/cap4.79.png\" width=600 />\n",
    "<img src=\"figures/cap4.80.png\" width=600 />\n",
    "<img src=\"figures/cap4.81.png\" width=600 />"
   ]
  },
  {
   "cell_type": "markdown",
   "metadata": {},
   "source": [
    "# The propagation-based approximation algorithm\n",
    "- Cluster graph belief propagation\n",
    "- Constructing cluster graphs\n",
    "    - Pairwise Markov networks \n",
    "    - Bethe cluster graph"
   ]
  },
  {
   "cell_type": "markdown",
   "metadata": {},
   "source": [
    "# Propagation with approximate messages\n",
    "- Message creation\n",
    "- Inference with approximate messages\n",
    "    - Sum-product expectation propagation\n",
    "    - Belief update propagation "
   ]
  },
  {
   "cell_type": "markdown",
   "metadata": {},
   "source": [
    "<img src=\"figures/fig4.2.png\" width=600 />"
   ]
  },
  {
   "cell_type": "markdown",
   "metadata": {},
   "source": [
    "<img src=\"figures/fig4.3.png\" width=600 />"
   ]
  },
  {
   "cell_type": "markdown",
   "metadata": {},
   "source": [
    "## Message creation"
   ]
  },
  {
   "cell_type": "markdown",
   "metadata": {},
   "source": [
    "## Inference with approximate messages"
   ]
  },
  {
   "cell_type": "markdown",
   "metadata": {},
   "source": [
    "### Sum-product expectation propagation"
   ]
  },
  {
   "cell_type": "markdown",
   "metadata": {},
   "source": [
    "### Belief update propagation "
   ]
  },
  {
   "cell_type": "markdown",
   "metadata": {},
   "source": [
    "# Sampling-based approximate methods "
   ]
  },
  {
   "cell_type": "markdown",
   "metadata": {},
   "source": [
    "# Forward sampling "
   ]
  },
  {
   "cell_type": "markdown",
   "metadata": {},
   "source": [
    "# Conditional probability distribution"
   ]
  },
  {
   "cell_type": "markdown",
   "metadata": {},
   "source": [
    "# Likelihood weighting and importance sampling"
   ]
  },
  {
   "cell_type": "markdown",
   "metadata": {},
   "source": [
    "# Importance sampling"
   ]
  },
  {
   "cell_type": "markdown",
   "metadata": {},
   "source": [
    "# Importance sampling in Bayesian networks\n",
    "- Computing marginal probabilities\n",
    "- Ratio likelihood weighting\n",
    "- Normalized likelihood weighting"
   ]
  },
  {
   "cell_type": "markdown",
   "metadata": {},
   "source": [
    "## Computing marginal probabilities"
   ]
  },
  {
   "cell_type": "markdown",
   "metadata": {},
   "source": [
    "## Ratio likelihood weighting"
   ]
  },
  {
   "cell_type": "markdown",
   "metadata": {},
   "source": [
    "## Normalized likelihood weighting"
   ]
  },
  {
   "cell_type": "markdown",
   "metadata": {},
   "source": [
    "# Markov chain Monte Carlo methods"
   ]
  },
  {
   "cell_type": "markdown",
   "metadata": {},
   "source": [
    "# Gibbs sampling\n",
    "- Markov chains"
   ]
  },
  {
   "cell_type": "markdown",
   "metadata": {},
   "source": [
    "## Markov chains"
   ]
  },
  {
   "cell_type": "markdown",
   "metadata": {},
   "source": [
    "<img src=\"figures/fig4.20.png\" width=600 />"
   ]
  },
  {
   "cell_type": "markdown",
   "metadata": {},
   "source": [
    "# The multiple transitioning model"
   ]
  },
  {
   "cell_type": "markdown",
   "metadata": {},
   "source": [
    "# Using a Markov chain "
   ]
  },
  {
   "cell_type": "markdown",
   "metadata": {},
   "source": [
    "# Collapsed particles"
   ]
  },
  {
   "cell_type": "markdown",
   "metadata": {},
   "source": [
    "# Collapsed importance sampling"
   ]
  },
  {
   "cell_type": "markdown",
   "metadata": {},
   "source": [
    "# Summary"
   ]
  },
  {
   "cell_type": "markdown",
   "metadata": {},
   "source": [
    "# 참고자료\n",
    "* [1] Mastering Probabilistic Graphical Models using Python - http://www.amazon.com/Mastering-Probabilistic-Graphical-Models-Python/dp/1784394688"
   ]
  }
 ],
 "metadata": {
  "kernelspec": {
   "display_name": "Python 3",
   "language": "python",
   "name": "python3"
  },
  "language_info": {
   "codemirror_mode": {
    "name": "ipython",
    "version": 3
   },
   "file_extension": ".py",
   "mimetype": "text/x-python",
   "name": "python",
   "nbconvert_exporter": "python",
   "pygments_lexer": "ipython3",
   "version": "3.4.3"
  }
 },
 "nbformat": 4,
 "nbformat_minor": 0
}
