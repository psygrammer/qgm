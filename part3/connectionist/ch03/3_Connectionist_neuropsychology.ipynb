{
 "cells": [
  {
   "cell_type": "markdown",
   "metadata": {},
   "source": [
    "# Chapter 3. Connectionist neuropsychology"
   ]
  },
  {
   "cell_type": "markdown",
   "metadata": {},
   "source": [
    "# Contents\n",
    "* INTRODUCTION\n",
    "* COGNITIVE NEUROPSYCHOLOGY\n",
    "* NEURAL NETWORK MODELS\n",
    "* LEARNING AND LESIONING SIMULATIONS\n",
    "* AVOIDING SMALL-SCALE ARTEFACTS\n",
    "* PLAUT’S DOUBLE DISSOCIATION WITHOUT MODULARITY\n",
    "* REGULARITY AND FREQUENCY CONFOUNDS\n",
    "* CONNECTIONIST DOUBLE DISSOCIATION\n",
    "* CONCLUSIONS"
   ]
  },
  {
   "cell_type": "markdown",
   "metadata": {},
   "source": [
    "# INTRODUCTION"
   ]
  },
  {
   "cell_type": "markdown",
   "metadata": {},
   "source": [
    "#### 참고\n",
    "\"If your TV set suddenly loses the color you can conclude that picture transmission and color information must be separate processes (single dissociation: they cannot be independent because you cannot lose the picture and still have the color). If on the other hand you have two TV sets, one without sound and one without a picture you can conclude that these must be two independent functions (double dissociation).\"\n",
    "* [2] 나무위키:신경과학-이중해리 - https://namu.wiki/w/%EC%8B%A0%EA%B2%BD%EA%B3%BC%ED%95%99#fn-8\n",
    "* Cognitive neuroscience lecture 5 - http://contents.kocw.net/KOCW/document/2015/chosun/seoeunhyun/5.pdf\n",
    "* [3] Cognitive Neuropsychology Methods - http://www.powershow.com/view/12a9a1-MzA2Y/Cognitive_Neuropsychology_Methods_powerpoint_ppt_presentation\n",
    "* [4] Methods in Cognitive Neuroscience I - http://www.slideshare.net/dominic54/methods-in-cognitive-neuroscience-i\n",
    "* [5] Cognitive Neuroscience - Current Perspectives And Approaches - http://www.slideshare.net/iVivekMisra/cognitive-neuroscience-current-perspectives-and-approaches\n",
    "* [6] Dissociation (neuropsychology) - https://en.wikipedia.org/wiki/Dissociation_(neuropsychology)"
   ]
  },
  {
   "cell_type": "markdown",
   "metadata": {},
   "source": [
    "The field of cognitive neuropsychology employs the patterns of performance observed in brain-damaged patients to constrain our models of normal cognitive function. "
   ]
  },
  {
   "cell_type": "markdown",
   "metadata": {},
   "source": [
    "* cognitive neuropsychology\n",
    "* “box and arrow” models\n",
    "    - This methodology was historically based upon simple “box and arrow” models, with particular cognitive deficits being taken as indicative of the selective breakdown of corresponding “boxes” or “arrows”.\n",
    "* <font color=\"red\">double dissociation</font>\n",
    "    - The concept of double dis- sociation has been of particular importance for this enterprise, with its pres- ence being taken to imply modularity across a whole range of systems.\n",
    "* Cognitive modelling\n",
    "    - Cognitive modelling has now moved on, and the use of connectionist techniques to provide detailed models of the inner workings of these modules or “boxes” is becoming increasingly common.\n",
    "    - These individual network models can then be wired together in the manner of the old box and arrow models, and all the old explanations of patient data can carry through.\n",
    "* dyslexia-like effect\n",
    "    - In particular, Bullinaria & Chater (1995) have considered the possibility that double dissociation does not really imply modularity, but may also be possible as a result of damage to fully distributed connectionist systems. \n",
    "    - These general arguments have since been extended from simple abstract mappings through to more realistic single route models of reading, which show how surface dyslexia-like effects can arise but phonological dyslexia effects cannot (Bullinaria, 1994, 1997a,b). \n",
    "* modularity & counter-example\n",
    "    - Whilst finding a counter-example to the inference from double dissoci- ation to modularity would clearly settle the matter, failing to find a counter- example will always be less conclusive.\n",
    "    - Naturally, these apparent contradictions have caused a certain amount of confusion, particularly amongst researchers unfamiliar with the detailed workings of connectionist models. In this chapter I shall review and extend the work of Bullinaria & Chater (1995) with a view to minimizing future confusion in this area.\n",
    "* fully-connected feed-forward network\n",
    "* “consistency” VS “regularity\"\n",
    "    - In terms of network learning, a very high-frequency “irregular” item might be deemed more “regular” than a consistent set of regular items whose total frequency is still much less than the irregular item. \n",
    "* resource artefacts."
   ]
  },
  {
   "cell_type": "markdown",
   "metadata": {},
   "source": [
    "In the remainder of this chapter, I shall begin by reviewing the important relevant ideas from cognitive neuropsychology: \n",
    "* the traditional inference <font color=\"red\">from double dissociation to modularity</font>, \n",
    "* the <font color=\"red\">types of system that may exhibit double dissociation</font>, and \n",
    "* the problem of <font color=\"red\">resource artefacts</font>."
   ]
  },
  {
   "cell_type": "markdown",
   "metadata": {},
   "source": [
    "# COGNITIVE NEUROPSYCHOLOGY"
   ]
  },
  {
   "cell_type": "markdown",
   "metadata": {},
   "source": [
    "# NEURAL NETWORK MODELS"
   ]
  },
  {
   "cell_type": "markdown",
   "metadata": {},
   "source": [
    "# LEARNING AND LESIONING SIMULATIONS"
   ]
  },
  {
   "cell_type": "markdown",
   "metadata": {},
   "source": [
    "# AVOIDING SMALL-SCALE ARTEFACTS"
   ]
  },
  {
   "cell_type": "markdown",
   "metadata": {},
   "source": [
    "# PLAUT’S DOUBLE DISSOCIATION WITHOUT MODULARITY"
   ]
  },
  {
   "cell_type": "markdown",
   "metadata": {},
   "source": [
    "# REGULARITY AND FREQUENCY CONFOUNDS"
   ]
  },
  {
   "cell_type": "markdown",
   "metadata": {},
   "source": [
    "# CONNECTIONIST DOUBLE DISSOCIATION"
   ]
  },
  {
   "cell_type": "markdown",
   "metadata": {},
   "source": [
    "# CONCLUSIONS"
   ]
  },
  {
   "cell_type": "markdown",
   "metadata": {},
   "source": [
    "# 참고자료"
   ]
  },
  {
   "cell_type": "markdown",
   "metadata": {},
   "source": [
    "* [1]\n",
    "* [2] 나무위키:신경과학-이중해리 - https://namu.wiki/w/%EC%8B%A0%EA%B2%BD%EA%B3%BC%ED%95%99#fn-8\n",
    "* Cognitive neuroscience lecture 5 - http://contents.kocw.net/KOCW/document/2015/chosun/seoeunhyun/5.pdf\n",
    "* [3] Cognitive Neuropsychology Methods - http://www.powershow.com/view/12a9a1-MzA2Y/Cognitive_Neuropsychology_Methods_powerpoint_ppt_presentation\n",
    "* [4] Methods in Cognitive Neuroscience I - http://www.slideshare.net/dominic54/methods-in-cognitive-neuroscience-i\n",
    "* [5] Cognitive Neuroscience - Current Perspectives And Approaches - http://www.slideshare.net/iVivekMisra/cognitive-neuroscience-current-perspectives-and-approaches\n",
    "* [6] Dissociation (neuropsychology) - https://en.wikipedia.org/wiki/Dissociation_(neuropsychology)"
   ]
  },
  {
   "cell_type": "code",
   "execution_count": null,
   "metadata": {
    "collapsed": true
   },
   "outputs": [],
   "source": []
  }
 ],
 "metadata": {
  "kernelspec": {
   "display_name": "Python 2",
   "language": "python",
   "name": "python2"
  },
  "language_info": {
   "codemirror_mode": {
    "name": "ipython",
    "version": 2
   },
   "file_extension": ".py",
   "mimetype": "text/x-python",
   "name": "python",
   "nbconvert_exporter": "python",
   "pygments_lexer": "ipython2",
   "version": "2.7.10"
  }
 },
 "nbformat": 4,
 "nbformat_minor": 0
}
