{
 "cells": [
  {
   "cell_type": "markdown",
   "metadata": {},
   "source": [
    "# Chapter 3. Connectionist neuropsychology"
   ]
  },
  {
   "cell_type": "markdown",
   "metadata": {},
   "source": [
    "* 싸이그래머 / QGM : 파트 3 - 연결주의모형 [1]\n",
    "* 김무성"
   ]
  },
  {
   "cell_type": "markdown",
   "metadata": {},
   "source": [
    "# Contents\n",
    "* INTRODUCTION\n",
    "* COGNITIVE NEUROPSYCHOLOGY\n",
    "* NEURAL NETWORK MODELS\n",
    "* LEARNING AND LESIONING SIMULATIONS\n",
    "* AVOIDING SMALL-SCALE ARTEFACTS\n",
    "* PLAUT’S DOUBLE DISSOCIATION WITHOUT MODULARITY\n",
    "* REGULARITY AND FREQUENCY CONFOUNDS\n",
    "* CONNECTIONIST DOUBLE DISSOCIATION\n",
    "* CONCLUSIONS"
   ]
  },
  {
   "cell_type": "markdown",
   "metadata": {},
   "source": [
    "# INTRODUCTION"
   ]
  },
  {
   "cell_type": "markdown",
   "metadata": {},
   "source": [
    "#### 참고\n",
    "\"If your TV set suddenly loses the color you can conclude that picture transmission and color information must be separate processes (single dissociation: they cannot be independent because you cannot lose the picture and still have the color). If on the other hand you have two TV sets, one without sound and one without a picture you can conclude that these must be two independent functions (double dissociation).\"\n",
    "* [2] 나무위키:신경과학-이중해리 - https://namu.wiki/w/%EC%8B%A0%EA%B2%BD%EA%B3%BC%ED%95%99#fn-8\n",
    "* Cognitive neuroscience lecture 5 - http://contents.kocw.net/KOCW/document/2015/chosun/seoeunhyun/5.pdf\n",
    "* [3] Cognitive Neuropsychology Methods - http://www.powershow.com/view/12a9a1-MzA2Y/Cognitive_Neuropsychology_Methods_powerpoint_ppt_presentation\n",
    "* [4] Methods in Cognitive Neuroscience I - http://www.slideshare.net/dominic54/methods-in-cognitive-neuroscience-i\n",
    "* [5] Cognitive Neuroscience - Current Perspectives And Approaches - http://www.slideshare.net/iVivekMisra/cognitive-neuroscience-current-perspectives-and-approaches\n",
    "* [6] Dissociation (neuropsychology) - https://en.wikipedia.org/wiki/Dissociation_(neuropsychology)"
   ]
  },
  {
   "cell_type": "markdown",
   "metadata": {},
   "source": [
    "The field of cognitive neuropsychology employs the patterns of performance observed in brain-damaged patients to constrain our models of normal cognitive function. "
   ]
  },
  {
   "cell_type": "markdown",
   "metadata": {},
   "source": [
    "* cognitive neuropsychology\n",
    "* “box and arrow” models\n",
    "    - This methodology was historically based upon simple “box and arrow” models, with particular cognitive deficits being taken as indicative of the selective breakdown of corresponding “boxes” or “arrows”.\n",
    "* <font color=\"red\">double dissociation</font>\n",
    "    - The concept of double dis- sociation has been of particular importance for this enterprise, with its pres- ence being taken to imply modularity across a whole range of systems.\n",
    "* Cognitive modelling\n",
    "    - Cognitive modelling has now moved on, and the use of connectionist techniques to provide detailed models of the inner workings of these modules or “boxes” is becoming increasingly common.\n",
    "    - These individual network models can then be wired together in the manner of the old box and arrow models, and all the old explanations of patient data can carry through.\n",
    "* dyslexia-like effect\n",
    "    - In particular, Bullinaria & Chater (1995) have considered the possibility that double dissociation does not really imply modularity, but may also be possible as a result of damage to fully distributed connectionist systems. \n",
    "    - These general arguments have since been extended from simple abstract mappings through to more realistic single route models of reading, which show how surface dyslexia-like effects can arise but phonological dyslexia effects cannot (Bullinaria, 1994, 1997a,b). \n",
    "* modularity & counter-example\n",
    "    - Whilst finding a counter-example to the inference from double dissoci- ation to modularity would clearly settle the matter, failing to find a counter- example will always be less conclusive.\n",
    "    - Naturally, these apparent contradictions have caused a certain amount of confusion, particularly amongst researchers unfamiliar with the detailed workings of connectionist models. In this chapter I shall review and extend the work of Bullinaria & Chater (1995) with a view to minimizing future confusion in this area.\n",
    "* fully-connected feed-forward network\n",
    "* “consistency” VS “regularity\"\n",
    "    - In terms of network learning, a very high-frequency “irregular” item might be deemed more “regular” than a consistent set of regular items whose total frequency is still much less than the irregular item. \n",
    "* resource artefacts."
   ]
  },
  {
   "cell_type": "markdown",
   "metadata": {},
   "source": [
    "In the remainder of this chapter, I shall begin by reviewing the important relevant ideas from cognitive neuropsychology: \n",
    "* the traditional inference <font color=\"red\">from double dissociation to modularity</font>, \n",
    "* the <font color=\"red\">types of system that may exhibit double dissociation</font>, and \n",
    "* the problem of <font color=\"red\">resource artefacts</font>."
   ]
  },
  {
   "cell_type": "markdown",
   "metadata": {},
   "source": [
    "# COGNITIVE NEUROPSYCHOLOGY"
   ]
  },
  {
   "cell_type": "markdown",
   "metadata": {},
   "source": [
    "#### dissociation\n",
    "* single dissociation\n",
    "* double dissociation"
   ]
  },
  {
   "cell_type": "markdown",
   "metadata": {},
   "source": [
    "<img src=\"figures/cap3.1.png\" width=600 />"
   ]
  },
  {
   "cell_type": "markdown",
   "metadata": {},
   "source": [
    "#### modularity"
   ]
  },
  {
   "cell_type": "markdown",
   "metadata": {},
   "source": [
    "<font color=\"red\">Any observed double dissociation (DD) of performance has a natural explanation in terms of the existence of separate modules</font> associated with the two tasks, with the two patients suffering damage to a different one of them.\n",
    "* A classic and well-known example occurs in the field of acquired reading problems. \n",
    "    - Extreme cases of surface dyslexia include patient KT, who could read 100% of nonwords and regular words but could only manage 47% of irregular words (McCarthy & Warrington, 1986). \n",
    "    - Conversely, the phono- logical dyslexic patient WB could read 90% of real words but was unable to read even the simplest of nonwords (Funnell, 1983)."
   ]
  },
  {
   "cell_type": "markdown",
   "metadata": {},
   "source": [
    "#### connectionist"
   ]
  },
  {
   "cell_type": "markdown",
   "metadata": {},
   "source": [
    "<font color=\"bule\">However, the modules do not necessarily have to operate in parallel</font> like this—the same data could be taken to imply modules that operate in series (e.g. by Patterson & Marcel, 1992; Bullinaria, 1997b). \n",
    "* In fact there could be any number of different modular accounts for a particular DD, and \n",
    "    - the account that appears <font color=\"red\">most natural</font> \n",
    "        - from the point of <font color=\"red\">view of boxes and arrows</font> \n",
    "    - might <font color=\"blue\">not look so natural</font> \n",
    "        - from the point of <font color=\"blue\">view of connectionist systems</font>. \n",
    "* For our reading example, \n",
    "    - a rule-based box that can not deal with exception words seems less natural when it becomes clear that a neural network trained on all words will automatically learn to process the exception words as well as the regular words (Seidenberg & McClelland, 1989), \n",
    "    - and on damage result in surface dyslexia-type deficits, right down to the details of the regularization errors (Bullinaria, 1994, 1997a; Plaut, McClelland, Seidenberg, & Patterson, 1996). \n",
    "    - Furthermore, proficient reading using only a lexical/semantic route begins to look increasingly unnatural when we find that a neural network, trained to map between orthography, phonology, and semantics, prefers to access semantics from orthography via phonology, rather than by direct activation (Bullinaria, 1997b). "
   ]
  },
  {
   "cell_type": "markdown",
   "metadata": {},
   "source": [
    "#### tasks"
   ]
  },
  {
   "cell_type": "markdown",
   "metadata": {},
   "source": [
    "We shall not delve into the details here, but other areas in which DD has been observed and taken to infer mental structure include: \n",
    "* regular vs. irregular past tense production \n",
    "* lexical vs. syntactic components of number processing\n",
    "* aspects of visual processing\n",
    "* long-term vs. short-term memory \n",
    "* episodic vs. semantic memory\n",
    "* natural kinds vs. artefacts in picture naming"
   ]
  },
  {
   "cell_type": "markdown",
   "metadata": {},
   "source": [
    "Some early neural network models (Sartori, 1988; Wood, 1978) also seemed to indicate that DD was even possible in distributed systems, but these were very small scale models and the effects have since been seen to be largely the consequence of individual neurons acting as “modules” in their own right. \n",
    "* This led Shallice (1988, p. 257) to believe that “as yet there is no suggestion that a strong double dissociation can take place from two lesions within a properly distributed network”."
   ]
  },
  {
   "cell_type": "markdown",
   "metadata": {},
   "source": [
    "#### resource artefacts"
   ]
  },
  {
   "cell_type": "markdown",
   "metadata": {},
   "source": [
    "* As illustrated in Figures 3.2 and 3.3, a DD with a crossover in terms of patient performance, but not in task performance, can be explained as a <font color=\"red\">resource artefact</font> in a single system. \n",
    "* All that is required is for the <font color=\"blue\">two tasks to depend on a single resource in different manners, such that which task is performed better depends on the amount of resource that has been spared by the damage</font>. \n",
    "* Clearly, such a pattern of dissociation should NOT be taken to imply modularity"
   ]
  },
  {
   "cell_type": "markdown",
   "metadata": {},
   "source": [
    "<img src=\"figures/cap3.2.png\" width=600 />"
   ]
  },
  {
   "cell_type": "markdown",
   "metadata": {},
   "source": [
    "<img src=\"figures/cap3.3.png\" width=600 />"
   ]
  },
  {
   "cell_type": "markdown",
   "metadata": {},
   "source": [
    "# NEURAL NETWORK MODELS"
   ]
  },
  {
   "cell_type": "markdown",
   "metadata": {},
   "source": [
    "* This section provides a <font color=\"red\">review of the relevant features common to most neural network models</font> used in cognitive psychology.\n",
    "* This will prepare us for the later sections in which we discuss some explicit simulations that have been formulated to elucidate the properties that form the <font color=\"red\">basis of connectionist neuropsychology</font>."
   ]
  },
  {
   "cell_type": "markdown",
   "metadata": {},
   "source": [
    "#### activations"
   ]
  },
  {
   "cell_type": "markdown",
   "metadata": {},
   "source": [
    "<img src=\"figures/cap3.4.png\" width=600 />"
   ]
  },
  {
   "cell_type": "markdown",
   "metadata": {},
   "source": [
    "Then, to train the network, we specify a suitable error function E to minimize and iteratively update the weights wij (now including the biases) to reduce this error using gradient descent:"
   ]
  },
  {
   "cell_type": "markdown",
   "metadata": {},
   "source": [
    "<img src=\"figures/cap3.5.png\" />"
   ]
  },
  {
   "cell_type": "markdown",
   "metadata": {},
   "source": [
    "Typically for this we use either the sum-squared output error measure:"
   ]
  },
  {
   "cell_type": "markdown",
   "metadata": {},
   "source": [
    "<img src=\"figures/cap3.6.png\" width=600 />"
   ]
  },
  {
   "cell_type": "markdown",
   "metadata": {},
   "source": [
    "or, for classification problems with binary outputs, the cross-entropy error measure:"
   ]
  },
  {
   "cell_type": "markdown",
   "metadata": {},
   "source": [
    "<img src=\"figures/cap3.7.png\" width=600 />"
   ]
  },
  {
   "cell_type": "markdown",
   "metadata": {},
   "source": [
    "Often it is also appropriate to add some form of regularization term to the gradient descent cost function to smooth the outputs or improve the generalization."
   ]
  },
  {
   "cell_type": "markdown",
   "metadata": {},
   "source": [
    "<img src=\"figures/cap3.8.png\" width=600 />"
   ]
  },
  {
   "cell_type": "markdown",
   "metadata": {},
   "source": [
    "# LEARNING AND LESIONING SIMULATIONS"
   ]
  },
  {
   "cell_type": "markdown",
   "metadata": {},
   "source": [
    "<img src=\"figures/cap3.9.png\" width=600 />"
   ]
  },
  {
   "cell_type": "markdown",
   "metadata": {},
   "source": [
    "<img src=\"figures/cap3.10.png\" width=600 />"
   ]
  },
  {
   "cell_type": "markdown",
   "metadata": {},
   "source": [
    "# AVOIDING SMALL-SCALE ARTEFACTS"
   ]
  },
  {
   "cell_type": "markdown",
   "metadata": {},
   "source": [
    "<img src=\"figures/cap3.11.png\" width=600 />"
   ]
  },
  {
   "cell_type": "markdown",
   "metadata": {},
   "source": [
    "<img src=\"figures/cap3.12.png\" width=600 />"
   ]
  },
  {
   "cell_type": "markdown",
   "metadata": {},
   "source": [
    "# PLAUT’S DOUBLE DISSOCIATION WITHOUT MODULARITY"
   ]
  },
  {
   "cell_type": "markdown",
   "metadata": {},
   "source": [
    "# REGULARITY AND FREQUENCY CONFOUNDS"
   ]
  },
  {
   "cell_type": "markdown",
   "metadata": {},
   "source": [
    "<img src=\"figures/cap3.13.png\" width=600 />"
   ]
  },
  {
   "cell_type": "markdown",
   "metadata": {},
   "source": [
    "<img src=\"figures/cap3.14.png\" width=600 />"
   ]
  },
  {
   "cell_type": "markdown",
   "metadata": {},
   "source": [
    "<img src=\"figures/cap3.15.png\" width=600 />"
   ]
  },
  {
   "cell_type": "markdown",
   "metadata": {},
   "source": [
    "# CONNECTIONIST DOUBLE DISSOCIATION"
   ]
  },
  {
   "cell_type": "markdown",
   "metadata": {},
   "source": [
    "<img src=\"figures/cap3.16.png\" width=600 />"
   ]
  },
  {
   "cell_type": "markdown",
   "metadata": {},
   "source": [
    "# CONCLUSIONS"
   ]
  },
  {
   "cell_type": "markdown",
   "metadata": {},
   "source": [
    "# 참고자료"
   ]
  },
  {
   "cell_type": "markdown",
   "metadata": {},
   "source": [
    "* [1] Connectionist Models in Cognitive Psycholgy - http://www.amazon.com/Connectionist-Cognitive-Psychology-Studies-Cognition/dp/0415646901/\n",
    "* [2] 나무위키:신경과학-이중해리 - https://namu.wiki/w/%EC%8B%A0%EA%B2%BD%EA%B3%BC%ED%95%99#fn-8\n",
    "* Cognitive neuroscience lecture 5 - http://contents.kocw.net/KOCW/document/2015/chosun/seoeunhyun/5.pdf\n",
    "* [3] Cognitive Neuropsychology Methods - http://www.powershow.com/view/12a9a1-MzA2Y/Cognitive_Neuropsychology_Methods_powerpoint_ppt_presentation\n",
    "* [4] Methods in Cognitive Neuroscience I - http://www.slideshare.net/dominic54/methods-in-cognitive-neuroscience-i\n",
    "* [5] Cognitive Neuroscience - Current Perspectives And Approaches - http://www.slideshare.net/iVivekMisra/cognitive-neuroscience-current-perspectives-and-approaches\n",
    "* [6] Dissociation (neuropsychology) - https://en.wikipedia.org/wiki/Dissociation_(neuropsychology)"
   ]
  }
 ],
 "metadata": {
  "kernelspec": {
   "display_name": "Python 2",
   "language": "python",
   "name": "python2"
  },
  "language_info": {
   "codemirror_mode": {
    "name": "ipython",
    "version": 2
   },
   "file_extension": ".py",
   "mimetype": "text/x-python",
   "name": "python",
   "nbconvert_exporter": "python",
   "pygments_lexer": "ipython2",
   "version": "2.7.10"
  }
 },
 "nbformat": 4,
 "nbformat_minor": 0
}
