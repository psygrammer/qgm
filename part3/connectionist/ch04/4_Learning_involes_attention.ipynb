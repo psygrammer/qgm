{
 "cells": [
  {
   "cell_type": "markdown",
   "metadata": {},
   "source": [
    "# Chapter 4. Learning involves attention"
   ]
  },
  {
   "cell_type": "markdown",
   "metadata": {},
   "source": [
    "* 싸이그래머 / QGM : 파트 3 - 연결주의모형 [1]\n",
    "* 김무성"
   ]
  },
  {
   "cell_type": "markdown",
   "metadata": {},
   "source": [
    "# Contents"
   ]
  },
  {
   "cell_type": "markdown",
   "metadata": {},
   "source": [
    "* INTRODUCTION\n",
    "    - Shifts of attention facilitate learning\n",
    "    - Shifts of attention can be assessed by subsequent learning\n",
    "* INTRA- AND EXTRADIMENSIONAL SHIFTS\n",
    "    - Experiment design and results\n",
    "    - A connectionist model with attentional learning\n",
    "        - Activation propagation\n",
    "        - Learning of attention and associations\n",
    "        - Fit of the model\n",
    "* BLOCKING OF ASSOCIATIVE LEARNING\n",
    "    - Experiment design and results\n",
    "    - A connectionist model with attentional learning\n",
    "        - Fit of the model\n",
    "* THE INVERSE BASE RATE EFFECT\n",
    "    - Experiment design and results\n",
    "        - Fit of the model\n",
    "* SUMMARY AND CONCLUSION\n",
    "    - Relation to other learning models\n",
    "    - Attentional shifting and learning are rational"
   ]
  },
  {
   "cell_type": "markdown",
   "metadata": {},
   "source": [
    "#### 참고\n",
    "* [2] attention(인지심리학 영역) - http://www.unt.edu/rss/class/mike/5640/Attention.ppt\n",
    "* [3] 부산대 인지심리학 강의 노트 : attention - http://ocw.pusan.ac.kr/front/phtml/0101_04.php?aidx=2&cidx=89&act=view&idx=295&p=1&key=&keyword=#\n",
    "* [4] Attention (의식과 연관) - http://www.slideshare.net/drjayeshpatidar/attention-44340875\n",
    "* [5] Attention (의식과 연관) - http://www.slideshare.net/ArulLawrence/attention-14003200"
   ]
  },
  {
   "cell_type": "markdown",
   "metadata": {},
   "source": [
    "# INTRODUCTION\n",
    "* Shifts of attention facilitate learning\n",
    "* Shifts of attention can be assessed by subsequent learning"
   ]
  },
  {
   "cell_type": "markdown",
   "metadata": {},
   "source": [
    "A thesis of this chapter is that \n",
    "* connectionist learning models must incorporate \n",
    "    - rapidly shifting selective attention and \n",
    "    - the ability to learn attentional redistributions. \n",
    "* This kind of attentional shifting is not only necessary \n",
    "    - to mimic learning by humans and other animals, \n",
    "    - it is also a highly effective and rational solution \n",
    "        - to the demands of learning many new associations \n",
    "            - as quickly as possible. \n",
    "* This chapter describes \n",
    "    - three experiments (one previously published and two new) that\n",
    "        - demonstrate the action of attentional learning."
   ]
  },
  {
   "cell_type": "markdown",
   "metadata": {},
   "source": [
    "## Shifts of attention facilitate learning"
   ]
  },
  {
   "cell_type": "markdown",
   "metadata": {},
   "source": [
    "A basic fact of learning is that people quickly learn new associations without rapidly forgetting old associations.\n",
    "* mushrooms example\n",
    "    - Consider a hypothetical situation in which \n",
    "        - an animal \n",
    "            - learns that \n",
    "                - mushrooms with \n",
    "                    - a round top and \n",
    "                    - smooth texture are \n",
    "                - tasty and nutritious. \n",
    "        - After successfully using this knowledge for some time, \n",
    "            - the animal encounters \n",
    "                - a new mushroom with \n",
    "                    - a smooth texture but \n",
    "                    - a flat top. \n",
    "                - This mushroom turns out to induce nausea. \n",
    "        - <font color=\"red\">How is the animal to quickly learn about this new kind of mushroom, without destroying still-useful knowledge about the old kind of mushroom?</font>\n",
    "        - If the animal learns to associate \n",
    "            - both features of the new mushroom with nausea, \n",
    "        - then it will <font color=\"red\">inappropriately destroy part of its previous knowledge</font> about healthy mushrooms, \n",
    "            - i.e. the previous association from smooth texture to edibility will be destroyed. \n",
    "        - On the other hand, if the <font color=\"blue\">old association is retained</font>, it generates a <font color=\"blue\">conflicting response</font>, \n",
    "            - i.e. eating the mushroom."
   ]
  },
  {
   "cell_type": "markdown",
   "metadata": {},
   "source": [
    "#### To facilitate learning"
   ]
  },
  {
   "cell_type": "markdown",
   "metadata": {},
   "source": [
    "* To facilitate learning about the new case, it would be advantageous to selectively attend to the distinctive feature, viz. flat top, and learn to associate this feature with nausea"
   ]
  },
  {
   "cell_type": "markdown",
   "metadata": {},
   "source": [
    "#### shifts of attention"
   ]
  },
  {
   "cell_type": "markdown",
   "metadata": {},
   "source": [
    "* By <font color=\"red\">selectively attending to the distinctive feature</font>, \n",
    "    - previous knowledge is preserved, and \n",
    "    - new learning is facilitated.\n",
    "* Not only should <font color=\"red\">attention be shifted</font> in this way to facilitate learning, \n",
    "    - but the <font color=\"red\">shifted attentional distribution should itself be learned</font> :\n",
    "        - Whenever the animal encounters a mushroom with smooth texture and flat top, \n",
    "            - it should shift attention to the flat top, away from the smooth texture."
   ]
  },
  {
   "cell_type": "markdown",
   "metadata": {},
   "source": [
    "## Shifts of attention can be assessed by subsequent learning"
   ]
  },
  {
   "cell_type": "markdown",
   "metadata": {},
   "source": [
    "#### attention"
   ]
  },
  {
   "cell_type": "markdown",
   "metadata": {},
   "source": [
    "The term “attention”, as used here, \n",
    "* refers to both  \n",
    "    - <font color=\"red\">the influence of a feature on an immediate response</font> and \n",
    "    - <font color=\"red\">the influence of a feature on learning</font>. \n",
    "* If a feature is being strongly attended to, \n",
    "    - then that feature should have \n",
    "        - a strong influence \n",
    "            - on the <font color=\"red\">immediate response</font> and \n",
    "            - on the <font color=\"red\">imminent learning</font>. \n",
    "* This latter influence of attention on learning \n",
    "    - is sometimes referred to as the <font color=\"blue\">feature’s associability</font>. \n",
    "* In this chapter, these two influences of attention are treated synonymously. "
   ]
  },
  {
   "cell_type": "markdown",
   "metadata": {},
   "source": [
    "#### subsequent learning ability"
   ]
  },
  {
   "cell_type": "markdown",
   "metadata": {},
   "source": [
    "Because redistribution of attention is a learned response to stimuli, the <font color=\"red\">degree of attentional learning</font> can be <font color=\"blue\">assayed by examining</font> <font color=\"red\">subsequent learning ability</font>.\n",
    "* If a person has learned that \n",
    "    - a particular feature is \n",
    "        - highly indicative of an appropriate response, \n",
    "    - then, presumably, the person has also learned \n",
    "        - to attend to that feature. \n",
    "* If subsequent training makes \n",
    "    - a different feature relevant to new responses, \n",
    "    - then learning about this new correspondence \n",
    "        - should be relatively slow, \n",
    "            - because the person will have to unlearn \n",
    "                - the attention \n",
    "                    - given to the now-irrelevant feature.\n",
    "* In general, learned attention to features or dimensions \n",
    "    - can be inferred \n",
    "        - from the ease with which subsequent associations are learned. \n",
    "    - This technique is used in all three examples presented below."
   ]
  },
  {
   "cell_type": "markdown",
   "metadata": {},
   "source": [
    "# INTRA- AND EXTRADIMENSIONAL SHIFTS\n",
    "* Experiment design and results\n",
    "* A connectionist model with attentional learning"
   ]
  },
  {
   "cell_type": "markdown",
   "metadata": {},
   "source": [
    "#### 참고\n",
    "* [6] Intra-Extra Dimensional Set Shift (IED) - http://www.cambridgecognition.com/tests/intra-extra-dimensional-set-shift-ied\n",
    "* [7] extradimensional shift task - http://www.cognitiveatlas.org/term/Extradimensional_shift_task"
   ]
  },
  {
   "cell_type": "markdown",
   "metadata": {},
   "source": [
    "A traditional learning paradigm in psychology investigates <font color=\"red\">perseveration of learned attention across phases of training</font>. \n",
    "* In the first phase, \n",
    "    - participants learn that\n",
    "        - one stimulus dimension \n",
    "            - is relevant to the outcome \n",
    "        - while other dimensions \n",
    "            - are irrelevant. \n",
    "* In the second phase, \n",
    "    - the mapping of stimuli to outcomes changes so that either \n",
    "        - a different dimension is relevant (= extradimensional shift) or \n",
    "        - the same dimension remains relevant (= intradimensional shift).\n",
    "    - The former change of relevance is called <font color=\"red\">extradimensional shift</font>, and\n",
    "    - the latter change is called <font color=\"red\">intradimensional shift</font>."
   ]
  },
  {
   "cell_type": "markdown",
   "metadata": {
    "collapsed": true
   },
   "source": [
    "Many studies in many species have <font color=\"blue\">shown that intradimensional shift is easier than extradimensional shift</font>, a fact that can be explained by the hypothesis that subjects learn to attend to the relevant dimension, and this attentional shift perseverates into the second phase"
   ]
  },
  {
   "cell_type": "markdown",
   "metadata": {},
   "source": [
    "In this section of the chapter, \n",
    "* a recent experiment \n",
    "    - demonstrating this difference is summarized, and \n",
    "* a connectionist model that \n",
    "    - incorporates \n",
    "        - attentional learning \n",
    "            - is shown to fit the data, \n",
    "        - whereas the model \n",
    "            - cannot fit the data \n",
    "                - <font color=\"red\">if its attentional learning mechanism is “turned off”</font>."
   ]
  },
  {
   "cell_type": "markdown",
   "metadata": {},
   "source": [
    "## Experiment design and results"
   ]
  },
  {
   "cell_type": "markdown",
   "metadata": {},
   "source": [
    "Consider the <font color=\"red\">simple line drawings of freight train box cars</font> shown in Figure 4.1. \n",
    "* They vary on three binary dimensions: \n",
    "    - height, \n",
    "    - door position, and \n",
    "    - wheel color."
   ]
  },
  {
   "cell_type": "markdown",
   "metadata": {},
   "source": [
    "In an experiment conducted in my lab (Kruschke, 1996b), \n",
    "* people learned to classify these cars into one of two routes."
   ]
  },
  {
   "cell_type": "markdown",
   "metadata": {},
   "source": [
    "<img src=\"figures/cap4.1.png\" width=600 />"
   ]
  },
  {
   "cell_type": "markdown",
   "metadata": {},
   "source": [
    "Figure 4.2 indicates the mapping of cars to routes."
   ]
  },
  {
   "cell_type": "markdown",
   "metadata": {},
   "source": [
    "<img src=\"figures/cap4.2.png\" width=600 />"
   ]
  },
  {
   "cell_type": "markdown",
   "metadata": {},
   "source": [
    "Human learning performance in this experiment is shown in Figure 4.3. It can be seen that people learned the intradimensional shift much faster than the extradimensional shift [t(118) = 3.65, SEdiff = .026, p < .0001 two-tailed]."
   ]
  },
  {
   "cell_type": "markdown",
   "metadata": {},
   "source": [
    "<img src=\"figures/cap4.3.png\" width=600 />"
   ]
  },
  {
   "cell_type": "markdown",
   "metadata": {},
   "source": [
    "## A connectionist model with attentional learning\n",
    "* Activation propagation\n",
    "* Learning of attention and associations\n",
    "* Fit of the model"
   ]
  },
  {
   "cell_type": "markdown",
   "metadata": {},
   "source": [
    "#### dimensions & exemplars\n",
    "* The advantage of intradimensional shift over extradimensional shift suggests that there is learned attention to dimensions.\n",
    "* conjunctive combinations of dimensional values must be encoded in the model. \n",
    "* There has been much research that suggests that people can and do encode configurations of values, also called exemplars, during learning"
   ]
  },
  {
   "cell_type": "markdown",
   "metadata": {},
   "source": [
    "#### AMBRY\n",
    "* 참고 : [8] AMBRY github - https://github.com/MaLomm/AMBRY\n",
    "* The model fit to these data was called AMBRY by Kruschke (1996b) because it is a variant of the ALCOVE model (Kruschke, 1992). \n",
    "* The architecture of (part of) AMBRY is shown in Figure 4.4."
   ]
  },
  {
   "cell_type": "markdown",
   "metadata": {},
   "source": [
    "<img src=\"figures/cap4.5.png\" width=600 />"
   ]
  },
  {
   "cell_type": "markdown",
   "metadata": {},
   "source": [
    "### Activation propagation"
   ]
  },
  {
   "cell_type": "markdown",
   "metadata": {},
   "source": [
    "#### input node"
   ]
  },
  {
   "cell_type": "markdown",
   "metadata": {},
   "source": [
    "* In AMBRY, each dimension is encoded by a separate input node. \n",
    "* If $ψ_{i}$ denotes the <font color=\"blue\">psychological scale value</font> of the stimulus on dimension i, then the activation of input node i is simply that scale value:\n",
    "    <img src=\"figures/cap4.4.png\" width=600 />\n",
    "    - Because the experiment counter-balanced the assignment of physical dimensions in Figure 4.1 to abstract dimensions in Figure 4.2, \n",
    "        - the dimensional values were simply assumed to be 1.0 and 2.0; \n",
    "        - e.g. for the short car, \n",
    "            - $ψ_{height}$ = 1.0, and \n",
    "        - for the tall car, \n",
    "            - $ψ_{height}$ = 2.0."
   ]
  },
  {
   "cell_type": "markdown",
   "metadata": {},
   "source": [
    "#### exampler node"
   ]
  },
  {
   "cell_type": "markdown",
   "metadata": {},
   "source": [
    "An exemplar node is significantly activated only by stimuli that are fairly similar to the exemplar represented by the node. In other words, each exemplar node has a limited <font color=\"red\">“receptive field”</font> in stimulus space. Formally, the activation value is given by:\n",
    "    <img src=\"figures/eq4.2.png\" width=600 />"
   ]
  },
  {
   "cell_type": "markdown",
   "metadata": {},
   "source": [
    "* where $c$ is a constant called the <font color=\"blue\">specificity</font> that determines the narrowness of the receptive field, \n",
    "* where $α_{i}$ is the <font color=\"blue\">attention strength</font> on the ith dimension, and \n",
    "* where $ψ_{ji}$ is the <font color=\"blue\">scale value</font> of the jth exemplar on the ith dimension. \n",
    "* Because stimulus values are either 1.0 or 2.0, the values of $ψ_{ji}$ are either 1.0 or 2.0."
   ]
  },
  {
   "cell_type": "markdown",
   "metadata": {},
   "source": [
    "Figure 4.5 shows the activation profile of an exemplar node in a two-dimensional stimulus space. \n",
    "* It is this pyramid-shaped activation profile that is used to represent the exemplar nodes in Figure 4.4."
   ]
  },
  {
   "cell_type": "markdown",
   "metadata": {},
   "source": [
    "<img src=\"figures/cap4.6.png\" width=600 />"
   ]
  },
  {
   "cell_type": "markdown",
   "metadata": {},
   "source": [
    "#### attention"
   ]
  },
  {
   "cell_type": "markdown",
   "metadata": {},
   "source": [
    "* Importantly, equation (2) implies that \n",
    "    - increasing the attention strength on a dimension \n",
    "        - has the effect of magnifying differences on that dimension, \n",
    "    - so that differences along the dimension have \n",
    "        - a larger influence on the similarity. \n",
    "* Thus, if a dimension is relevant to a categorization, \n",
    "    - the attention strength on that dimension \n",
    "        - can be increased \n",
    "            - to better distinguish the exemplars\n",
    "                - from the two categories. \n",
    "* On the other hand, an irrelevant dimension \n",
    "    - can have its attention decreased, \n",
    "    - so that differences along that dimension \n",
    "        - do not needlessly impede learning."
   ]
  },
  {
   "cell_type": "markdown",
   "metadata": {},
   "source": [
    "#### attention bias"
   ]
  },
  {
   "cell_type": "markdown",
   "metadata": {},
   "source": [
    "The attention strengths are indicated in Figure 4.4 by the arrows from a “bias” node (which is always activated) to the boxes marked with Xs above the input nodes. \n",
    "* The boxes are marked with Xs to indicate that each attentional strength is a multiplier on the input."
   ]
  },
  {
   "cell_type": "markdown",
   "metadata": {},
   "source": [
    "<img src=\"figures/cap4.5.png\" width=600 />"
   ]
  },
  {
   "cell_type": "markdown",
   "metadata": {},
   "source": [
    "#### category node"
   ]
  },
  {
   "cell_type": "markdown",
   "metadata": {},
   "source": [
    "* <font color=\"red\">Activation from the exemplar nodes is propagated to category nodes via weighted connections</font>, illustrated in Figure 4.4 by the arrows from exemplar nodes to category nodes. \n",
    "* <font color=\"red\">The activation of each category node</font> is determined by a standard <font color=\"red\">linear combination of weighted exemplar-node activations</font>. \n",
    "* Finally, the activations of the category nodes are converted to choice probabilities by a ratio rule, such that the probability of choosing a category corresponds with the activation of the category relative to the total activation of all categories. "
   ]
  },
  {
   "cell_type": "markdown",
   "metadata": {},
   "source": [
    "### Learning of attention and associations"
   ]
  },
  {
   "cell_type": "markdown",
   "metadata": {},
   "source": [
    "The association weights between the exemplar nodes and the category nodes are learned by standard back-propagation of error (Rumelhart et al., 1986)."
   ]
  },
  {
   "cell_type": "markdown",
   "metadata": {},
   "source": [
    "#### attentional learning rate"
   ]
  },
  {
   "cell_type": "markdown",
   "metadata": {},
   "source": [
    "Of importance here is to note that the learning of the attention strengths is based on error reduction, and the amount or speed of learning is governed by a single parameter called the <font color=\"red\">attentional learning rate</font>.\n",
    "* When this attentional earning rate is fixed at zero, \n",
    "    - the model has no ability to learn to selectively attend to relevant dimensions \n",
    "        - (but it can still learn categorizations because of the learnable association weights between exemplars and categories)."
   ]
  },
  {
   "cell_type": "markdown",
   "metadata": {},
   "source": [
    "<font color=\"blue\">The model is therefore referred to as a type of connectionist model, and is never referred to as a neural network model.</font>"
   ]
  },
  {
   "cell_type": "markdown",
   "metadata": {},
   "source": [
    "### Fit of the model"
   ]
  },
  {
   "cell_type": "markdown",
   "metadata": {},
   "source": [
    "The top graph of Figure 4.6 shows the predictions of AMBRY when fitted to the data shown in Figure 4.3."
   ]
  },
  {
   "cell_type": "markdown",
   "metadata": {},
   "source": [
    "<font color=\"red\">Attentional learning is critical to account for the data.</font>"
   ]
  },
  {
   "cell_type": "markdown",
   "metadata": {},
   "source": [
    "<img src=\"figures/cap4.7.png\" width=600 />"
   ]
  },
  {
   "cell_type": "markdown",
   "metadata": {},
   "source": [
    "<img src=\"figures/cap4.8.png\" width=600 />"
   ]
  },
  {
   "cell_type": "markdown",
   "metadata": {},
   "source": [
    "<img src=\"figures/cap4.9.png\" width=600 />"
   ]
  },
  {
   "cell_type": "markdown",
   "metadata": {},
   "source": [
    "# BLOCKING OF ASSOCIATIVE LEARNING\n",
    "* Experiment design and results\n",
    "* A connectionist model with attentional learning"
   ]
  },
  {
   "cell_type": "markdown",
   "metadata": {},
   "source": [
    "Suppose two cues, A and B, are presented to a learner, followed by an outcome. Typically both cues will acquire moderate associative strength with the outcome. On the other hand, if the subject was trained in a previous phase to learn that A by itself predicts the outcome, then the associative strength from B seems to be very weak. It appears that the prior training with A has blocked, i.e. prevented, learning about B, despite the fact that B is now just as predictive of the outcome as A. "
   ]
  },
  {
   "cell_type": "markdown",
   "metadata": {},
   "source": [
    "For more than 30 years there have been two prominent theories of blocking.\n",
    "* The dominant theory, formalized in the <font color=\"red\">Rescorla–Wagner model</font> (1972)\n",
    "* A competing theory, first suggested by Sutherland & Mackintosh (1971) and extended by Mackintosh (1975), claims that there is in fact <font color=\"blue\">something learned about the redundant relevant cue</font>; namely, that it is irrelevant.\n",
    "    - In other words, subjects learn to <font color=\"blue\">suppress attention to the redundant cue</font>. "
   ]
  },
  {
   "cell_type": "markdown",
   "metadata": {},
   "source": [
    "<font color=\"red\">This ubiquitous learning phenomenon, blocking, involves learned attention. Models of natural learning should incorporate mechanisms of learned attention</font>."
   ]
  },
  {
   "cell_type": "markdown",
   "metadata": {},
   "source": [
    "## Experiment design and results"
   ]
  },
  {
   "cell_type": "markdown",
   "metadata": {},
   "source": [
    "<img src=\"figures/cap4.10.png\" width=600 />"
   ]
  },
  {
   "cell_type": "markdown",
   "metadata": {},
   "source": [
    "<img src=\"figures/cap4.11.png\" width=600 />"
   ]
  },
  {
   "cell_type": "markdown",
   "metadata": {},
   "source": [
    "## A connectionist model with attentional learning\n",
    "* Fit of the model"
   ]
  },
  {
   "cell_type": "markdown",
   "metadata": {},
   "source": [
    "Figure 4.7 depicts the ADIT model introduced by Kruschke (1996a) and extended by Kruschke (2001), referred to here as the EXIT model. EXIT is very similar in spirit to the AMBRY model described in the previous section (Figure 4.4). "
   ]
  },
  {
   "cell_type": "markdown",
   "metadata": {},
   "source": [
    "<img src=\"figures/cap4.12.png\" width=600 />"
   ]
  },
  {
   "cell_type": "markdown",
   "metadata": {},
   "source": [
    "Formally, the activation of the kth category node is determined as:"
   ]
  },
  {
   "cell_type": "markdown",
   "metadata": {},
   "source": [
    "<img src=\"figures/cap4.13.png\" width=600 />"
   ]
  },
  {
   "cell_type": "markdown",
   "metadata": {},
   "source": [
    "where $w_{ki}$ is the associative weight from the $i$th cue to the $k$th category, $α_{i}$ is the attention allocated to the $i$th cue, and $a^{in}_{i}$ is the activation of the ith cue."
   ]
  },
  {
   "cell_type": "markdown",
   "metadata": {},
   "source": [
    "The change in the associative weight from the ith cue to the kth output (denoted ∆wki) is given by:"
   ]
  },
  {
   "cell_type": "markdown",
   "metadata": {},
   "source": [
    "<img src=\"figures/cap4.14.png\" width=600 />"
   ]
  },
  {
   "cell_type": "markdown",
   "metadata": {},
   "source": [
    "where tk is the teacher value (correct response) for the kth category node."
   ]
  },
  {
   "cell_type": "markdown",
   "metadata": {},
   "source": [
    "### Fit of the model"
   ]
  },
  {
   "cell_type": "markdown",
   "metadata": {},
   "source": [
    "<img src=\"figures/cap4.15.png\" width=600 />"
   ]
  },
  {
   "cell_type": "markdown",
   "metadata": {},
   "source": [
    "# THE INVERSE BASE RATE EFFECT\n",
    "* Experiment design and results"
   ]
  },
  {
   "cell_type": "markdown",
   "metadata": {},
   "source": [
    "<img src=\"figures/cap4.16.png\" width=600 />"
   ]
  },
  {
   "cell_type": "markdown",
   "metadata": {},
   "source": [
    "## Experiment design and results\n",
    "* Fit of the model"
   ]
  },
  {
   "cell_type": "markdown",
   "metadata": {},
   "source": [
    "<img src=\"figures/cap4.17.png\" width=600 />"
   ]
  },
  {
   "cell_type": "markdown",
   "metadata": {},
   "source": [
    "<img src=\"figures/cap4.18.png\" width=600 />"
   ]
  },
  {
   "cell_type": "markdown",
   "metadata": {},
   "source": [
    "### Fit of the model"
   ]
  },
  {
   "cell_type": "markdown",
   "metadata": {},
   "source": [
    "<img src=\"figures/cap4.19.png\" width=600 />\n",
    "<img src=\"figures/cap4.20.png\" width=600 />"
   ]
  },
  {
   "cell_type": "markdown",
   "metadata": {},
   "source": [
    "# SUMMARY AND CONCLUSION\n",
    "* Relation to other learning models\n",
    "* Attentional shifting and learning are rational"
   ]
  },
  {
   "cell_type": "markdown",
   "metadata": {},
   "source": [
    "## Relation to other learning models"
   ]
  },
  {
   "cell_type": "markdown",
   "metadata": {},
   "source": [
    "## Attentional shifting and learning are rational"
   ]
  },
  {
   "cell_type": "markdown",
   "metadata": {},
   "source": [
    "# 참고자료"
   ]
  },
  {
   "cell_type": "markdown",
   "metadata": {},
   "source": [
    "* [1] Connectionist Models in Cognitive Psycholgy - http://www.amazon.com/Connectionist-Cognitive-Psychology-Studies-Cognition/dp/0415646901/\n",
    "* [2] attention(인지심리학 영역) - http://www.unt.edu/rss/class/mike/5640/Attention.ppt\n",
    "* [3] 부산대 인지심리학 강의 노트 : attention - http://ocw.pusan.ac.kr/front/phtml/0101_04.php?aidx=2&cidx=89&act=view&idx=295&p=1&key=&keyword=#\n",
    "* [4] Attention (의식과 연관) - http://www.slideshare.net/drjayeshpatidar/attention-44340875\n",
    "* [5] Attention (의식과 연관) - http://www.slideshare.net/ArulLawrence/attention-14003200\n",
    "* [6] Intra-Extra Dimensional Set Shift (IED) - http://www.cambridgecognition.com/tests/intra-extra-dimensional-set-shift-ied\n",
    "* [7] extradimensional shift task - http://www.cognitiveatlas.org/term/Extradimensional_shift_task\n",
    "* [8] AMBRY github - https://github.com/MaLomm/AMBRY"
   ]
  }
 ],
 "metadata": {
  "kernelspec": {
   "display_name": "Python 2",
   "language": "python",
   "name": "python2"
  },
  "language_info": {
   "codemirror_mode": {
    "name": "ipython",
    "version": 2
   },
   "file_extension": ".py",
   "mimetype": "text/x-python",
   "name": "python",
   "nbconvert_exporter": "python",
   "pygments_lexer": "ipython2",
   "version": "2.7.10"
  }
 },
 "nbformat": 4,
 "nbformat_minor": 0
}
