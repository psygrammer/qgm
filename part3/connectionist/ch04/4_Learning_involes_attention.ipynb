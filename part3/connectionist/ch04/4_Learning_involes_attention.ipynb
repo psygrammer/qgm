{
 "cells": [
  {
   "cell_type": "markdown",
   "metadata": {},
   "source": [
    "# Chapter 4. Learning involves attention"
   ]
  },
  {
   "cell_type": "markdown",
   "metadata": {},
   "source": [
    "* 싸이그래머 / QGM : 파트 3 - 연결주의모형 [1]\n",
    "* 김무성"
   ]
  },
  {
   "cell_type": "markdown",
   "metadata": {},
   "source": [
    "# Contents"
   ]
  },
  {
   "cell_type": "markdown",
   "metadata": {},
   "source": [
    "* INTRODUCTION\n",
    "    - Shifts of attention facilitate learning\n",
    "    - Shifts of attention can be assessed by subsequent learning\n",
    "* INTRA- AND EXTRADIMENSIONAL SHIFTS\n",
    "    - Experiment design and results\n",
    "    - A connectionist model with attentional learning\n",
    "        - Activation propagation\n",
    "        - Learning of attention and associations\n",
    "        - Fit of the model\n",
    "* BLOCKING OF ASSOCIATIVE LEARNING\n",
    "    - Experiment design and results\n",
    "    - A connectionist model with attentional learning\n",
    "        - Fit of the model\n",
    "* THE INVERSE BASE RATE EFFECT\n",
    "    - Experiment design and results\n",
    "        - Fit of the model\n",
    "* SUMMARY AND CONCLUSION\n",
    "    - Relation to other learning models\n",
    "    - Attentional shifting and learning are rational"
   ]
  },
  {
   "cell_type": "markdown",
   "metadata": {},
   "source": [
    "#### 참고\n",
    "* [2] attention(인지심리학 영역) - http://www.unt.edu/rss/class/mike/5640/Attention.ppt\n",
    "* [3] 부산대 인지심리학 강의 노트 : attention - http://ocw.pusan.ac.kr/front/phtml/0101_04.php?aidx=2&cidx=89&act=view&idx=295&p=1&key=&keyword=#\n",
    "* [4] Attention (의식과 연관) - http://www.slideshare.net/drjayeshpatidar/attention-44340875\n",
    "* [5] Attention (의식과 연관) - http://www.slideshare.net/ArulLawrence/attention-14003200"
   ]
  },
  {
   "cell_type": "markdown",
   "metadata": {},
   "source": [
    "# INTRODUCTION\n",
    "* Shifts of attention facilitate learning\n",
    "* Shifts of attention can be assessed by subsequent learning"
   ]
  },
  {
   "cell_type": "markdown",
   "metadata": {},
   "source": [
    "A thesis of this chapter is that \n",
    "* connectionist learning models must incorporate \n",
    "    - rapidly shifting selective attention and \n",
    "    - the ability to learn attentional redistributions. \n",
    "* This kind of attentional shifting is not only necessary \n",
    "    - to mimic learning by humans and other animals, \n",
    "    - it is also a highly effective and rational solution \n",
    "        - to the demands of learning many new associations \n",
    "            - as quickly as possible. \n",
    "* This chapter describes \n",
    "    - three experiments (one previously published and two new) that\n",
    "        - demonstrate the action of attentional learning."
   ]
  },
  {
   "cell_type": "markdown",
   "metadata": {},
   "source": [
    "## Shifts of attention facilitate learning"
   ]
  },
  {
   "cell_type": "markdown",
   "metadata": {},
   "source": [
    "A basic fact of learning is that people quickly learn new associations without rapidly forgetting old associations.\n",
    "* mushrooms example\n",
    "    - Consider a hypothetical situation in which \n",
    "        - an animal \n",
    "            - learns that \n",
    "                - mushrooms with \n",
    "                    - a round top and \n",
    "                    - smooth texture are \n",
    "                - tasty and nutritious. \n",
    "        - After successfully using this knowledge for some time, \n",
    "            - the animal encounters \n",
    "                - a new mushroom with \n",
    "                    - a smooth texture but \n",
    "                    - a flat top. \n",
    "                - This mushroom turns out to induce nausea. \n",
    "        - <font color=\"red\">How is the animal to quickly learn about this new kind of mushroom, without destroying still-useful knowledge about the old kind of mushroom?</font>\n",
    "        - If the animal learns to associate \n",
    "            - both features of the new mushroom with nausea, \n",
    "        - then it will <font color=\"red\">inappropriately destroy part of its previous knowledge</font> about healthy mushrooms, \n",
    "            - i.e. the previous association from smooth texture to edibility will be destroyed. \n",
    "        - On the other hand, if the <font color=\"blue\">old association is retained</font>, it generates a <font color=\"blue\">conflicting response</font>, \n",
    "            - i.e. eating the mushroom."
   ]
  },
  {
   "cell_type": "markdown",
   "metadata": {},
   "source": [
    "#### To facilitate learning"
   ]
  },
  {
   "cell_type": "markdown",
   "metadata": {},
   "source": [
    "* To facilitate learning about the new case, it would be advantageous to selectively attend to the distinctive feature, viz. flat top, and learn to associate this feature with nausea"
   ]
  },
  {
   "cell_type": "markdown",
   "metadata": {},
   "source": [
    "#### shifts of attention"
   ]
  },
  {
   "cell_type": "markdown",
   "metadata": {},
   "source": [
    "* By <font color=\"red\">selectively attending to the distinctive feature</font>, \n",
    "    - previous knowledge is preserved, and \n",
    "    - new learning is facilitated.\n",
    "* Not only should <font color=\"red\">attention be shifted</font> in this way to facilitate learning, \n",
    "    - but the <font color=\"red\">shifted attentional distribution should itself be learned</font> :\n",
    "        - Whenever the animal encounters a mushroom with smooth texture and flat top, \n",
    "            - it should shift attention to the flat top, away from the smooth texture."
   ]
  },
  {
   "cell_type": "markdown",
   "metadata": {},
   "source": [
    "## Shifts of attention can be assessed by subsequent learning"
   ]
  },
  {
   "cell_type": "markdown",
   "metadata": {},
   "source": [
    "#### attention"
   ]
  },
  {
   "cell_type": "markdown",
   "metadata": {},
   "source": [
    "The term “attention”, as used here, \n",
    "* refers to both  \n",
    "    - <font color=\"red\">the influence of a feature on an immediate response</font> and \n",
    "    - <font color=\"red\">the influence of a feature on learning</font>. \n",
    "* If a feature is being strongly attended to, \n",
    "    - then that feature should have \n",
    "        - a strong influence \n",
    "            - on the <font color=\"red\">immediate response</font> and \n",
    "            - on the <font color=\"red\">imminent learning</font>. \n",
    "* This latter influence of attention on learning \n",
    "    - is sometimes referred to as the <font color=\"blue\">feature’s associability</font>. \n",
    "* In this chapter, these two influences of attention are treated synonymously. "
   ]
  },
  {
   "cell_type": "markdown",
   "metadata": {},
   "source": [
    "#### subsequent learning ability"
   ]
  },
  {
   "cell_type": "markdown",
   "metadata": {},
   "source": [
    "Because redistribution of attention is a learned response to stimuli, the <font color=\"red\">degree of attentional learning</font> can be <font color=\"blue\">assayed by examining</font> <font color=\"red\">subsequent learning ability</font>.\n",
    "* If a person has learned that \n",
    "    - a particular feature is \n",
    "        - highly indicative of an appropriate response, \n",
    "    - then, presumably, the person has also learned \n",
    "        - to attend to that feature. \n",
    "* If subsequent training makes \n",
    "    - a different feature relevant to new responses, \n",
    "    - then learning about this new correspondence \n",
    "        - should be relatively slow, \n",
    "            - because the person will have to unlearn \n",
    "                - the attention \n",
    "                    - given to the now-irrelevant feature.\n",
    "* In general, learned attention to features or dimensions \n",
    "    - can be inferred \n",
    "        - from the ease with which subsequent associations are learned. \n",
    "    - This technique is used in all three examples presented below."
   ]
  },
  {
   "cell_type": "markdown",
   "metadata": {},
   "source": [
    "# INTRA- AND EXTRADIMENSIONAL SHIFTS\n",
    "* Experiment design and results\n",
    "* A connectionist model with attentional learning"
   ]
  },
  {
   "cell_type": "markdown",
   "metadata": {},
   "source": [
    "A traditional learning paradigm in psychology investigates <font color=\"red\">perseveration of learned attention across phases of training</font>. \n",
    "* In the first phase, \n",
    "    - participants learn that\n",
    "        - one stimulus dimension \n",
    "            - is relevant to the outcome \n",
    "        - while other dimensions \n",
    "            - are irrelevant. \n",
    "* In the second phase, \n",
    "    - the mapping of stimuli to outcomes changes so that either \n",
    "        - a different dimension is relevant (= extradimensional shift) or \n",
    "        - the same dimension remains relevant (= intradimensional shift).\n",
    "    - The former change of relevance is called <font color=\"red\">extradimensional shift</font>, and\n",
    "    - the latter change is called <font color=\"red\">intradimensional shift</font>."
   ]
  },
  {
   "cell_type": "code",
   "execution_count": null,
   "metadata": {
    "collapsed": true
   },
   "outputs": [],
   "source": []
  },
  {
   "cell_type": "markdown",
   "metadata": {},
   "source": [
    "## Experiment design and results"
   ]
  },
  {
   "cell_type": "markdown",
   "metadata": {},
   "source": [
    "<img src=\"figures/cap4.1.png\" width=600 />"
   ]
  },
  {
   "cell_type": "markdown",
   "metadata": {},
   "source": [
    "<img src=\"figures/cap4.2.png\" width=600 />"
   ]
  },
  {
   "cell_type": "markdown",
   "metadata": {},
   "source": [
    "<img src=\"figures/cap4.3.png\" width=600 />"
   ]
  },
  {
   "cell_type": "markdown",
   "metadata": {},
   "source": [
    "## A connectionist model with attentional learning\n",
    "* Activation propagation\n",
    "* Learning of attention and associations\n",
    "* Fit of the model"
   ]
  },
  {
   "cell_type": "markdown",
   "metadata": {},
   "source": [
    "<img src=\"figures/cap4.5.png\" width=600 />"
   ]
  },
  {
   "cell_type": "markdown",
   "metadata": {},
   "source": [
    "### Activation propagation"
   ]
  },
  {
   "cell_type": "markdown",
   "metadata": {},
   "source": [
    "<img src=\"figures/cap4.4.png\" width=600 />"
   ]
  },
  {
   "cell_type": "markdown",
   "metadata": {},
   "source": [
    "<img src=\"figures/eq4.2.png\" width=600 />"
   ]
  },
  {
   "cell_type": "markdown",
   "metadata": {},
   "source": [
    "<img src=\"figures/cap4.6.png\" width=600 />"
   ]
  },
  {
   "cell_type": "markdown",
   "metadata": {},
   "source": [
    "### Learning of attention and associations"
   ]
  },
  {
   "cell_type": "markdown",
   "metadata": {},
   "source": [
    "### Fit of the model"
   ]
  },
  {
   "cell_type": "markdown",
   "metadata": {},
   "source": [
    "<img src=\"figures/cap4.7.png\" width=600 />"
   ]
  },
  {
   "cell_type": "markdown",
   "metadata": {},
   "source": [
    "<img src=\"figures/cap4.8.png\" width=600 />"
   ]
  },
  {
   "cell_type": "markdown",
   "metadata": {},
   "source": [
    "<img src=\"figures/cap4.9.png\" width=600 />"
   ]
  },
  {
   "cell_type": "markdown",
   "metadata": {},
   "source": [
    "# BLOCKING OF ASSOCIATIVE LEARNING\n",
    "* Experiment design and results\n",
    "* A connectionist model with attentional learning"
   ]
  },
  {
   "cell_type": "markdown",
   "metadata": {},
   "source": [
    "## Experiment design and results"
   ]
  },
  {
   "cell_type": "markdown",
   "metadata": {},
   "source": [
    "<img src=\"figures/cap4.10.png\" width=600 />"
   ]
  },
  {
   "cell_type": "markdown",
   "metadata": {},
   "source": [
    "<img src=\"figures/cap4.11.png\" width=600 />"
   ]
  },
  {
   "cell_type": "markdown",
   "metadata": {},
   "source": [
    "## A connectionist model with attentional learning\n",
    "* Fit of the model"
   ]
  },
  {
   "cell_type": "markdown",
   "metadata": {},
   "source": [
    "<img src=\"figures/cap4.12.png\" width=600 />"
   ]
  },
  {
   "cell_type": "markdown",
   "metadata": {},
   "source": [
    "<img src=\"figures/cap4.13.png\" width=600 />"
   ]
  },
  {
   "cell_type": "markdown",
   "metadata": {},
   "source": [
    "<img src=\"figures/cap4.14.png\" width=600 />"
   ]
  },
  {
   "cell_type": "markdown",
   "metadata": {},
   "source": [
    "### Fit of the model"
   ]
  },
  {
   "cell_type": "markdown",
   "metadata": {},
   "source": [
    "<img src=\"figures/cap4.15.png\" width=600 />"
   ]
  },
  {
   "cell_type": "markdown",
   "metadata": {},
   "source": [
    "# THE INVERSE BASE RATE EFFECT\n",
    "* Experiment design and results"
   ]
  },
  {
   "cell_type": "markdown",
   "metadata": {},
   "source": [
    "<img src=\"figures/cap4.16.png\" width=600 />"
   ]
  },
  {
   "cell_type": "markdown",
   "metadata": {},
   "source": [
    "## Experiment design and results\n",
    "* Fit of the model"
   ]
  },
  {
   "cell_type": "markdown",
   "metadata": {},
   "source": [
    "<img src=\"figures/cap4.17.png\" width=600 />"
   ]
  },
  {
   "cell_type": "markdown",
   "metadata": {},
   "source": [
    "<img src=\"figures/cap4.18.png\" width=600 />"
   ]
  },
  {
   "cell_type": "markdown",
   "metadata": {},
   "source": [
    "### Fit of the model"
   ]
  },
  {
   "cell_type": "markdown",
   "metadata": {},
   "source": [
    "<img src=\"figures/cap4.19.png\" width=600 />\n",
    "<img src=\"figures/cap4.20.png\" width=600 />"
   ]
  },
  {
   "cell_type": "markdown",
   "metadata": {},
   "source": [
    "# SUMMARY AND CONCLUSION\n",
    "* Relation to other learning models\n",
    "* Attentional shifting and learning are rational"
   ]
  },
  {
   "cell_type": "markdown",
   "metadata": {},
   "source": [
    "## Relation to other learning models"
   ]
  },
  {
   "cell_type": "markdown",
   "metadata": {},
   "source": [
    "## Attentional shifting and learning are rational"
   ]
  },
  {
   "cell_type": "markdown",
   "metadata": {},
   "source": [
    "# 참고자료"
   ]
  },
  {
   "cell_type": "markdown",
   "metadata": {},
   "source": [
    "* [1] Connectionist Models in Cognitive Psycholgy - http://www.amazon.com/Connectionist-Cognitive-Psychology-Studies-Cognition/dp/0415646901/\n",
    "* [2] attention(인지심리학 영역) - http://www.unt.edu/rss/class/mike/5640/Attention.ppt\n",
    "* [3] 부산대 인지심리학 강의 노트 : attention - http://ocw.pusan.ac.kr/front/phtml/0101_04.php?aidx=2&cidx=89&act=view&idx=295&p=1&key=&keyword=#\n",
    "* [4] Attention (의식과 연관) - http://www.slideshare.net/drjayeshpatidar/attention-44340875\n",
    "* [5] Attention (의식과 연관) - http://www.slideshare.net/ArulLawrence/attention-14003200"
   ]
  },
  {
   "cell_type": "code",
   "execution_count": null,
   "metadata": {
    "collapsed": true
   },
   "outputs": [],
   "source": []
  }
 ],
 "metadata": {
  "kernelspec": {
   "display_name": "Python 2",
   "language": "python",
   "name": "python2"
  },
  "language_info": {
   "codemirror_mode": {
    "name": "ipython",
    "version": 2
   },
   "file_extension": ".py",
   "mimetype": "text/x-python",
   "name": "python",
   "nbconvert_exporter": "python",
   "pygments_lexer": "ipython2",
   "version": "2.7.10"
  }
 },
 "nbformat": 4,
 "nbformat_minor": 0
}
