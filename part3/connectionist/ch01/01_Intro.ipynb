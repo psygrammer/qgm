{
 "cells": [
  {
   "cell_type": "markdown",
   "metadata": {},
   "source": [
    "# 1. Introduction to connectionist models in cognitive psychology: Basic structures, processes, and algorithms"
   ]
  },
  {
   "cell_type": "markdown",
   "metadata": {},
   "source": [
    "* 싸이그래머 / QGM : 파트 3 - 연결주의모형 [1]\n",
    "* 김무성"
   ]
  },
  {
   "cell_type": "markdown",
   "metadata": {},
   "source": [
    "# Contents\n",
    "* INTRODUCTION\n",
    "* THE NEURAL BASIS OF CONNECTIONIST MODELS\n",
    "* COGNITIVE AND NEURAL INTERPRETATIONS OF CONNECTIONIST NETWORKS\n",
    "* BASIC STRUCTURES AND PROCESSES OF CONNECTIONIST MODELS\n",
    "* LEARNING RULES\n",
    "* FURTHER EXTENSIONS OF THE DELTA RULE—MULTI-LAYER NETWORKS AND NONLINEAR MAPPINGS\n",
    "* FEEDBACK AND RECURRENT ARCHITECTURES"
   ]
  },
  {
   "cell_type": "markdown",
   "metadata": {},
   "source": [
    "# INTRODUCTION"
   ]
  },
  {
   "cell_type": "markdown",
   "metadata": {},
   "source": [
    "#### 참고자료\n",
    "* [2] Introduction to Cognitive Science - http://users.metu.edu.tr/bozsahin/intro-cogsci/w1-history.ppt\n",
    "* [3] Connectionist Modeling  - http://people.umass.edu/alc/course_pages/fall_2004/modeling_behavior/lectures/connectionism.ppt \n",
    "* [4] Computationalism: The Very Idea - http://www.cs.bilkent.edu.tr/~david/papers/Computationalism.ppt\n",
    "* [5] Connectionist Approaches - http://www.slideshare.net/cheapiseth1/chapter-6-connectionist-approaches\n",
    "* [6] Connectionism vs. computationalism debate (wikipedia) - https://en.wikipedia.org/wiki/Connectionism#Connectionism_vs._computationalism_debate"
   ]
  },
  {
   "cell_type": "markdown",
   "metadata": {},
   "source": [
    "This book aims to present an overview of the current state of connectionist modelling in cognitive psychology, covering a broad range of areas."
   ]
  },
  {
   "cell_type": "markdown",
   "metadata": {},
   "source": [
    "* connectionist (or “neural network”) models, PDP(Parallel Distributed Processing Model)\n",
    "* cognitive psychology\n",
    "* Connectionism vs. computationalism"
   ]
  },
  {
   "cell_type": "markdown",
   "metadata": {},
   "source": [
    "# THE NEURAL BASIS OF CONNECTIONIST MODELS\n",
    "* The neuron\n",
    "* The action potential\n",
    "* Neuronal communication and synaptic integration"
   ]
  },
  {
   "cell_type": "markdown",
   "metadata": {},
   "source": [
    "## The neuron"
   ]
  },
  {
   "cell_type": "markdown",
   "metadata": {},
   "source": [
    "<img src=\"figures/cap1.1.png\" width=600 />"
   ]
  },
  {
   "cell_type": "markdown",
   "metadata": {},
   "source": [
    "## The action potential"
   ]
  },
  {
   "cell_type": "markdown",
   "metadata": {},
   "source": [
    "<img src=\"http://faculty.pasadena.edu/dkwon/chap%208_files/images/image33.png\" width=600 />"
   ]
  },
  {
   "cell_type": "markdown",
   "metadata": {},
   "source": [
    "## Neuronal communication and synaptic integration"
   ]
  },
  {
   "cell_type": "markdown",
   "metadata": {},
   "source": [
    "<img src=\"http://qbi.uq.edu.au/filething/get/38344/Neuron-synapse_brain-physiology_QBI.png\" width=600 />"
   ]
  },
  {
   "cell_type": "markdown",
   "metadata": {},
   "source": [
    "<img src=\"http://ib-biology2010-12.wikispaces.com/file/view/Synaptic_Integration.jpg/307656242/649x566/Synaptic_Integration.jpg\" />"
   ]
  },
  {
   "cell_type": "markdown",
   "metadata": {},
   "source": [
    "# COGNITIVE AND NEURAL INTERPRETATIONS OF CONNECTIONIST NETWORKS"
   ]
  },
  {
   "cell_type": "markdown",
   "metadata": {},
   "source": [
    "# BASIC STRUCTURES AND PROCESSES OF CONNECTIONIST MODELS\n",
    "* Units and activation levels\n",
    "* Vector representation of activation patterns\n",
    "* Representation of cognitive elements by units"
   ]
  },
  {
   "cell_type": "markdown",
   "metadata": {},
   "source": [
    "<img src=\"figures/cap1.2.png\" width=600 />"
   ]
  },
  {
   "cell_type": "markdown",
   "metadata": {},
   "source": [
    "## Units and activation levels"
   ]
  },
  {
   "cell_type": "markdown",
   "metadata": {},
   "source": [
    "## Vector representation of activation patterns"
   ]
  },
  {
   "cell_type": "markdown",
   "metadata": {},
   "source": [
    "<img src=\"figures/cap1.3.png\" width=600 />"
   ]
  },
  {
   "cell_type": "markdown",
   "metadata": {},
   "source": [
    "## Representation of cognitive elements by units"
   ]
  },
  {
   "cell_type": "markdown",
   "metadata": {},
   "source": [
    "## Connections and weights"
   ]
  },
  {
   "cell_type": "markdown",
   "metadata": {},
   "source": [
    "<img src=\"figures/cap1.4.png\" width=600 />"
   ]
  },
  {
   "cell_type": "markdown",
   "metadata": {},
   "source": [
    "## The matrix representation of sets of weights"
   ]
  },
  {
   "cell_type": "markdown",
   "metadata": {},
   "source": [
    "<img src=\"figures/cap1.5.png\" width=600 />"
   ]
  },
  {
   "cell_type": "markdown",
   "metadata": {},
   "source": [
    "## Spread of activation and the net (summed) input"
   ]
  },
  {
   "cell_type": "markdown",
   "metadata": {},
   "source": [
    "<img src=\"figures/cap1.7.png\" width=600 />"
   ]
  },
  {
   "cell_type": "markdown",
   "metadata": {},
   "source": [
    "<img src=\"figures/cap1.6.png\" />"
   ]
  },
  {
   "cell_type": "markdown",
   "metadata": {},
   "source": [
    "<img src=\"figures/cap1.8.png\" width=600 />"
   ]
  },
  {
   "cell_type": "markdown",
   "metadata": {},
   "source": [
    "## Spread of activation using vector and matrix notations"
   ]
  },
  {
   "cell_type": "markdown",
   "metadata": {},
   "source": [
    "<img src=\"figures/cap1.9.png\"/>"
   ]
  },
  {
   "cell_type": "markdown",
   "metadata": {},
   "source": [
    "<img src=\"figures/cap1.10.png\" />"
   ]
  },
  {
   "cell_type": "markdown",
   "metadata": {},
   "source": [
    "## Activation functions"
   ]
  },
  {
   "cell_type": "markdown",
   "metadata": {},
   "source": [
    "<img src=\"figures/cap1.11.png\" width=600 />"
   ]
  },
  {
   "cell_type": "markdown",
   "metadata": {},
   "source": [
    "<img src=\"figures/cap1.12.png\" />"
   ]
  },
  {
   "cell_type": "markdown",
   "metadata": {},
   "source": [
    "<img src=\"figures/cap1.13.png\"  />"
   ]
  },
  {
   "cell_type": "markdown",
   "metadata": {},
   "source": [
    "## Radial basis functions (RBFs)"
   ]
  },
  {
   "cell_type": "markdown",
   "metadata": {},
   "source": [
    "## Activation decay and temporal integration"
   ]
  },
  {
   "cell_type": "markdown",
   "metadata": {},
   "source": [
    "# LEARNING RULES\n",
    "* Unsupervised learning—the Hebb rule\n",
    "* Supervised learning—the delta rule\n",
    "* The delta rule and the Hebb rule: A comparison"
   ]
  },
  {
   "cell_type": "markdown",
   "metadata": {},
   "source": [
    "## Unsupervised learning—the Hebb rule"
   ]
  },
  {
   "cell_type": "markdown",
   "metadata": {},
   "source": [
    "<img src=\"figures/cap1.14.png\" width=600 />"
   ]
  },
  {
   "cell_type": "markdown",
   "metadata": {},
   "source": [
    "<img src=\"figures/cap1.15.png\" width=600 />"
   ]
  },
  {
   "cell_type": "markdown",
   "metadata": {},
   "source": [
    "## Supervised learning—the delta rule"
   ]
  },
  {
   "cell_type": "markdown",
   "metadata": {},
   "source": [
    "<img src=\"figures/cap1.16.png\" width=600 />"
   ]
  },
  {
   "cell_type": "markdown",
   "metadata": {},
   "source": [
    "<img src=\"figures/cap1.17.png\" width=600 />"
   ]
  },
  {
   "cell_type": "markdown",
   "metadata": {},
   "source": [
    "## The delta rule and the Hebb rule: A comparison"
   ]
  },
  {
   "cell_type": "markdown",
   "metadata": {},
   "source": [
    "<img src=\"figures/cap1.18.png\" />"
   ]
  },
  {
   "cell_type": "markdown",
   "metadata": {},
   "source": [
    "# FURTHER EXTENSIONS OF THE DELTA RULE—MULTI-LAYER NETWORKS AND NONLINEAR MAPPINGS"
   ]
  },
  {
   "cell_type": "markdown",
   "metadata": {},
   "source": [
    "<img src=\"figures/cap1.19.png\" width=600 />"
   ]
  },
  {
   "cell_type": "markdown",
   "metadata": {},
   "source": [
    "# FEEDBACK AND RECURRENT ARCHITECTURES\n",
    "* Within-layer feedback and winner-takes-all dynamics\n",
    "* Between-layer feedback and attractor dynamics"
   ]
  },
  {
   "cell_type": "markdown",
   "metadata": {},
   "source": [
    "## Within-layer feedback and winner-takes-all dynamics"
   ]
  },
  {
   "cell_type": "markdown",
   "metadata": {},
   "source": [
    "<img src=\"figures/cap1.20.png\" width=600 />"
   ]
  },
  {
   "cell_type": "markdown",
   "metadata": {},
   "source": [
    "<img src=\"figures/cap1.21.png\"  />"
   ]
  },
  {
   "cell_type": "markdown",
   "metadata": {},
   "source": [
    "## Between-layer feedback and attractor dynamics"
   ]
  },
  {
   "cell_type": "markdown",
   "metadata": {},
   "source": [
    "# 참고문헌\n",
    "* [1] Connectionist Models in Cognitive Psycholgy - http://www.amazon.com/Connectionist-Cognitive-Psychology-Studies-Cognition/dp/0415646901/\n",
    "* [2] Introduction to Cognitive Science - http://users.metu.edu.tr/bozsahin/intro-cogsci/w1-history.ppt\n",
    "* [3] Connectionist Modeling  - http://people.umass.edu/alc/course_pages/fall_2004/modeling_behavior/lectures/connectionism.ppt \n",
    "* [4] Computationalism: The Very Idea - http://www.cs.bilkent.edu.tr/~david/papers/Computationalism.ppt\n",
    "* [5] Connectionist Approaches - http://www.slideshare.net/cheapiseth1/chapter-6-connectionist-approaches\n",
    "* [6] Connectionism vs. computationalism debate (wikipedia) - https://en.wikipedia.org/wiki/Connectionism#Connectionism_vs._computationalism_debate"
   ]
  }
 ],
 "metadata": {
  "kernelspec": {
   "display_name": "Python 2",
   "language": "python",
   "name": "python2"
  },
  "language_info": {
   "codemirror_mode": {
    "name": "ipython",
    "version": 2
   },
   "file_extension": ".py",
   "mimetype": "text/x-python",
   "name": "python",
   "nbconvert_exporter": "python",
   "pygments_lexer": "ipython2",
   "version": "2.7.10"
  }
 },
 "nbformat": 4,
 "nbformat_minor": 0
}
