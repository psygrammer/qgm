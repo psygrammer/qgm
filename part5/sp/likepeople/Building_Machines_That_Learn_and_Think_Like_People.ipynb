{
 "cells": [
  {
   "cell_type": "markdown",
   "metadata": {},
   "source": [
    "# Building Machines That Learn and Think Like People"
   ]
  },
  {
   "cell_type": "markdown",
   "metadata": {},
   "source": [
    "Abstract\n",
    "* 1 Introduction\n",
    "    - 1.1 What this article is not\n",
    "    - 1.2 Overview of the key ideas\n",
    "* 2 Cognitive and neural inspiration in artificial intelligence\n",
    "* 3 Challenges for building more human-like machines\n",
    "    - 3.1 The Characters Challenge\n",
    "    - 3.2 The Frostbite Challenge\n",
    "* 4 Core ingredients of human intelligence\n",
    "    - 4.1 Developmental start-up software\n",
    "        - 4.1.1 Intuitive physics\n",
    "        - 4.1.2 Intuitive psychology\n",
    "    - 4.2 Learning as rapid model building\n",
    "        - 4.2.1 Compositionality\n",
    "        - 4.2.2 Causality\n",
    "        - 4.2.3 Learning-to-learn\n",
    "    - 4.3 Thinking Fast\n",
    "        - 4.3.1 Approximate inference in structured models\n",
    "        - 4.3.2 Model-based and model-free reinforcement learning\n",
    "* 5 Responses to common questions\n",
    "    - 1 Comparing the learning speeds of humans and neural networks on specific tasks is not meaningful, because humans have extensive prior experience.\n",
    "    - 2 Biological plausibility suggests theories of intelligence should start with neural networks.\n",
    "    - 3 Language is essential for human intelligence. Why is it not more prominent here?\n",
    "* 6 Looking forward\n",
    "    - 6.1 Promising directions in deep learning\n",
    "    - 6.2 Future applications to practical AI problems\n",
    "    - 6.3 Towards more human-like learning and thinking machines"
   ]
  },
  {
   "cell_type": "markdown",
   "metadata": {},
   "source": [
    "Abstract"
   ]
  },
  {
   "cell_type": "markdown",
   "metadata": {},
   "source": [
    "# 1. Introduction\n",
    "* 1.1 What this article is not\n",
    "* 1.2 Overview of the key ideas"
   ]
  },
  {
   "cell_type": "markdown",
   "metadata": {},
   "source": [
    "## 1.1 What this article is not"
   ]
  },
  {
   "cell_type": "markdown",
   "metadata": {},
   "source": [
    "## 1.2 Overview of the key ideas"
   ]
  },
  {
   "cell_type": "markdown",
   "metadata": {},
   "source": [
    "# 2 Cognitive and neural inspiration in artificial intelligence"
   ]
  },
  {
   "cell_type": "markdown",
   "metadata": {},
   "source": [
    "# 3 Challenges for building more human-like machines\n",
    "* 3.1 The Characters Challenge\n",
    "* 3.2 The Frostbite Challenge"
   ]
  },
  {
   "cell_type": "markdown",
   "metadata": {},
   "source": [
    "## 3.1 The Characters Challenge"
   ]
  },
  {
   "cell_type": "markdown",
   "metadata": {},
   "source": [
    "<img src=\"figures/cap1.png\" width=600 />"
   ]
  },
  {
   "cell_type": "markdown",
   "metadata": {},
   "source": [
    "## 3.2 The Frostbite Challenge"
   ]
  },
  {
   "cell_type": "markdown",
   "metadata": {},
   "source": [
    "<img src=\"figures/cap2.png\" width=600 />"
   ]
  },
  {
   "cell_type": "markdown",
   "metadata": {},
   "source": [
    "<img src=\"figures/cap3.png\" width=600 />"
   ]
  },
  {
   "cell_type": "markdown",
   "metadata": {},
   "source": [
    "# 4 Core ingredients of human intelligence\n",
    "* 4.1 Developmental start-up software\n",
    "* 4.2 Learning as rapid model building\n",
    "* 4.3 Thinking Fast"
   ]
  },
  {
   "cell_type": "markdown",
   "metadata": {},
   "source": [
    "## 4.1 Developmental start-up software\n",
    "* 4.1.1 Intuitive physics\n",
    "* 4.1.2 Intuitive psychology"
   ]
  },
  {
   "cell_type": "markdown",
   "metadata": {},
   "source": [
    "### 4.1.1 Intuitive physics"
   ]
  },
  {
   "cell_type": "markdown",
   "metadata": {},
   "source": [
    "<img src=\"figures/cap4.png\" width=600 />"
   ]
  },
  {
   "cell_type": "markdown",
   "metadata": {},
   "source": [
    "### 4.1.2 Intuitive psychology"
   ]
  },
  {
   "cell_type": "markdown",
   "metadata": {},
   "source": [
    "## 4.2 Learning as rapid model building\n",
    "* 4.2.1 Compositionality\n",
    "* 4.2.2 Causality\n",
    "* 4.2.3 Learning-to-learn"
   ]
  },
  {
   "cell_type": "markdown",
   "metadata": {},
   "source": [
    "<img src=\"figures/cap5.png\" width=600 />"
   ]
  },
  {
   "cell_type": "markdown",
   "metadata": {},
   "source": [
    "### 4.2.1 Compositionality"
   ]
  },
  {
   "cell_type": "markdown",
   "metadata": {},
   "source": [
    "<img src=\"figures/cap6.png\" width=600 />"
   ]
  },
  {
   "cell_type": "markdown",
   "metadata": {},
   "source": [
    "### 4.2.2 Causality"
   ]
  },
  {
   "cell_type": "markdown",
   "metadata": {},
   "source": [
    "### 4.2.3 Learning-to-learn"
   ]
  },
  {
   "cell_type": "markdown",
   "metadata": {},
   "source": [
    "## 4.3 Thinking Fast\n",
    "* 4.3.1 Approximate inference in structured models\n",
    "* 4.3.2 Model-based and model-free reinforcement learning"
   ]
  },
  {
   "cell_type": "markdown",
   "metadata": {},
   "source": [
    "### 4.3.1 Approximate inference in structured models"
   ]
  },
  {
   "cell_type": "markdown",
   "metadata": {},
   "source": [
    "### 4.3.2 Model-based and model-free reinforcement learning"
   ]
  },
  {
   "cell_type": "markdown",
   "metadata": {},
   "source": [
    "# 5 Responses to common questions\n",
    "* 1 Comparing the learning speeds of humans and neural networks on specific tasks is not meaningful, because humans have extensive prior experience.\n",
    "* 2 Biological plausibility suggests theories of intelligence should start with neural networks.\n",
    "* 3 Language is essential for human intelligence. Why is it not more prominent here?"
   ]
  },
  {
   "cell_type": "markdown",
   "metadata": {},
   "source": [
    "## 1 Comparing the learning speeds of humans and neural networks on specific tasks is not meaningful, because humans have extensive prior experience."
   ]
  },
  {
   "cell_type": "markdown",
   "metadata": {},
   "source": [
    "## 2 Biological plausibility suggests theories of intelligence should start with neural networks."
   ]
  },
  {
   "cell_type": "markdown",
   "metadata": {},
   "source": [
    "## 3 Language is essential for human intelligence. Why is it not more prominent here?"
   ]
  },
  {
   "cell_type": "markdown",
   "metadata": {},
   "source": [
    "# 6 Looking forward\n",
    "* 6.1 Promising directions in deep learning\n",
    "* 6.2 Future applications to practical AI problems\n",
    "* 6.3 Towards more human-like learning and thinking machines"
   ]
  },
  {
   "cell_type": "markdown",
   "metadata": {},
   "source": [
    "## 6.1 Promising directions in deep learning"
   ]
  },
  {
   "cell_type": "markdown",
   "metadata": {},
   "source": [
    "<img src=\"figures/cap7.png\" width=600 />"
   ]
  },
  {
   "cell_type": "markdown",
   "metadata": {},
   "source": [
    "## 6.2 Future applications to practical AI problems"
   ]
  },
  {
   "cell_type": "markdown",
   "metadata": {},
   "source": [
    "## 6.3 Towards more human-like learning and thinking machines"
   ]
  },
  {
   "cell_type": "markdown",
   "metadata": {},
   "source": [
    "# 참고자료\n",
    "* [1] Building Machines That Learn and Think Like People - https://arxiv.org/abs/1604.00289"
   ]
  }
 ],
 "metadata": {
  "kernelspec": {
   "display_name": "Python 2",
   "language": "python",
   "name": "python2"
  },
  "language_info": {
   "codemirror_mode": {
    "name": "ipython",
    "version": 2
   },
   "file_extension": ".py",
   "mimetype": "text/x-python",
   "name": "python",
   "nbconvert_exporter": "python",
   "pygments_lexer": "ipython2",
   "version": "2.7.10"
  }
 },
 "nbformat": 4,
 "nbformat_minor": 0
}
