{
 "cells": [
  {
   "cell_type": "markdown",
   "metadata": {},
   "source": [
    "# 9. Computational models of visual selective attention: A review"
   ]
  },
  {
   "cell_type": "markdown",
   "metadata": {},
   "source": [
    "* 싸이그래머 / QGM : 파트 5 - 연결주의모형 [1]\n",
    "* 김무성"
   ]
  },
  {
   "cell_type": "markdown",
   "metadata": {},
   "source": [
    "# Contents\n",
    "* INTRODUCTION\n",
    "    - Space- vs. object-based attention\n",
    "    - Stimulus-filtering tasks\n",
    "    - Visual search\n",
    "    - Neuropsychological disorders\n",
    "        - Visual agnosia\n",
    "        - Visual neglect\n",
    "    - Organization of this chapter\n",
    "* COMPUTATIONAL MODELS OF VISUAL SELECTION\n",
    "    - The selective attention model (SLAM)\n",
    "    - Guided search (GS) and other models of visual search\n",
    "    - Search via recursive rejection model (SERR)\n",
    "    - Multiple object recognition and attentional selection (MORSEL) (Fig. 9.4)\n",
    "    - Selective attention for identification model (SAIM)\n",
    "* NEUROPSYCHOLOGICAL DEFICITS\n",
    "    - Visual agnosia\n",
    "    - Unilateral neglect and extinction\n",
    "        - Extinction\n",
    "        - Neglect\n",
    "* DISCUSSION\n",
    "    - Emergent properties and existence proofs\n",
    "    - Comparisons between models\n",
    "    - Modelling neuropsychological data\n",
    "* CONCLUSION"
   ]
  },
  {
   "cell_type": "markdown",
   "metadata": {},
   "source": [
    "# INTRODUCTION\n",
    "* Space- vs. object-based attention\n",
    "* Stimulus-filtering tasks\n",
    "* Visual search\n",
    "* Neuropsychological disorders\n",
    "    - Visual agnosia\n",
    "    - Visual neglect\n",
    "* Organization of this chapter"
   ]
  },
  {
   "cell_type": "markdown",
   "metadata": {},
   "source": [
    "## Space- vs. object-based attention"
   ]
  },
  {
   "cell_type": "markdown",
   "metadata": {},
   "source": [
    "## Stimulus-filtering tasks"
   ]
  },
  {
   "cell_type": "markdown",
   "metadata": {},
   "source": [
    "## Visual search"
   ]
  },
  {
   "cell_type": "markdown",
   "metadata": {},
   "source": [
    "## Neuropsychological disorders\n",
    "* Visual agnosia\n",
    "* Visual neglect"
   ]
  },
  {
   "cell_type": "markdown",
   "metadata": {},
   "source": [
    "### Visual agnosia"
   ]
  },
  {
   "cell_type": "markdown",
   "metadata": {},
   "source": [
    "### Visual neglect"
   ]
  },
  {
   "cell_type": "markdown",
   "metadata": {},
   "source": [
    "## Organization of this chapter"
   ]
  },
  {
   "cell_type": "markdown",
   "metadata": {},
   "source": [
    "# COMPUTATIONAL MODELS OF VISUAL SELECTION\n",
    "* The selective attention model (SLAM)\n",
    "* Guided search (GS) and other models of visual search\n",
    "* Search via recursive rejection model (SERR)\n",
    "* Multiple object recognition and attentional selection (MORSEL) (Fig. 9.4)\n",
    "* Selective attention for identification model (SAIM)"
   ]
  },
  {
   "cell_type": "markdown",
   "metadata": {},
   "source": [
    "## The selective attention model (SLAM)"
   ]
  },
  {
   "cell_type": "markdown",
   "metadata": {},
   "source": [
    "<img src=\"figures/cap9.1.png\" width=600 />"
   ]
  },
  {
   "cell_type": "markdown",
   "metadata": {},
   "source": [
    "## Guided search (GS) and other models of visual search"
   ]
  },
  {
   "cell_type": "markdown",
   "metadata": {},
   "source": [
    "<img src=\"figures/cap9.2.png\" width=600 />"
   ]
  },
  {
   "cell_type": "markdown",
   "metadata": {},
   "source": [
    "## Search via recursive rejection model (SERR)"
   ]
  },
  {
   "cell_type": "markdown",
   "metadata": {},
   "source": [
    "<img src=\"figures/cap9.3.png\" width=600 />\n",
    "<img src=\"figures/cap9.4.png\" width=600 />"
   ]
  },
  {
   "cell_type": "markdown",
   "metadata": {},
   "source": [
    "## Multiple object recognition and attentional selection (MORSEL) (Fig. 9.4)"
   ]
  },
  {
   "cell_type": "markdown",
   "metadata": {},
   "source": [
    "<img src=\"figures/cap9.5.png\" width=600 />"
   ]
  },
  {
   "cell_type": "markdown",
   "metadata": {},
   "source": [
    "## Selective attention for identification model (SAIM)"
   ]
  },
  {
   "cell_type": "markdown",
   "metadata": {},
   "source": [
    "<img src=\"figures/cap9.6.png\" width=600 />"
   ]
  },
  {
   "cell_type": "markdown",
   "metadata": {},
   "source": [
    "<img src=\"figures/cap9.7.png\" width=600 />"
   ]
  },
  {
   "cell_type": "markdown",
   "metadata": {},
   "source": [
    "# NEUROPSYCHOLOGICAL DEFICITS\n",
    "* Visual agnosia\n",
    "* Unilateral neglect and extinction\n",
    "    - Extinction\n",
    "    - Neglect"
   ]
  },
  {
   "cell_type": "markdown",
   "metadata": {},
   "source": [
    "## Visual agnosia"
   ]
  },
  {
   "cell_type": "markdown",
   "metadata": {},
   "source": [
    "## Unilateral neglect and extinction\n",
    "* Extinction\n",
    "* Neglect"
   ]
  },
  {
   "cell_type": "markdown",
   "metadata": {},
   "source": [
    "### Extinction"
   ]
  },
  {
   "cell_type": "markdown",
   "metadata": {},
   "source": [
    "### Neglect"
   ]
  },
  {
   "cell_type": "markdown",
   "metadata": {},
   "source": [
    "<img src=\"figures/cap9.8.png\" width=600 />"
   ]
  },
  {
   "cell_type": "markdown",
   "metadata": {},
   "source": [
    "<img src=\"figures/cap9.9.png\" width=600 />"
   ]
  },
  {
   "cell_type": "markdown",
   "metadata": {},
   "source": [
    "<img src=\"figures/cap9.10.png\" width=600 />"
   ]
  },
  {
   "cell_type": "markdown",
   "metadata": {},
   "source": [
    "# DISCUSSION\n",
    "* Emergent properties and existence proofs\n",
    "* Comparisons between models\n",
    "* Modelling neuropsychological data"
   ]
  },
  {
   "cell_type": "markdown",
   "metadata": {},
   "source": [
    "## Emergent properties and existence proofs"
   ]
  },
  {
   "cell_type": "markdown",
   "metadata": {},
   "source": [
    "## Comparisons between models"
   ]
  },
  {
   "cell_type": "markdown",
   "metadata": {},
   "source": [
    "## Modelling neuropsychological data"
   ]
  },
  {
   "cell_type": "markdown",
   "metadata": {},
   "source": [
    "# CONCLUSION"
   ]
  },
  {
   "cell_type": "markdown",
   "metadata": {
    "collapsed": true
   },
   "source": [
    "# 참고자료\n",
    "* [1] Connectionist Models in Cognitive Psycholgy - http://www.amazon.com/Connectionist-Cognitive-Psychology-Studies-Cognition/dp/0415646901/"
   ]
  }
 ],
 "metadata": {
  "kernelspec": {
   "display_name": "Python 2",
   "language": "python",
   "name": "python2"
  },
  "language_info": {
   "codemirror_mode": {
    "name": "ipython",
    "version": 2
   },
   "file_extension": ".py",
   "mimetype": "text/x-python",
   "name": "python",
   "nbconvert_exporter": "python",
   "pygments_lexer": "ipython2",
   "version": "2.7.6"
  }
 },
 "nbformat": 4,
 "nbformat_minor": 0
}
