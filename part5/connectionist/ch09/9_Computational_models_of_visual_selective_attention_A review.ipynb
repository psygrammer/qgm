{
 "cells": [
  {
   "cell_type": "markdown",
   "metadata": {},
   "source": [
    "# 9. Computational models of visual selective attention: A review"
   ]
  },
  {
   "cell_type": "markdown",
   "metadata": {},
   "source": [
    "* 싸이그래머 / QGM : 파트 5 - 연결주의모형 [1]\n",
    "* 김무성"
   ]
  },
  {
   "cell_type": "markdown",
   "metadata": {},
   "source": [
    "# Contents\n",
    "* INTRODUCTION\n",
    "    - Space- vs. object-based attention\n",
    "    - Stimulus-filtering tasks\n",
    "    - Visual search\n",
    "    - Neuropsychological disorders\n",
    "        - Visual agnosia\n",
    "        - Visual neglect\n",
    "    - Organization of this chapter\n",
    "* COMPUTATIONAL MODELS OF VISUAL SELECTION\n",
    "    - The selective attention model (SLAM)\n",
    "    - Guided search (GS) and other models of visual search\n",
    "    - Search via recursive rejection model (SERR)\n",
    "    - Multiple object recognition and attentional selection (MORSEL) (Fig. 9.4)\n",
    "    - Selective attention for identification model (SAIM)\n",
    "* NEUROPSYCHOLOGICAL DEFICITS\n",
    "    - Visual agnosia\n",
    "    - Unilateral neglect and extinction\n",
    "        - Extinction\n",
    "        - Neglect\n",
    "* DISCUSSION\n",
    "    - Emergent properties and existence proofs\n",
    "    - Comparisons between models\n",
    "    - Modelling neuropsychological data\n",
    "* CONCLUSION"
   ]
  },
  {
   "cell_type": "markdown",
   "metadata": {},
   "source": [
    "#### 참고\n",
    "* [2] <font color=\"red\">Attention(일반,인지심리)</font> - http://www.slideshare.net/elladiopol/attention-36781273\n",
    "* [3] <font color=\"red\">Sj 공학심리학 Ch3 Selective Attention(공학심리, display)</font> - http://www.slideshare.net/rache02/sj-ch3-selective-attention\n",
    "* [4] Visual attention: models and performance - http://www.slideshare.net/OlivierLeMeur/visual-attention-models-and-performance\n",
    "* [5] Attention(의식) - http://www.slideshare.net/drjayeshpatidar/attention-44340875\n",
    "* [6] <font color=\"red\">Lecture 6 Attention (임상)</font> - http://www.utm.utoronto.ca/~w3psy295/attention.ppt\n",
    "* [7] Deep Learning for Computer Vision: Attention Models (UPC 2016) - http://www.slideshare.net/xavigiro/deep-learning-for-computer-vision-attention-models-upc-2016"
   ]
  },
  {
   "cell_type": "markdown",
   "metadata": {},
   "source": [
    "# INTRODUCTION\n",
    "* Space- vs. object-based attention\n",
    "* Stimulus-filtering tasks\n",
    "* Visual search\n",
    "* Neuropsychological disorders\n",
    "    - Visual agnosia\n",
    "    - Visual neglect\n",
    "* Organization of this chapter"
   ]
  },
  {
   "cell_type": "markdown",
   "metadata": {},
   "source": [
    "<font color=\"red\">This chapter reviews some of the major computational models of visual attention and highlights how they help to clarify concepts in psychological theories</font>. \n",
    "* To do this we focus on \n",
    "    - some of the major issues and \n",
    "    - experimental paradigms that \n",
    "        - have influenced psychologists,\n",
    "            - including \n",
    "                - space- vs. object- based attention, \n",
    "                - stimulus filtering tasks, and \n",
    "                - visual search. \n",
    "* We also discuss \n",
    "    - how the models can be used to \n",
    "        - simulate neuropsychological disorders of visual cognition, \n",
    "            - including \n",
    "                - agnosia and \n",
    "                - neglect—disorders \n",
    "                - that themselves highlight particular theoretical issues, such as\n",
    "                    - the role of parallel grouping processes in vision, \n",
    "                    - the relations between attention and \n",
    "                    - spatial representation, and \n",
    "                    - the interaction between \n",
    "                        - bottom-up and \n",
    "                        - top-down factors in selection. \n",
    "* We conclude by evaluating the contribution of the modelling process to understanding cognition."
   ]
  },
  {
   "cell_type": "markdown",
   "metadata": {},
   "source": [
    "## Space- vs. object-based attention"
   ]
  },
  {
   "cell_type": "markdown",
   "metadata": {},
   "source": [
    "## Stimulus-filtering tasks"
   ]
  },
  {
   "cell_type": "markdown",
   "metadata": {},
   "source": [
    "## Visual search"
   ]
  },
  {
   "cell_type": "markdown",
   "metadata": {},
   "source": [
    "## Neuropsychological disorders\n",
    "* Visual agnosia\n",
    "* Visual neglect"
   ]
  },
  {
   "cell_type": "markdown",
   "metadata": {},
   "source": [
    "### Visual agnosia"
   ]
  },
  {
   "cell_type": "markdown",
   "metadata": {},
   "source": [
    "### Visual neglect"
   ]
  },
  {
   "cell_type": "markdown",
   "metadata": {},
   "source": [
    "## Organization of this chapter"
   ]
  },
  {
   "cell_type": "markdown",
   "metadata": {},
   "source": [
    "# COMPUTATIONAL MODELS OF VISUAL SELECTION\n",
    "* The selective attention model (SLAM)\n",
    "* Guided search (GS) and other models of visual search\n",
    "* Search via recursive rejection model (SERR)\n",
    "* Multiple object recognition and attentional selection (MORSEL) (Fig. 9.4)\n",
    "* Selective attention for identification model (SAIM)"
   ]
  },
  {
   "cell_type": "markdown",
   "metadata": {},
   "source": [
    "## The selective attention model (SLAM)"
   ]
  },
  {
   "cell_type": "markdown",
   "metadata": {},
   "source": [
    "<img src=\"figures/cap9.1.png\" width=600 />"
   ]
  },
  {
   "cell_type": "markdown",
   "metadata": {},
   "source": [
    "## Guided search (GS) and other models of visual search"
   ]
  },
  {
   "cell_type": "markdown",
   "metadata": {},
   "source": [
    "<img src=\"figures/cap9.2.png\" width=600 />"
   ]
  },
  {
   "cell_type": "markdown",
   "metadata": {},
   "source": [
    "## Search via recursive rejection model (SERR)"
   ]
  },
  {
   "cell_type": "markdown",
   "metadata": {},
   "source": [
    "<img src=\"figures/cap9.3.png\" width=600 />\n",
    "<img src=\"figures/cap9.4.png\" width=600 />"
   ]
  },
  {
   "cell_type": "markdown",
   "metadata": {},
   "source": [
    "## Multiple object recognition and attentional selection (MORSEL) (Fig. 9.4)"
   ]
  },
  {
   "cell_type": "markdown",
   "metadata": {},
   "source": [
    "<img src=\"figures/cap9.5.png\" width=600 />"
   ]
  },
  {
   "cell_type": "markdown",
   "metadata": {},
   "source": [
    "## Selective attention for identification model (SAIM)"
   ]
  },
  {
   "cell_type": "markdown",
   "metadata": {},
   "source": [
    "<img src=\"figures/cap9.6.png\" width=600 />"
   ]
  },
  {
   "cell_type": "markdown",
   "metadata": {},
   "source": [
    "<img src=\"figures/cap9.7.png\" width=600 />"
   ]
  },
  {
   "cell_type": "markdown",
   "metadata": {},
   "source": [
    "# NEUROPSYCHOLOGICAL DEFICITS\n",
    "* Visual agnosia\n",
    "* Unilateral neglect and extinction\n",
    "    - Extinction\n",
    "    - Neglect"
   ]
  },
  {
   "cell_type": "markdown",
   "metadata": {},
   "source": [
    "## Visual agnosia"
   ]
  },
  {
   "cell_type": "markdown",
   "metadata": {},
   "source": [
    "## Unilateral neglect and extinction\n",
    "* Extinction\n",
    "* Neglect"
   ]
  },
  {
   "cell_type": "markdown",
   "metadata": {},
   "source": [
    "### Extinction"
   ]
  },
  {
   "cell_type": "markdown",
   "metadata": {},
   "source": [
    "### Neglect"
   ]
  },
  {
   "cell_type": "markdown",
   "metadata": {},
   "source": [
    "<img src=\"figures/cap9.8.png\" width=600 />"
   ]
  },
  {
   "cell_type": "markdown",
   "metadata": {},
   "source": [
    "<img src=\"figures/cap9.9.png\" width=600 />"
   ]
  },
  {
   "cell_type": "markdown",
   "metadata": {},
   "source": [
    "<img src=\"figures/cap9.10.png\" width=600 />"
   ]
  },
  {
   "cell_type": "markdown",
   "metadata": {},
   "source": [
    "# DISCUSSION\n",
    "* Emergent properties and existence proofs\n",
    "* Comparisons between models\n",
    "* Modelling neuropsychological data"
   ]
  },
  {
   "cell_type": "markdown",
   "metadata": {},
   "source": [
    "## Emergent properties and existence proofs"
   ]
  },
  {
   "cell_type": "markdown",
   "metadata": {},
   "source": [
    "## Comparisons between models"
   ]
  },
  {
   "cell_type": "markdown",
   "metadata": {},
   "source": [
    "## Modelling neuropsychological data"
   ]
  },
  {
   "cell_type": "markdown",
   "metadata": {},
   "source": [
    "# CONCLUSION"
   ]
  },
  {
   "cell_type": "markdown",
   "metadata": {
    "collapsed": true
   },
   "source": [
    "# 참고자료\n",
    "* [1] Connectionist Models in Cognitive Psycholgy - http://www.amazon.com/Connectionist-Cognitive-Psychology-Studies-Cognition/dp/0415646901/\n",
    "* [2] Attention(일반,인지심리) - http://www.slideshare.net/elladiopol/attention-36781273\n",
    "* [3] Sj 공학심리학 Ch3 Selective Attention(공학심리, display) - http://www.slideshare.net/rache02/sj-ch3-selective-attention\n",
    "* [4] Visual attention: models and performance - http://www.slideshare.net/OlivierLeMeur/visual-attention-models-and-performance\n",
    "* [5] Attention(의식) - http://www.slideshare.net/drjayeshpatidar/attention-44340875\n",
    "* [6] Lecture 6 Attention (임상) - http://www.utm.utoronto.ca/~w3psy295/attention.ppt\n",
    "* [7] Deep Learning for Computer Vision: Attention Models (UPC 2016) - http://www.slideshare.net/xavigiro/deep-learning-for-computer-vision-attention-models-upc-2016"
   ]
  },
  {
   "cell_type": "code",
   "execution_count": null,
   "metadata": {
    "collapsed": true
   },
   "outputs": [],
   "source": []
  }
 ],
 "metadata": {
  "kernelspec": {
   "display_name": "Python 2",
   "language": "python",
   "name": "python2"
  },
  "language_info": {
   "codemirror_mode": {
    "name": "ipython",
    "version": 2
   },
   "file_extension": ".py",
   "mimetype": "text/x-python",
   "name": "python",
   "nbconvert_exporter": "python",
   "pygments_lexer": "ipython2",
   "version": "2.7.6"
  }
 },
 "nbformat": 4,
 "nbformat_minor": 0
}
