{
 "cells": [
  {
   "cell_type": "markdown",
   "metadata": {},
   "source": [
    "# 6. Quantum search algorithms"
   ]
  },
  {
   "cell_type": "markdown",
   "metadata": {},
   "source": [
    "* 싸이그래머 / QGM : 파트 4 - 양자 정보 [1]\n",
    "* 김무성"
   ]
  },
  {
   "cell_type": "markdown",
   "metadata": {},
   "source": [
    "# Contents\n",
    "* 6.1 The quantum search algorithm\n",
    "    - 6.1.1 The oracle\n",
    "    - 6.1.2 The procedure\n",
    "    - 6.1.3 Geometric visualization\n",
    "* 6.2 Quantum search as a quantum simulation\n",
    "* 6.3 Quantum counting\n",
    "* 6.4 Speeding up the solution of NP-complete problems\n",
    "* 6.5 Quantum search of an unstructured database\n",
    "* 6.6 Optimality of the search algorithm\n",
    "* 6.7 Black box algorithm limits"
   ]
  },
  {
   "cell_type": "markdown",
   "metadata": {},
   "source": [
    "#### 참고\n",
    "* [2] SNUON_컴퓨터과학이 여는 세계_12.1 양자의 특이한 세가지 현상 / 이광근 - https://www.youtube.com/watch?v=p1HFu7-gLjw\n",
    "* [3] SNUON_컴퓨터과학이 여는 세계_12.2 양자현상을 수학으로 표현하기 / 이광근 - https://www.youtube.com/watch?v=QAtGLcualF4\n",
    "* [4] SNUON_컴퓨터과학이 여는 세계_12.3 양자 인수분해 알고리즘 / 이광근 - https://www.youtube.com/watch?v=634xFLh0Mps\n",
    "* [5] SNUON_컴퓨터과학이 여는 세계_13.1 양자 탐색 알고리즘 / 이광근 - https://www.youtube.com/watch?v=OXtZLhRsVow\n",
    "* [8] Shor’s algorithm the ppt - http://www.slideshare.net/imrinalmondal/shors-algorithm-the-ppt\n",
    "* [10] Quantum information and computing - Lecture 9: Quantum search algorithms - http://theory.physics.helsinki.fi/~kvanttilaskenta/Lecture9.pdf\n",
    "* [11] Can Quantum Search take place in Nature ? Lov K. Grover - http://www.cs.indiana.edu/~dgerman/grover.ppt\n"
   ]
  },
  {
   "cell_type": "markdown",
   "metadata": {},
   "source": [
    "# 6.1 The quantum search algorithm\n",
    "* 6.1.1 The oracle\n",
    "* 6.1.2 The procedure\n",
    "* 6.1.3 Geometric visualization"
   ]
  },
  {
   "cell_type": "markdown",
   "metadata": {},
   "source": [
    "## 6.1.1 The oracle"
   ]
  },
  {
   "cell_type": "markdown",
   "metadata": {},
   "source": [
    "<img src=\"figures/cap6.1.png\" width=600 />"
   ]
  },
  {
   "cell_type": "markdown",
   "metadata": {},
   "source": [
    "## 6.1.2 The procedure"
   ]
  },
  {
   "cell_type": "markdown",
   "metadata": {},
   "source": [
    "<img src=\"figures/cap6.2.png\" width=600 />"
   ]
  },
  {
   "cell_type": "markdown",
   "metadata": {},
   "source": [
    "<img src=\"figures/cap6.3.png\" width=600 />\n",
    "<img src=\"figures/cap6.4.png\" width=600 />"
   ]
  },
  {
   "cell_type": "markdown",
   "metadata": {},
   "source": [
    "<img src=\"figures/cap6.5.png\" width=600 />"
   ]
  },
  {
   "cell_type": "markdown",
   "metadata": {},
   "source": [
    "<img src=\"figures/cap6.6.png\" width=600 />"
   ]
  },
  {
   "cell_type": "markdown",
   "metadata": {},
   "source": [
    "## 6.1.3 Geometric visualization"
   ]
  },
  {
   "cell_type": "markdown",
   "metadata": {},
   "source": [
    "<img src=\"figures/cap6.7.png\" />"
   ]
  },
  {
   "cell_type": "markdown",
   "metadata": {},
   "source": [
    "<img src=\"figures/cap6.8.png\" />"
   ]
  },
  {
   "cell_type": "markdown",
   "metadata": {},
   "source": [
    "<img src=\"figures/cap6.9.png\"  />"
   ]
  },
  {
   "cell_type": "markdown",
   "metadata": {},
   "source": [
    "<img src=\"figures/cap6.10.png\" width=600 />"
   ]
  },
  {
   "cell_type": "markdown",
   "metadata": {},
   "source": [
    "<img src=\"figures/cap6.11.png\" width=600 />"
   ]
  },
  {
   "cell_type": "markdown",
   "metadata": {},
   "source": [
    "<img src=\"figures/cap6.12.png\" width=600 />"
   ]
  },
  {
   "cell_type": "markdown",
   "metadata": {},
   "source": [
    "<img src=\"figures/cap6.13.png\" width=600 />"
   ]
  },
  {
   "cell_type": "markdown",
   "metadata": {},
   "source": [
    "<img src=\"figures/cap6.14.png\" width=600 />"
   ]
  },
  {
   "cell_type": "markdown",
   "metadata": {},
   "source": [
    "<img src=\"figures/cap6.15.png\" width=600 />"
   ]
  },
  {
   "cell_type": "markdown",
   "metadata": {},
   "source": [
    "<img src=\"figures/cap6.16.png\" width=600 />"
   ]
  },
  {
   "cell_type": "markdown",
   "metadata": {},
   "source": [
    "<img src=\"figures/cap6.17.png\" width=600 />"
   ]
  },
  {
   "cell_type": "markdown",
   "metadata": {},
   "source": [
    "<img src=\"figures/cap6.18.png\" width=600 />"
   ]
  },
  {
   "cell_type": "markdown",
   "metadata": {},
   "source": [
    "# 6.2 Quantum search as a quantum simulation"
   ]
  },
  {
   "cell_type": "markdown",
   "metadata": {},
   "source": [
    "#### Box 6.1: Quantum search: a two-bit example"
   ]
  },
  {
   "cell_type": "markdown",
   "metadata": {},
   "source": [
    "<img src=\"figures/cap6.19.png\" width=600 />"
   ]
  },
  {
   "cell_type": "markdown",
   "metadata": {},
   "source": [
    "<img src=\"figures/cap6.20.png\" width=600 />"
   ]
  },
  {
   "cell_type": "markdown",
   "metadata": {},
   "source": [
    "<img src=\"figures/cap6.21.png\" width=600 />"
   ]
  },
  {
   "cell_type": "markdown",
   "metadata": {},
   "source": [
    "<img src=\"figures/cap6.22.png\" width=600 />"
   ]
  },
  {
   "cell_type": "markdown",
   "metadata": {},
   "source": [
    "<img src=\"figures/cap6.23.png\" width=600 />"
   ]
  },
  {
   "cell_type": "markdown",
   "metadata": {},
   "source": [
    "<img src=\"figures/cap6.24.png\" width=600 />"
   ]
  },
  {
   "cell_type": "markdown",
   "metadata": {},
   "source": [
    "<img src=\"figures/cap6.25.png\" width=600 />"
   ]
  },
  {
   "cell_type": "markdown",
   "metadata": {},
   "source": [
    "<img src=\"figures/cap6.26.png\" width=600 />"
   ]
  },
  {
   "cell_type": "markdown",
   "metadata": {},
   "source": [
    "<img src=\"figures/cap6.27.png\" width=600 />"
   ]
  },
  {
   "cell_type": "markdown",
   "metadata": {},
   "source": [
    "# 6.3 Quantum counting"
   ]
  },
  {
   "cell_type": "markdown",
   "metadata": {},
   "source": [
    "<img src=\"figures/cap6.28.png\" width=600 />"
   ]
  },
  {
   "cell_type": "markdown",
   "metadata": {},
   "source": [
    "<img src=\"figures/cap6.29.png\" width=600 />"
   ]
  },
  {
   "cell_type": "markdown",
   "metadata": {},
   "source": [
    "# 6.4 Speeding up the solution of NP-complete problems"
   ]
  },
  {
   "cell_type": "markdown",
   "metadata": {},
   "source": [
    "<img src=\"figures/cap6.30.png\" width=600 />"
   ]
  },
  {
   "cell_type": "markdown",
   "metadata": {},
   "source": [
    "# 6.5 Quantum search of an unstructured database"
   ]
  },
  {
   "cell_type": "markdown",
   "metadata": {},
   "source": [
    "<img src=\"figures/cap6.31.png\" width=600 />"
   ]
  },
  {
   "cell_type": "markdown",
   "metadata": {},
   "source": [
    "<img src=\"figures/cap6.32.png\" width=600 />"
   ]
  },
  {
   "cell_type": "markdown",
   "metadata": {},
   "source": [
    "<img src=\"figures/cap6.33.png\" width=600 />"
   ]
  },
  {
   "cell_type": "markdown",
   "metadata": {},
   "source": [
    "<img src=\"figures/cap6.34.png\" width=600 />"
   ]
  },
  {
   "cell_type": "markdown",
   "metadata": {},
   "source": [
    "<img src=\"figures/cap6.35.png\" width=600 />\n",
    "<img src=\"figures/cap6.36.png\" width=600 />"
   ]
  },
  {
   "cell_type": "markdown",
   "metadata": {},
   "source": [
    "# 6.6 Optimality of the search algorithm"
   ]
  },
  {
   "cell_type": "markdown",
   "metadata": {},
   "source": [
    "<img src=\"figures/cap6.37.png\" width=600 />"
   ]
  },
  {
   "cell_type": "markdown",
   "metadata": {},
   "source": [
    "<img src=\"figures/cap6.38.png\" width=600 />"
   ]
  },
  {
   "cell_type": "markdown",
   "metadata": {},
   "source": [
    "<img src=\"figures/cap6.39.png\" width=600 />"
   ]
  },
  {
   "cell_type": "markdown",
   "metadata": {},
   "source": [
    "<img src=\"figures/cap6.40.png\" width=600 />"
   ]
  },
  {
   "cell_type": "markdown",
   "metadata": {},
   "source": [
    "# 6.7 Black box algorithm limits"
   ]
  },
  {
   "cell_type": "markdown",
   "metadata": {},
   "source": [
    "<img src=\"figures/cap6.41.png\" width=600 />"
   ]
  },
  {
   "cell_type": "markdown",
   "metadata": {},
   "source": [
    "<img src=\"figures/cap6.42.png\" width=600 />"
   ]
  },
  {
   "cell_type": "markdown",
   "metadata": {},
   "source": [
    "<img src=\"figures/cap6.43.png\" width=600 />"
   ]
  },
  {
   "cell_type": "markdown",
   "metadata": {},
   "source": [
    "<img src=\"figures/cap6.44.png\" width=600 />"
   ]
  },
  {
   "cell_type": "markdown",
   "metadata": {},
   "source": [
    "<img src=\"figures/cap6.45.png\" width=600 />"
   ]
  },
  {
   "cell_type": "markdown",
   "metadata": {},
   "source": [
    "<img src=\"figures/cap6.46.png\" width=600 />"
   ]
  },
  {
   "cell_type": "markdown",
   "metadata": {},
   "source": [
    "<img src=\"figures/cap6.47.png\" width=600 />"
   ]
  },
  {
   "cell_type": "markdown",
   "metadata": {},
   "source": [
    "<img src=\"figures/cap6.48.png\" width=600 />"
   ]
  },
  {
   "cell_type": "markdown",
   "metadata": {},
   "source": [
    "# 참고자료"
   ]
  },
  {
   "cell_type": "markdown",
   "metadata": {},
   "source": [
    "#### 교재 \n",
    "* [1] Quantum Computation and Quantum Information - http://www.amazon.com/Quantum-Computation-Information-Cambridge-Sciences/dp/0521635039/\n",
    "\n",
    "#### 양자 컴퓨팅 기초 \n",
    "* [2] SNUON_컴퓨터과학이 여는 세계_12.1 양자의 특이한 세가지 현상 / 이광근 - https://www.youtube.com/watch?v=p1HFu7-gLjw\n",
    "* [3] SNUON_컴퓨터과학이 여는 세계_12.2 양자현상을 수학으로 표현하기 / 이광근 - https://www.youtube.com/watch?v=QAtGLcualF4\n",
    "* [4] SNUON_컴퓨터과학이 여는 세계_12.3 양자 인수분해 알고리즘 / 이광근 - https://www.youtube.com/watch?v=634xFLh0Mps\n",
    "* [5] SNUON_컴퓨터과학이 여는 세계_13.1 양자 탐색 알고리즘 / 이광근 - https://www.youtube.com/watch?v=OXtZLhRsVow\n",
    "\n",
    "* [6] Quantum Computing (양자 컴퓨팅) (현재 페이지 못찾음) - http://deepcumen.com/quantum-computing-%EC%96%91%EC%9E%90-%EC%BB%B4%ED%93%A8%ED%8C%85/ \n",
    "* [7] 양자 정보, 양자 계산에 대하여 - http://www.mathnet.or.kr/file/106.pdf\n",
    "\n",
    "#### 양자 컴퓨팅 기초 : 오퍼레이터(게이트), 수식\n",
    "* [8] Shor’s algorithm the ppt - http://www.slideshare.net/imrinalmondal/shors-algorithm-the-ppt\n",
    "\n",
    "\n",
    "#### Quantum Serach \n",
    "* [9] SNUON_컴퓨터과학이 여는 세계_13.1 양자 탐색 알고리즘 / 이광근 - https://www.youtube.com/watch?v=OXtZLhRsVow\n",
    "* [10] Quantum information and computing - Lecture 9: Quantum search algorithms - http://theory.physics.helsinki.fi/~kvanttilaskenta/Lecture9.pdf\n",
    "* [11] Can Quantum Search take place in Nature ? Lov K. Grover - http://www.cs.indiana.edu/~dgerman/grover.ppt\n"
   ]
  },
  {
   "cell_type": "code",
   "execution_count": null,
   "metadata": {
    "collapsed": true
   },
   "outputs": [],
   "source": []
  }
 ],
 "metadata": {
  "kernelspec": {
   "display_name": "Python 2",
   "language": "python",
   "name": "python2"
  },
  "language_info": {
   "codemirror_mode": {
    "name": "ipython",
    "version": 2
   },
   "file_extension": ".py",
   "mimetype": "text/x-python",
   "name": "python",
   "nbconvert_exporter": "python",
   "pygments_lexer": "ipython2",
   "version": "2.7.6"
  }
 },
 "nbformat": 4,
 "nbformat_minor": 0
}
